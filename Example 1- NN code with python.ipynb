{
 "cells": [
  {
   "cell_type": "code",
   "execution_count": 23,
   "id": "2296224f-0588-44e3-a26d-a6710dd3afc3",
   "metadata": {},
   "outputs": [],
   "source": [
    "import numpy as np\n",
    "neuron = 4"
   ]
  },
  {
   "cell_type": "code",
   "execution_count": 24,
   "id": "51038db5-3efb-4d24-aea7-beab1685ec41",
   "metadata": {},
   "outputs": [],
   "source": [
    "def sigmoid(x):\n",
    "    return 1.0 / (1 + np.exp(-x))"
   ]
  },
  {
   "cell_type": "code",
   "execution_count": 25,
   "id": "696e5517-2888-4298-93c7-11d5a55ca29e",
   "metadata": {},
   "outputs": [],
   "source": [
    "def sigmoid_derivative(x):\n",
    "    return x * (1.0 - x)"
   ]
  },
  {
   "cell_type": "code",
   "execution_count": 26,
   "id": "e97604cc-82be-4f85-818f-67094f161a4c",
   "metadata": {},
   "outputs": [],
   "source": [
    "class NeuralNetwork:\n",
    "    def __init__(self, x,y):\n",
    "        self.input = x\n",
    "        print('inputs \\n', self.input)\n",
    "        print()\n",
    "        self.weights1 = np.random.rand(self.input.shape[1], neuron)\n",
    "        print('weights1 \\n', self.weights1)\n",
    "        print()\n",
    "        self.weights2 = np.random.rand(neuron, 1)\n",
    "        print('weights2 \\n', self.weights2)\n",
    "        print()\n",
    "        self.y = y\n",
    "        print('y \\n', self.y)\n",
    "        print()\n",
    "        self.output = np.zeros(self.y.shape)\n",
    "        print('output \\n', self.output)\n",
    "        print()\n",
    "\n",
    "    def feedforward(self):\n",
    "        self.layer1 = sigmoid(np.dot(self.input, self.weights1))\n",
    "        #print('layer1 \\n', self.layer1)\n",
    "        #print()\n",
    "        self.output = sigmoid(np.dot(self.layer1, self.weights2))\n",
    "        #print('output \\n', self.output)\n",
    "        #print()\n",
    "\n",
    "    def backprop(self):\n",
    "        d_weights2 = np.dot(self.layer1.T, (2*(self.y-self.output)*sigmoid_derivative(self.output)))\n",
    "\n",
    "        d_weights1 = np.dot(self.input.T,(np.dot(2*(self.y-self.output)*sigmoid_derivative(self.output),self.weights2.T)*sigmoid_derivative(self.layer1)))\n",
    "\n",
    "        self.weights1 += d_weights1\n",
    "        self.weights2 += d_weights2\n"
   ]
  },
  {
   "cell_type": "code",
   "execution_count": 27,
   "id": "af42ac99-c87c-4144-b74e-8bbf7096f57b",
   "metadata": {},
   "outputs": [],
   "source": [
    "X = np.array([[0,0,1],\n",
    "              [0,1,1],\n",
    "              [1,0,1],\n",
    "              [1,1,1]])\n",
    "\n",
    "y = np.array([[0],\n",
    "              [1],\n",
    "              [1],\n",
    "              [0]])"
   ]
  },
  {
   "cell_type": "code",
   "execution_count": 28,
   "id": "68201dfa-ffcb-464c-83a9-66168e564481",
   "metadata": {},
   "outputs": [
    {
     "name": "stdout",
     "output_type": "stream",
     "text": [
      "inputs \n",
      " [[0 0 1]\n",
      " [0 1 1]\n",
      " [1 0 1]\n",
      " [1 1 1]]\n",
      "\n",
      "weights1 \n",
      " [[0.05536023 0.8231724  0.89497374 0.79147608]\n",
      " [0.51655806 0.00687156 0.13180264 0.32595663]\n",
      " [0.17834756 0.30345457 0.89634865 0.22100689]]\n",
      "\n",
      "weights2 \n",
      " [[0.97505625]\n",
      " [0.13684611]\n",
      " [0.69651034]\n",
      " [0.78103614]]\n",
      "\n",
      "y \n",
      " [[0]\n",
      " [1]\n",
      " [1]\n",
      " [0]]\n",
      "\n",
      "output \n",
      " [[0.]\n",
      " [0.]\n",
      " [0.]\n",
      " [0.]]\n",
      "\n"
     ]
    }
   ],
   "source": [
    "nn = NeuralNetwork(X, y)"
   ]
  },
  {
   "cell_type": "code",
   "execution_count": 32,
   "id": "d0e9beac-fc77-448f-af45-633be38d5ce4",
   "metadata": {},
   "outputs": [
    {
     "name": "stdout",
     "output_type": "stream",
     "text": [
      "[[0.05784711]\n",
      " [0.88311301]\n",
      " [0.87074125]\n",
      " [0.15061934]]\n"
     ]
    }
   ],
   "source": [
    "for i in range(100):\n",
    "    nn.feedforward()\n",
    "    nn.backprop()\n",
    "\n",
    "print(nn.output)"
   ]
  }
 ],
 "metadata": {
  "kernelspec": {
   "display_name": "Python 3 (ipykernel)",
   "language": "python",
   "name": "python3"
  },
  "language_info": {
   "codemirror_mode": {
    "name": "ipython",
    "version": 3
   },
   "file_extension": ".py",
   "mimetype": "text/x-python",
   "name": "python",
   "nbconvert_exporter": "python",
   "pygments_lexer": "ipython3",
   "version": "3.11.7"
  }
 },
 "nbformat": 4,
 "nbformat_minor": 5
}
