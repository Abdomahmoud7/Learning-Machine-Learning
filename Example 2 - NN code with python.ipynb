{
 "cells": [
  {
   "cell_type": "code",
   "execution_count": 22,
   "id": "2d8f9685-ba18-4646-bfb3-2c4e98c96adf",
   "metadata": {},
   "outputs": [],
   "source": [
    "import numpy as np"
   ]
  },
  {
   "cell_type": "code",
   "execution_count": 23,
   "id": "143b057a-1adb-4742-bee0-d46fef82a0d6",
   "metadata": {},
   "outputs": [],
   "source": [
    "class Neural_Network:\n",
    "    def __init__(self):\n",
    "    #Parameters\n",
    "        self.inputSize = 2\n",
    "        self.outputSize = 1\n",
    "        self.hiddenSize = 3\n",
    "\n",
    "    #Weights\n",
    "        self.W1 = np.random.randn(self.inputSize, self.hiddenSize)\n",
    "        self.W2 = np.random.randn(self.hiddenSize, self.outputSize)\n",
    "\n",
    "\n",
    "    def forward(self, X):\n",
    "        self.z = np.dot(X, self.W1)\n",
    "        self.z2 = self.sigmoid(self.z)\n",
    "        self.z3 = np.dot(self.z2, self.W2)\n",
    "        o = self.sigmoid(self.z3)\n",
    "        return o\n",
    "\n",
    "\n",
    "    def sigmoid(self, s):\n",
    "        return 1/(1+np.exp(-s))\n",
    "\n",
    "\n",
    "    def sigmoidPrime(self, s):\n",
    "        return s * (1 - s)\n",
    "\n",
    "    def backward(self, X, y, o):\n",
    "        \n",
    "        self.o_error = y - o\n",
    "        self.o_delta = self.o_error * self.sigmoidPrime(o)\n",
    "        \n",
    "\n",
    "        self.z2_error = self.o_delta.dot(self.W2.T)\n",
    "        self.z2_delta = self.z2_error*self.sigmoidPrime(self.z2)\n",
    "\n",
    "        self.W1 += X.T.dot(self.z2_delta)\n",
    "        self.W2 += self.z2.T.dot(self.o_delta)\n",
    "\n",
    "\n",
    "    def train(self, X, y):\n",
    "        o = self.forward(X)\n",
    "        self.backward(X, y, o)\n",
    "\n",
    "    def saveWeights(self):\n",
    "        np.savetxt(\"w1.txt\", self.W1, fmt=\"%s\")\n",
    "        np.savetxt(\"w2.txt\", self.W2, fmt=\"%s\")\n",
    "\n",
    "    def predict(self):\n",
    "        print(\"Predicted data based on trained weights: \")\n",
    "        print(\"Input (scaled): \\n\" + str(xPredicted))\n",
    "        print(\"Output: \\n\" + str(self.forward(xPredicted)))\n",
    " "
   ]
  },
  {
   "cell_type": "code",
   "execution_count": 24,
   "id": "7272c1c4-95bc-460d-80a6-b7c89b0d0db3",
   "metadata": {},
   "outputs": [],
   "source": [
    "X = np.array(([2, 9], [1, 5], [3, 6]), dtype=float)\n",
    "y = np.array(([92], [86], [89]), dtype=float)\n",
    "xPredicted = np.array(([4, 8]), dtype=float)"
   ]
  },
  {
   "cell_type": "code",
   "execution_count": 25,
   "id": "0ec460de-40dc-41d2-a2c9-bc8252cd6304",
   "metadata": {},
   "outputs": [],
   "source": [
    "X = X/np.amax(X, axis=0)"
   ]
  },
  {
   "cell_type": "code",
   "execution_count": 26,
   "id": "8633b1e9-1156-4b36-87eb-8f26ed404204",
   "metadata": {},
   "outputs": [],
   "source": [
    "xPredicted = xPredicted/np.amax(xPredicted, axis=0)"
   ]
  },
  {
   "cell_type": "code",
   "execution_count": 27,
   "id": "fefe2829-ebe3-4e4e-a5cb-c9e9ad855579",
   "metadata": {},
   "outputs": [],
   "source": [
    "y = y/100"
   ]
  },
  {
   "cell_type": "code",
   "execution_count": 28,
   "id": "54f98e8e-3f30-4575-a9de-ac2d2b19ab31",
   "metadata": {},
   "outputs": [],
   "source": [
    "NN = Neural_Network()"
   ]
  },
  {
   "cell_type": "code",
   "execution_count": 41,
   "id": "96842819-fe70-4d07-a23a-66c7c59936f8",
   "metadata": {},
   "outputs": [],
   "source": [
    "for i in range(10000):\n",
    "    #print(\"# \" + str(i) + \"\\n\")\n",
    "    #print(\"Input (scaled): \\n\" + str(X))\n",
    "    #print(\"Actual Output: \\n\" + str(y))\n",
    "    #print(\"Predicted Output: \\n\" + str(NN.forward(X)))\n",
    "    #print(\"Loss: \\n\" + str(np.mean(np.square(y - NN.forward(X)))))\n",
    "    #rint(\"\\n\")\n",
    "    NN.train(X, y)"
   ]
  },
  {
   "cell_type": "code",
   "execution_count": 42,
   "id": "334634bd-89d7-458d-9adf-61f78f1bb925",
   "metadata": {},
   "outputs": [
    {
     "name": "stdout",
     "output_type": "stream",
     "text": [
      "Predicted data based on trained weights: \n",
      "Input (scaled): \n",
      "[0.5 1. ]\n",
      "Output: \n",
      "[0.9179305]\n"
     ]
    }
   ],
   "source": [
    "NN.saveWeights()\n",
    "NN.predict()"
   ]
  }
 ],
 "metadata": {
  "kernelspec": {
   "display_name": "Python 3 (ipykernel)",
   "language": "python",
   "name": "python3"
  },
  "language_info": {
   "codemirror_mode": {
    "name": "ipython",
    "version": 3
   },
   "file_extension": ".py",
   "mimetype": "text/x-python",
   "name": "python",
   "nbconvert_exporter": "python",
   "pygments_lexer": "ipython3",
   "version": "3.11.7"
  }
 },
 "nbformat": 4,
 "nbformat_minor": 5
}
