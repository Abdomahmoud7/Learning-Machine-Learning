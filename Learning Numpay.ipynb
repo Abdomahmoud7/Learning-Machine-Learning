{
 "cells": [
  {
   "cell_type": "markdown",
   "metadata": {},
   "source": [
    "# Numpy 1 العمليات الرياضية"
   ]
  },
  {
   "cell_type": "code",
   "execution_count": 2,
   "metadata": {},
   "outputs": [
    {
     "name": "stdout",
     "output_type": "stream",
     "text": [
      "-0.9880316240928618 0.15425144988758405 -6.405331196646276\n"
     ]
    }
   ],
   "source": [
    "from numpy import * # بنستدعي المكتبه بهذا الشكل وده معناه استدعيلي كل الدوال الخاصه بيها\n",
    "\n",
    "a = sin(30)\n",
    "b = cos(30)\n",
    "c = tan(30)\n",
    "\n",
    "# هلاقي ارقام غريبه طلعت لان مشكلة الدوال المثلثيه انها بتتعامل بال radians وليس ال degree\n",
    "# عشان نحل المشكله دي نضرب في => pi/180\n",
    "print(a, b, c)\n"
   ]
  },
  {
   "cell_type": "code",
   "execution_count": 3,
   "metadata": {},
   "outputs": [
    {
     "name": "stdout",
     "output_type": "stream",
     "text": [
      "0.49999999999999994\n",
      "0.8660254037844387\n",
      "0.5773502691896257\n"
     ]
    }
   ],
   "source": [
    "a = sin(30*pi/180)\n",
    "b = cos(30*pi/180)\n",
    "c = tan(30*pi/180)\n",
    "# كدا هتطلع الارقام دقيقه\n",
    "print(a)\n",
    "print(b)\n",
    "print(c)\n"
   ]
  },
  {
   "cell_type": "code",
   "execution_count": 5,
   "metadata": {},
   "outputs": [
    {
     "name": "stdout",
     "output_type": "stream",
     "text": [
      "0.49999999999999994\n",
      "0.8660254037844387\n",
      "0.5773502691896257\n"
     ]
    }
   ],
   "source": [
    "from numpy import *\n",
    "# ممكن احول الرقم الي degree بطريقه تاني \n",
    "\n",
    "a = sin(deg2rad(30))\n",
    "b = cos(deg2rad(30))\n",
    "c = tan(deg2rad(30))\n",
    "\n",
    "print(a)\n",
    "print(b)\n",
    "print(c)"
   ]
  },
  {
   "cell_type": "code",
   "execution_count": 6,
   "metadata": {},
   "outputs": [
    {
     "name": "stdout",
     "output_type": "stream",
     "text": [
      "4\n",
      "3.7\n",
      "3.69\n",
      "3.685\n",
      "3.6852\n"
     ]
    }
   ],
   "source": [
    "from numpy import *\n",
    "\n",
    "# round التقريب أمر\n",
    "\n",
    "a = round(3.685228)\n",
    "b = round(3.685228,1)\n",
    "c = round(3.685228,2)\n",
    "d = round(3.685228,3)\n",
    "e = round(3.685228,4)\n",
    "\n",
    "print(a)\n",
    "print(b)\n",
    "print(c)\n",
    "print(d)\n",
    "print(e)"
   ]
  },
  {
   "cell_type": "code",
   "execution_count": 8,
   "metadata": {},
   "outputs": [
    {
     "name": "stdout",
     "output_type": "stream",
     "text": [
      "4.0\n",
      "3.0\n"
     ]
    }
   ],
   "source": [
    "# ceil امر التقريب لاعلي\n",
    "# floor امر التقريب لأقل\n",
    "\n",
    "a = ceil(3.685228)\n",
    "b = floor(3.685228)\n",
    "\n",
    "print(a)\n",
    "print(b)"
   ]
  },
  {
   "cell_type": "code",
   "execution_count": 9,
   "metadata": {},
   "outputs": [
    {
     "name": "stdout",
     "output_type": "stream",
     "text": [
      "6\n",
      "32\n"
     ]
    }
   ],
   "source": [
    "# mod امر باقي القسمه \n",
    "# power امر الأس\n",
    "\n",
    "a = mod(20, 7)\n",
    "b = power(2, 5)\n",
    "\n",
    "print(a)\n",
    "print(b)"
   ]
  },
  {
   "cell_type": "markdown",
   "metadata": {},
   "source": [
    "# Numpy 2 كتابة المصفوفات"
   ]
  },
  {
   "cell_type": "code",
   "execution_count": 11,
   "metadata": {},
   "outputs": [
    {
     "name": "stdout",
     "output_type": "stream",
     "text": [
      "[2, 3, 4, 5, 6, 7, 8]\n",
      "[2 3 4 5 6 7 8]\n"
     ]
    }
   ],
   "source": [
    "from numpy import *\n",
    "# يتم استخدام أمر array لتحويل ليست الي مصفوفه\n",
    "\n",
    "a = [2,3,4,5,6,7,8]\n",
    "b = array(a)\n",
    "\n",
    "print(a) # output => list\n",
    "print(b) # output => matrix"
   ]
  },
  {
   "cell_type": "code",
   "execution_count": 12,
   "metadata": {},
   "outputs": [
    {
     "name": "stdout",
     "output_type": "stream",
     "text": [
      "[[1, 2, 3], [5, 3, 6], [9, 6, 5]]\n",
      "[[1 2 3]\n",
      " [5 3 6]\n",
      " [9 6 5]]\n"
     ]
    }
   ],
   "source": [
    "# ويمكن عمل مصفوفة ثنائية الابعاد\n",
    "\n",
    "a = [[1,2,3],[5,3,6],[9,6,5]] # لازم تكون الارقام متساويه ف كل ليست يعني العدد قد بعض عشان اعمل مصفوفه\n",
    "b = array(a)\n",
    "# => كدا هعمل مصفوفه ثنائة الابعاد \n",
    "\n",
    "print(a)\n",
    "print(b)"
   ]
  },
  {
   "cell_type": "code",
   "execution_count": 17,
   "metadata": {},
   "outputs": [
    {
     "name": "stdout",
     "output_type": "stream",
     "text": [
      "[[2 3 4]\n",
      " [4 5 6]\n",
      " [6 7 8]]\n"
     ]
    }
   ],
   "source": [
    "# وممكن استخدام أمر range لعمل مصفوفة\n",
    "\n",
    "a = array([range(i, i+3) for i in [2, 4, 6]])\n",
    "\n",
    "print(a)"
   ]
  },
  {
   "cell_type": "code",
   "execution_count": 18,
   "metadata": {},
   "outputs": [
    {
     "name": "stdout",
     "output_type": "stream",
     "text": [
      "[('x', 3, 4.2) ('y', 4, 5.3) ('z', 5, 6.3)]\n"
     ]
    }
   ],
   "source": [
    "# يمكن عمل تعريف للمتغيرات بعد كتابتها\n",
    "\n",
    "a = array([('x',3,4.2),('y',4,5.3),('z',5,6.3)],\n",
    "          dtype = [('name', 'U5'), ('number','i2'),\n",
    "                   ('value', 'f4')])\n",
    "\n",
    "print(a)"
   ]
  },
  {
   "cell_type": "code",
   "execution_count": 21,
   "metadata": {},
   "outputs": [
    {
     "name": "stdout",
     "output_type": "stream",
     "text": [
      "[[6.36598737e-314 1.06099790e-313]\n",
      " [1.06099790e-313 1.48539705e-313]\n",
      " [1.48539705e-313 1.90979621e-313]]\n"
     ]
    }
   ],
   "source": [
    "from numpy import *\n",
    "# باستخدام امر empty يمكن عمل مصفوفة فارغة\n",
    "\n",
    "a = empty((3,2)) # كدا هيعملي مصفوفه فاضيه قيمتها اصفار ابعادها 3 في 2\n",
    "\n",
    "print(a)\n"
   ]
  },
  {
   "cell_type": "code",
   "execution_count": 22,
   "metadata": {},
   "outputs": [
    {
     "name": "stdout",
     "output_type": "stream",
     "text": [
      "4.007274151687811\n",
      "--------------------\n",
      "[5.9338957  3.47436047 2.60366716 8.75172331 1.50970857 9.39496395\n",
      " 3.22691445 6.45735862 5.3745684  2.98937801 1.104582   5.49217135\n",
      " 6.11936909 9.96159005 6.24589924 7.35612958 6.11962958 8.45746031\n",
      " 4.56057097 4.02479359]\n"
     ]
    }
   ],
   "source": [
    "from numpy import *\n",
    "\n",
    "# أمر uniform يأتي بقيمة عشوائية\n",
    "\n",
    "a = random.uniform(1, 10) # => دي معناها هتلي رقم واحد عشوائي يكون بين 1 الي 10 \n",
    "\n",
    "b = random.uniform(1, 10, 20) # => دي معناها هتلي 20 رقم عشوائي قيمتهم من 1 الي 10 \n",
    "\n",
    "print(a)\n",
    "print(\"-\"*20)\n",
    "print(b)"
   ]
  },
  {
   "cell_type": "code",
   "execution_count": 23,
   "metadata": {},
   "outputs": [
    {
     "name": "stdout",
     "output_type": "stream",
     "text": [
      "[[0.67244339 0.55897822 0.67025869]\n",
      " [0.8645219  0.1971904  0.24968542]]\n"
     ]
    }
   ],
   "source": [
    "# بأمر random.random يمكن عمل مصفوفه بارقام عشوائيه بين 0 الي 1\n",
    "\n",
    "a = random.random((2,3))\n",
    "\n",
    "print(a)"
   ]
  },
  {
   "cell_type": "code",
   "execution_count": null,
   "metadata": {},
   "outputs": [],
   "source": []
  },
  {
   "cell_type": "code",
   "execution_count": 24,
   "metadata": {},
   "outputs": [
    {
     "name": "stdout",
     "output_type": "stream",
     "text": [
      "[-1.12228728 -1.14701091 -1.71545856  0.26315137 -0.56880463  0.48026268\n",
      "  0.3439699   1.10761018 -1.15267455  0.4728313 ]\n"
     ]
    }
   ],
   "source": [
    "# أمر random.normal ياتي بالتوزيع الطبيعي لارقام بين ال 0 وال 1 عدد 10 ارقام\n",
    "\n",
    "a =random.normal(0,1,10)\n",
    "\n",
    "print(a)"
   ]
  },
  {
   "cell_type": "code",
   "execution_count": 37,
   "metadata": {},
   "outputs": [
    {
     "name": "stdout",
     "output_type": "stream",
     "text": [
      "55\n",
      "--------------------\n",
      "[0 3 0 2 2 2]\n",
      "--------------------\n",
      "[10 11  7  5 15]\n",
      "--------------------\n",
      "[[4 1 8]\n",
      " [7 3 5]\n",
      " [1 4 6]]\n",
      "--------------------\n",
      "[[[ 6  9  7 11  5]\n",
      "  [11  9  5  7 11]\n",
      "  [ 7 11  8 11 10]\n",
      "  [ 7 10 11  8 11]]\n",
      "\n",
      " [[ 7  7 10  6  8]\n",
      "  [ 6  6  8  9 10]\n",
      "  [ 5  7 10 11  6]\n",
      "  [ 9  5  7  9 11]]\n",
      "\n",
      " [[ 8 11  7  5  6]\n",
      "  [ 7  9  6 11  9]\n",
      "  [ 8 11  6  9 10]\n",
      "  [ 9  5 11  7 10]]]\n"
     ]
    }
   ],
   "source": [
    "# بأمر random.randint يمكن تحديد رقم عشوائي صحيح من 0 الي الرقم المحدد\n",
    "\n",
    "a = random.randint(150) # كدا هيجيب رقم عشوائي واحد فقط\n",
    "\n",
    "b = random.randint(5, size=6) # كدا هيجيب 6 ارقام عشوائيه من 0 الي 5\n",
    "\n",
    "c =random.randint(5,20, size=5) # => كدا هيجيب ليا 5 ارقام عشوائيه من 5 الي 20\n",
    "\n",
    "# => ويمكن عمل مصفوفة ارقام صحيحة بين ارقام محدده\n",
    "\n",
    "d = random.randint(0,10, (3,3)) # كدا اعملي ماتركيس ارقامها من 0 الي 10 وتكون 3 في 3\n",
    "\n",
    "e = random.randint(5, 12, size=(3, 4, 5)) # => كدا يعني اعملي 3 مصفوفات كل مصفوفه تكون 4 في 5\n",
    "\n",
    "print(a)\n",
    "print(\"-\"*20)\n",
    "print(b)\n",
    "print(\"-\"*20)\n",
    "print(c)\n",
    "print(\"-\"*20)\n",
    "print(d)\n",
    "print(\"-\"*20)\n",
    "print(e)"
   ]
  },
  {
   "cell_type": "code",
   "execution_count": 38,
   "metadata": {},
   "outputs": [
    {
     "name": "stdout",
     "output_type": "stream",
     "text": [
      "[22  4 34 11 49 13 55 19 51 49 59 49 38 51 15 24 50 41 51 35 51 43 16 28\n",
      " 57]\n",
      "[[22  4 34 11 49]\n",
      " [13 55 19 51 49]\n",
      " [59 49 38 51 15]\n",
      " [24 50 41 51 35]\n",
      " [51 43 16 28 57]]\n"
     ]
    }
   ],
   "source": [
    "a = random.randint(1, 60, 25) # => هتلي 25 رقم قيمتهم تتراوح بين 1 الي 59\n",
    "b = reshape(a,(5,5)) # => دي معناها اعملي للارقام دي تشكيل يعني اعملهملي مصفوفة لو كانت الاعداد متناسبة\n",
    "\n",
    "print(a)\n",
    "print(b)"
   ]
  },
  {
   "cell_type": "markdown",
   "metadata": {},
   "source": [
    "# Numpy 3 كتابة المصفوفات"
   ]
  },
  {
   "cell_type": "code",
   "execution_count": 42,
   "metadata": {},
   "outputs": [
    {
     "name": "stdout",
     "output_type": "stream",
     "text": [
      "[0.90039635 0.46307108 0.52129978 0.84176903 0.71514521 0.46263866\n",
      " 0.76565102 0.65590828 0.50243866 0.54797128 0.61860231 0.34594954\n",
      " 0.20488569 0.29652256 0.58918056]\n",
      "--------------------\n",
      "[[0.20300173 0.38417639 0.52912591]\n",
      " [0.72385455 0.48538094 0.36547555]\n",
      " [0.31497733 0.23295172 0.62065618]\n",
      " [0.39934134 0.42223954 0.59602157]\n",
      " [0.72955771 0.29873702 0.03094178]]\n",
      "--------------------\n",
      "[[[0.74210082 0.70041148]\n",
      "  [0.098012   0.97924163]\n",
      "  [0.87875191 0.11975247]]\n",
      "\n",
      " [[0.58610976 0.56151584]\n",
      "  [0.03585    0.34370197]\n",
      "  [0.17133505 0.72498998]]\n",
      "\n",
      " [[0.21233639 0.91787397]\n",
      "  [0.51330479 0.04145691]\n",
      "  [0.42872655 0.82222066]]\n",
      "\n",
      " [[0.45065934 0.31216953]\n",
      "  [0.28632783 0.60836353]\n",
      "  [0.56838275 0.96123608]]\n",
      "\n",
      " [[0.71616293 0.28261025]\n",
      "  [0.79025108 0.22233525]\n",
      "  [0.1894312  0.84291301]]]\n"
     ]
    }
   ],
   "source": [
    "from numpy import *\n",
    "\n",
    "a = random.rand(15) # هنا يعمل ارقام عشوائيه من 0 لي 1 بالعدد المطلوب\n",
    "print(a)\n",
    "\n",
    "print(\"-\"*20)\n",
    "\n",
    "b = random.rand(5,3) # كدا هيعمل مصفوفه ابعادها 5 في 3\n",
    "print(b)\n",
    "\n",
    "print(\"-\"*20)\n",
    "\n",
    "c = random.rand(5, 3,2) # كدا اعملي مصفوفه فيها 5 طبقات ابعادها 3 في 2\n",
    "print(c)\n"
   ]
  },
  {
   "cell_type": "code",
   "execution_count": 46,
   "metadata": {},
   "outputs": [
    {
     "name": "stdout",
     "output_type": "stream",
     "text": [
      "1\n",
      "--------------------\n",
      "[3, 4, 9, 5, 7, 8, 1, 2, 6]\n"
     ]
    }
   ],
   "source": [
    "# أمر choice يختار قيمة عشوائيه \n",
    "\n",
    "y = [1,2,3,4,5,6,7,8,9]\n",
    "\n",
    "a = random.choice(y)\n",
    "print(a)\n",
    "\n",
    "print(\"-\"*20)\n",
    "\n",
    "random.shuffle(y) # => أمر shuffle بيعمل ترتيب عشوائي للقيم بيخلطهم\n",
    "print(y)"
   ]
  },
  {
   "cell_type": "code",
   "execution_count": 47,
   "metadata": {},
   "outputs": [
    {
     "name": "stdout",
     "output_type": "stream",
     "text": [
      "[[0. 0. 0.]\n",
      " [0. 0. 0.]\n",
      " [0. 0. 0.]]\n",
      "--------------------\n",
      "[[1. 1. 1.]\n",
      " [1. 1. 1.]\n",
      " [1. 1. 1.]]\n"
     ]
    }
   ],
   "source": [
    "# عمل مصفوفة كلها 0 او 1 \n",
    "\n",
    "a = zeros((3,3))\n",
    "b = ones((3,3))\n",
    "\n",
    "print(a)\n",
    "print(\"-\"*20)\n",
    "print(b)"
   ]
  },
  {
   "cell_type": "code",
   "execution_count": 48,
   "metadata": {},
   "outputs": [
    {
     "name": "stdout",
     "output_type": "stream",
     "text": [
      "[[1. 0. 0. 0. 0.]\n",
      " [0. 1. 0. 0. 0.]\n",
      " [0. 0. 1. 0. 0.]\n",
      " [0. 0. 0. 1. 0.]\n",
      " [0. 0. 0. 0. 1.]]\n"
     ]
    }
   ],
   "source": [
    "# مصفوفة الوحدة \n",
    "a = eye(5) # كدا هيعملي مصفوفة كلها اصفار ماعدا القطر الرئيسي للمصفوفه يكون بي 1\n",
    "\n",
    "print(a)"
   ]
  },
  {
   "cell_type": "code",
   "execution_count": 49,
   "metadata": {},
   "outputs": [
    {
     "name": "stdout",
     "output_type": "stream",
     "text": [
      "[[35 35 35 35 35]\n",
      " [35 35 35 35 35]\n",
      " [35 35 35 35 35]]\n"
     ]
    }
   ],
   "source": [
    "# أمر full بيعمل مصفوفة بنفس الرقم المعطي\n",
    "\n",
    "a = full((3,5), 35)\n",
    "\n",
    "print(a)"
   ]
  },
  {
   "cell_type": "code",
   "execution_count": 51,
   "metadata": {},
   "outputs": [
    {
     "name": "stdout",
     "output_type": "stream",
     "text": [
      "[[ 0  1  2  3  4  5]\n",
      " [ 6  7  8  9 10 11]\n",
      " [12 13 14 15 16 17]]\n",
      "--------------------\n",
      "[[[ 0  1  2]\n",
      "  [ 3  4  5]\n",
      "  [ 6  7  8]]\n",
      "\n",
      " [[ 9 10 11]\n",
      "  [12 13 14]\n",
      "  [15 16 17]]\n",
      "\n",
      " [[18 19 20]\n",
      "  [21 22 23]\n",
      "  [24 25 26]]]\n",
      "--------------------\n",
      "[[11 17  9  1 14 12]\n",
      " [ 6  7 15  3  4 10]\n",
      " [16 13  2  5  0  8]]\n"
     ]
    }
   ],
   "source": [
    "# ممكن كتابة مصفوفة بأبعاد محددة \n",
    "\n",
    "a = arange(18).reshape(3,6)\n",
    "b = arange(27).reshape(3,3,3)\n",
    "\n",
    "c = arange(18)\n",
    "\n",
    "print(a)\n",
    "print(\"-\"*20)\n",
    "print(b)\n",
    "\n",
    "print(\"-\"*20)\n",
    "\n",
    "random.shuffle(c)\n",
    "\n",
    "d = c.reshape(3,6)\n",
    "\n",
    "print(d)"
   ]
  },
  {
   "cell_type": "code",
   "execution_count": 54,
   "metadata": {},
   "outputs": [
    {
     "name": "stdout",
     "output_type": "stream",
     "text": [
      "[ 0.          0.6122449   1.2244898   1.83673469  2.44897959  3.06122449\n",
      "  3.67346939  4.28571429  4.89795918  5.51020408  6.12244898  6.73469388\n",
      "  7.34693878  7.95918367  8.57142857  9.18367347  9.79591837 10.40816327\n",
      " 11.02040816 11.63265306 12.24489796 12.85714286 13.46938776 14.08163265\n",
      " 14.69387755 15.30612245 15.91836735 16.53061224 17.14285714 17.75510204\n",
      " 18.36734694 18.97959184 19.59183673 20.20408163 20.81632653 21.42857143\n",
      " 22.04081633 22.65306122 23.26530612 23.87755102 24.48979592 25.10204082\n",
      " 25.71428571 26.32653061 26.93877551 27.55102041 28.16326531 28.7755102\n",
      " 29.3877551  30.        ]\n",
      "--------------------\n",
      "[  0.  25.  50.  75. 100.]\n",
      "--------------------\n",
      "[[ 0.          2.72727273  5.45454545  8.18181818]\n",
      " [10.90909091 13.63636364 16.36363636 19.09090909]\n",
      " [21.81818182 24.54545455 27.27272727 30.        ]]\n",
      "--------------------\n",
      "[[[  0.           3.84615385   7.69230769]\n",
      "  [ 11.53846154  15.38461538  19.23076923]\n",
      "  [ 23.07692308  26.92307692  30.76923077]]\n",
      "\n",
      " [[ 34.61538462  38.46153846  42.30769231]\n",
      "  [ 46.15384615  50.          53.84615385]\n",
      "  [ 57.69230769  61.53846154  65.38461538]]\n",
      "\n",
      " [[ 69.23076923  73.07692308  76.92307692]\n",
      "  [ 80.76923077  84.61538462  88.46153846]\n",
      "  [ 92.30769231  96.15384615 100.        ]]]\n"
     ]
    }
   ],
   "source": [
    "# لكتابة أرقام متوزعه بالتساوي بين رقمين \n",
    "\n",
    "a = linspace(0, 30) # => الميثود دي لو محددتش عايز كام رقم بيجيب لوحده 50 رقم \n",
    "# كدا هيجبلي 50 رقم قيمتهم من 0 الي 30\n",
    "\n",
    "b = linspace(0,100,5) # => كدا هيجبلي 5 ارقام قيمتهم بين 0 الي 100\n",
    "\n",
    "print(a)\n",
    "print(\"-\"*20)\n",
    "print(b)\n",
    "print(\"-\"*20)\n",
    "\n",
    "\n",
    "# ممكن احولها لمصفوفة \n",
    "\n",
    "c = linspace(0,30, 12).reshape(3,4)\n",
    "d = linspace(0,100,27).reshape(3,3,3)\n",
    "\n",
    "print(c)\n",
    "print(\"-\"*20)\n",
    "print(d)"
   ]
  },
  {
   "cell_type": "code",
   "execution_count": 56,
   "metadata": {},
   "outputs": [
    {
     "name": "stdout",
     "output_type": "stream",
     "text": [
      "[[ 5  0  0  0  0]\n",
      " [ 0 12  0  0  0]\n",
      " [ 0  0  4  0  0]\n",
      " [ 0  0  0 -1  0]\n",
      " [ 0  0  0  0  3]]\n",
      "--------------------\n",
      "[[ 0  0  0  5  0  0  0  0]\n",
      " [ 0  0  0  0 12  0  0  0]\n",
      " [ 0  0  0  0  0  4  0  0]\n",
      " [ 0  0  0  0  0  0 -1  0]\n",
      " [ 0  0  0  0  0  0  0  3]\n",
      " [ 0  0  0  0  0  0  0  0]\n",
      " [ 0  0  0  0  0  0  0  0]\n",
      " [ 0  0  0  0  0  0  0  0]]\n"
     ]
    }
   ],
   "source": [
    "# المصفوفة القطرية \n",
    "\n",
    "a = diag(array([5,12,4,-1,3])) # المصفوفة كلها هتكون اصفار ماعدا القطر الرئيسي هيكون الارقام اللي محددها دي\n",
    "b = diag(array([5,12,4,-1,3]),k=3)\n",
    "\n",
    "print(a)\n",
    "print(\"-\"*20)\n",
    "print(b)\n"
   ]
  },
  {
   "cell_type": "markdown",
   "metadata": {},
   "source": [
    "# Numpy 4 التعامل مع المصفوفات"
   ]
  },
  {
   "cell_type": "code",
   "execution_count": 2,
   "metadata": {},
   "outputs": [
    {
     "name": "stdout",
     "output_type": "stream",
     "text": [
      "[[8 5 5]\n",
      " [9 0 0]\n",
      " [4 1 0]]\n",
      "6\n",
      "--------------------\n",
      "[[8 5 5]\n",
      " [9 0 0]\n",
      " [4 1 0]]\n",
      "2\n",
      "7\n"
     ]
    }
   ],
   "source": [
    "from numpy import *\n",
    "# ممكن حساب الارقام التي ليست صفر\n",
    "\n",
    "a = random.randint(0,10, (3,3))\n",
    "\n",
    "b = count_nonzero(a) # => كدا هيحسب عدد الارقام التي لا تساوي صفر\n",
    "print(a)\n",
    "print(b)\n",
    "print(\"-\"*20)\n",
    "\n",
    "# => لو عاوز احسب عدد ارقام معينه \n",
    "\n",
    "c = count_nonzero(a>5) # => كدا معانها احسب عدد الارقام اللي اكبر من 5\n",
    "d = count_nonzero(a<8) # => كدا معناها احسب عدد الارقام اللي اقل من 8\n",
    "print(a)\n",
    "print(c)\n",
    "print(d)\n"
   ]
  },
  {
   "cell_type": "code",
   "execution_count": 3,
   "metadata": {},
   "outputs": [
    {
     "name": "stdout",
     "output_type": "stream",
     "text": [
      "[[6 5 9]\n",
      " [0 9 9]\n",
      " [1 0 1]]\n",
      "[2 2 0]\n",
      "[2 1 3]\n"
     ]
    }
   ],
   "source": [
    "# وممكن حساب الارقام يكون بالصف كله \n",
    "\n",
    "a = random.randint(0,10, (3,3))\n",
    "b = count_nonzero(a>5, axis=1)\n",
    "c = count_nonzero(a<8, axis=1)\n",
    "\n",
    "print(a)\n",
    "print(b)\n",
    "print(c)"
   ]
  },
  {
   "cell_type": "code",
   "execution_count": 5,
   "metadata": {},
   "outputs": [
    {
     "name": "stdout",
     "output_type": "stream",
     "text": [
      "[[8 1 7]\n",
      " [5 6 2]\n",
      " [4 3 7]]\n",
      "True\n",
      "--------------------\n",
      "[ True  True  True]\n"
     ]
    }
   ],
   "source": [
    "# لمعرفة هل في رقم اكبر او اصغر من كذا ولا لا \n",
    "\n",
    "a = random.randint(0,10, (3,3))\n",
    "\n",
    "b = any(a>5) # => كدا هيشوف هل في رقم اكبر من 5 ولا لا وهيديني ترو او فلوس\n",
    "\n",
    "print(a)\n",
    "print(b)\n",
    "print(\"-\"*20)\n",
    "#=========================================================================\n",
    "\n",
    "# => ويمكن عملها في كل صف \n",
    "\n",
    "c = any(a > 5 , axis=1)\n",
    "print(c)"
   ]
  },
  {
   "cell_type": "code",
   "execution_count": 7,
   "metadata": {},
   "outputs": [
    {
     "name": "stdout",
     "output_type": "stream",
     "text": [
      "[[9 6 7]\n",
      " [3 4 6]\n",
      " [6 5 1]]\n",
      "False\n",
      "--------------------\n",
      "True\n"
     ]
    }
   ],
   "source": [
    "# ويمكن معرفة هل كل العناصر شرط معين \n",
    "\n",
    "a = random.randint(0,10, (3,3))\n",
    "\n",
    "b = all(a>5) # كدا لو كانت كل القيم اكبر من 5 هيبقي true \n",
    "\n",
    "print(a)\n",
    "print(b)\n",
    "print(\"-\"*20)\n",
    "\n",
    "c = all(a<10) # كدا هيشوف هل كل القيم اقل من 10\n",
    "print(c)"
   ]
  },
  {
   "cell_type": "code",
   "execution_count": 8,
   "metadata": {},
   "outputs": [
    {
     "name": "stdout",
     "output_type": "stream",
     "text": [
      "[[ 9 19 11]\n",
      " [16  5  7]\n",
      " [19  8 14]]\n",
      "--------------------\n",
      "[[False  True  True]\n",
      " [ True False False]\n",
      " [ True False  True]]\n",
      "--------------------\n",
      "[[ True False  True]\n",
      " [False  True  True]\n",
      " [False  True  True]]\n",
      "--------------------\n",
      "[19 11 16 19 14]\n",
      "--------------------\n",
      "[ 9 11  5  7  8 14]\n"
     ]
    }
   ],
   "source": [
    "# => ويمكن معرفة هل العناصر اكبر من او اصغر من رقم معين \n",
    "\n",
    "a = random.randint(5,20, size=9).reshape(3,3)\n",
    "\n",
    "b = a>10 # => دا هيجيب لي الترو والفولس في مصفوفة \n",
    "c = a<15 # => دا هيجيب لي الترو والفولس في مصفوفة \n",
    "d = a[b] # => دي معناها هيجيب القيم الخاصه بالترو والفولس\n",
    "e = a[c] # => دي معناها هيجيب القيم الخاصه بالترو والفولس\n",
    "\n",
    "print(a)\n",
    "print(\"-\"*20)\n",
    "print(b)\n",
    "print(\"-\"*20)\n",
    "print(c)\n",
    "print(\"-\"*20)\n",
    "print(d)\n",
    "print(\"-\"*20)\n",
    "print(e)"
   ]
  },
  {
   "cell_type": "code",
   "execution_count": 9,
   "metadata": {},
   "outputs": [
    {
     "name": "stdout",
     "output_type": "stream",
     "text": [
      "[[0 1 2]\n",
      " [3 4 5]\n",
      " [6 7 8]]\n",
      "--------------------\n",
      "[[0 1 2]\n",
      " [3 4 5]\n",
      " [6 7 8]]\n",
      "--------------------\n",
      "[[ 0  2  4]\n",
      " [ 6  8 10]\n",
      " [12 14 16]]\n",
      "--------------------\n",
      "[[ True  True  True]\n",
      " [ True  True  True]\n",
      " [ True  True  True]]\n",
      "--------------------\n",
      "[[ True False False]\n",
      " [False False False]\n",
      " [False False False]]\n",
      "--------------------\n"
     ]
    }
   ],
   "source": [
    "# => مقارنة المصفوفات \n",
    "\n",
    "a = arange(9).reshape(3,3)\n",
    "b = arange(9).reshape(3,3)\n",
    "\n",
    "c = 2*b # هيبقي فيه مضاعفات المصفوفة\n",
    "\n",
    "d = isclose(a,b, rtol=0.1) # => ادتله قيمتين مصفوفتين وهيقارن بينهم لو كل قيمه بينها 0.1 كدا هيكون ترو \n",
    "e = isclose(a,c, rtol=0.1)\n",
    "\n",
    "print(a)\n",
    "print(\"-\"*20)\n",
    "print(b)\n",
    "print(\"-\"*20)\n",
    "print(c)\n",
    "print(\"-\"*20)\n",
    "print(d)\n",
    "print(\"-\"*20)\n",
    "print(e)\n",
    "print(\"-\"*20)\n"
   ]
  },
  {
   "cell_type": "code",
   "execution_count": 11,
   "metadata": {},
   "outputs": [
    {
     "name": "stdout",
     "output_type": "stream",
     "text": [
      "[0 1 2 3 4]\n",
      "[ 0. 10. 20. 30. 40.]\n",
      "--------------------\n",
      "[0 1 2 3 4]\n",
      "[  0.   1.  16.  81. 256.]\n"
     ]
    }
   ],
   "source": [
    "# => يمكن ضرب قيم المصفوفة في بعضها (ضرب الدوت )\n",
    "\n",
    "a = arange(5)\n",
    "b = empty(5)\n",
    "\n",
    "multiply(a, 10, out=b) # => كدا يعني خد قيم a واضربهم في 10\n",
    "# وبعدين الناتج ضيفهم في المصفوفة الفارغه b \n",
    "\n",
    "print(a)\n",
    "print(b)\n",
    "print(\"-\"*20)\n",
    "#===========================================\n",
    "\n",
    "#=> لرفع كل العناصر لأس معين \n",
    "\n",
    "power(a,4, out=b)\n",
    "print(a)\n",
    "print(b)\n"
   ]
  },
  {
   "cell_type": "markdown",
   "metadata": {},
   "source": [
    "# Numpy 5 التعامل مع المصفوفات "
   ]
  },
  {
   "cell_type": "code",
   "execution_count": 14,
   "metadata": {},
   "outputs": [
    {
     "name": "stdout",
     "output_type": "stream",
     "text": [
      "[ 0  1  2  3  4  5  6  7  8  9 10 11 12 13 14]\n",
      "105\n",
      "--------------------\n",
      "[2 3 4 5 6 7]\n",
      "5040\n"
     ]
    }
   ],
   "source": [
    "from numpy import *\n",
    "# => مجموع قيم المصفوفة \n",
    "\n",
    "a = arange(15)\n",
    "\n",
    "b = add.reduce(a) # => كدا هيجبلي مجموع قيم المصفوفة\n",
    "\n",
    "print(a)\n",
    "print(b)\n",
    "print(\"-\"*20)\n",
    "#===========================================\n",
    "\n",
    "c = arange(2, 8)\n",
    "\n",
    "d = multiply.reduce(c) #=> كدا هيضرب القيم في بعض\n",
    "\n",
    "print(c)\n",
    "print(d)"
   ]
  },
  {
   "cell_type": "code",
   "execution_count": 15,
   "metadata": {},
   "outputs": [
    {
     "name": "stdout",
     "output_type": "stream",
     "text": [
      "[2 3 4 5 6 7]\n",
      "[[ 4  6  8 10 12 14]\n",
      " [ 6  9 12 15 18 21]\n",
      " [ 8 12 16 20 24 28]\n",
      " [10 15 20 25 30 35]\n",
      " [12 18 24 30 36 42]\n",
      " [14 21 28 35 42 49]]\n"
     ]
    }
   ],
   "source": [
    "# => عملية ضرب متبادلة \n",
    "\n",
    "a = arange(2,8)\n",
    "\n",
    "b = multiply.outer(a,a)\n",
    "\n",
    "print(a)\n",
    "print(b)"
   ]
  },
  {
   "cell_type": "code",
   "execution_count": 17,
   "metadata": {},
   "outputs": [
    {
     "name": "stdout",
     "output_type": "stream",
     "text": [
      "[0 1 2 3 4 5 6 7 8 9]\n",
      "[ 0  1  3  6 10 15 21 28 36 45]\n"
     ]
    }
   ],
   "source": [
    "# => جمع كل الارقام السابقه\n",
    "\n",
    "a = arange(10)\n",
    "\n",
    "b = add.accumulate(a)\n",
    "\n",
    "print(a)\n",
    "print(b)"
   ]
  },
  {
   "cell_type": "code",
   "execution_count": 18,
   "metadata": {},
   "outputs": [
    {
     "name": "stdout",
     "output_type": "stream",
     "text": [
      "[2 3 4 5 6 7]\n",
      "[   2    6   24  120  720 5040]\n"
     ]
    }
   ],
   "source": [
    "# => ضرب الارقام السابقه \n",
    "\n",
    "a = arange(2,8)\n",
    "\n",
    "b = multiply.accumulate(a)\n",
    "\n",
    "print(a)\n",
    "print(b)"
   ]
  },
  {
   "cell_type": "code",
   "execution_count": 19,
   "metadata": {},
   "outputs": [
    {
     "name": "stdout",
     "output_type": "stream",
     "text": [
      "[ 0  1  2  3  4  5  6  7  8  9 10 11]\n",
      "12\n",
      "--------------------\n",
      "[[ 0  1  2  3]\n",
      " [ 4  5  6  7]\n",
      " [ 8  9 10 11]]\n",
      "3\n"
     ]
    }
   ],
   "source": [
    "# => لمعرفة عدد عناصر المصفوفة او عدد صفوفها لو اكتر من بعد\n",
    "\n",
    "a = arange(12)\n",
    "b = len(a)\n",
    "\n",
    "c = a.reshape(3,4)\n",
    "d = len(c)\n",
    "\n",
    "print(a)\n",
    "print(b)\n",
    "print(\"-\"*20)\n",
    "\n",
    "print(c)\n",
    "print(d)"
   ]
  },
  {
   "cell_type": "code",
   "execution_count": 20,
   "metadata": {},
   "outputs": [
    {
     "name": "stdout",
     "output_type": "stream",
     "text": [
      "[ 0  1  2  3  4  5  6  7  8  9 10 11]\n",
      "12\n",
      "--------------------\n",
      "[[ 0  1  2  3]\n",
      " [ 4  5  6  7]\n",
      " [ 8  9 10 11]]\n",
      "12\n"
     ]
    }
   ],
   "source": [
    "# => لمعرفة كل عدد عناصرها \n",
    "\n",
    "a = arange(12)\n",
    "b = a.size\n",
    "\n",
    "c = a.reshape(3,4)\n",
    "d = c.size\n",
    "\n",
    "print(a)\n",
    "print(b)\n",
    "print(\"-\"*20)\n",
    "print(c)\n",
    "print(d)"
   ]
  },
  {
   "cell_type": "code",
   "execution_count": 21,
   "metadata": {},
   "outputs": [
    {
     "name": "stdout",
     "output_type": "stream",
     "text": [
      "[ 0  1  2  3  4  5  6  7  8  9 10 11]\n",
      "(12,)\n",
      "--------------------\n",
      "[[ 0  1  2  3]\n",
      " [ 4  5  6  7]\n",
      " [ 8  9 10 11]]\n",
      "(3, 4)\n"
     ]
    }
   ],
   "source": [
    "# => لمعرفة عدد الابعاد بالتفصيل \n",
    "\n",
    "a = arange(12)\n",
    "b = a.shape\n",
    "\n",
    "c = a.reshape(3,4)\n",
    "d = c.shape\n",
    "\n",
    "print(a)\n",
    "print(b)\n",
    "print(\"-\"*20)\n",
    "print(c)\n",
    "print(d)"
   ]
  },
  {
   "cell_type": "code",
   "execution_count": 22,
   "metadata": {},
   "outputs": [
    {
     "name": "stdout",
     "output_type": "stream",
     "text": [
      "[ 0  1  2  3  4  5  6  7  8  9 10 11]\n",
      "1\n",
      "--------------------\n",
      "[[ 0  1  2  3]\n",
      " [ 4  5  6  7]\n",
      " [ 8  9 10 11]]\n",
      "2\n"
     ]
    }
   ],
   "source": [
    "# => عدد ابعادها \n",
    "\n",
    "a = arange(12)\n",
    "b = a.ndim\n",
    "\n",
    "c = a.reshape(3,4)\n",
    "d = c.ndim\n",
    "\n",
    "print(a)\n",
    "print(b)\n",
    "print(\"-\"*20)\n",
    "print(c)\n",
    "print(d)"
   ]
  },
  {
   "cell_type": "code",
   "execution_count": 23,
   "metadata": {},
   "outputs": [
    {
     "name": "stdout",
     "output_type": "stream",
     "text": [
      "['a' 'b' 'c' 'd' 'e']\n",
      "<U1\n",
      "--------------------\n",
      "[ 0  1  2  3  4  5  6  7  8  9 10 11]\n",
      "[[ 0  1  2  3]\n",
      " [ 4  5  6  7]\n",
      " [ 8  9 10 11]]\n",
      "int32\n"
     ]
    }
   ],
   "source": [
    "# => نوع البيانات في المصفوفة \n",
    "\n",
    "a = array(['a','b','c','d','e'])\n",
    "b = a.dtype\n",
    "\n",
    "c = arange(12)\n",
    "d = c.reshape(3,4)\n",
    "e = d.dtype\n",
    "\n",
    "print(a)\n",
    "print(b)\n",
    "print(\"-\"*20)\n",
    "\n",
    "print(c)\n",
    "print(d)\n",
    "print(e)"
   ]
  },
  {
   "cell_type": "markdown",
   "metadata": {},
   "source": [
    "# Numpy 6 التعامل مع المصفوفات"
   ]
  },
  {
   "cell_type": "code",
   "execution_count": 24,
   "metadata": {},
   "outputs": [
    {
     "name": "stdout",
     "output_type": "stream",
     "text": [
      "[[1 2]\n",
      " [3 4]]\n",
      "[[1 2 3]\n",
      " [4 5 6]]\n"
     ]
    }
   ],
   "source": [
    "from numpy import *\n",
    "# => وممكن نعمل تشكيل للمصفوفة بالطريقة دي \n",
    "\n",
    "a = matrix('{} {} ; {} {}'.format(1,2,3,4))\n",
    "b = matrix('{} {} {}; {} {} {}'.format(1,2,3,4,5,6))\n",
    "\n",
    "print(a)\n",
    "print(b)"
   ]
  },
  {
   "cell_type": "code",
   "execution_count": 25,
   "metadata": {},
   "outputs": [
    {
     "name": "stdout",
     "output_type": "stream",
     "text": [
      "[[0 1 2]\n",
      " [3 4 5]\n",
      " [6 7 8]]\n",
      "12\n"
     ]
    }
   ],
   "source": [
    "# => نجمع قيم المحور هكذا \n",
    "\n",
    "a = arange(9)\n",
    "b = a.reshape(3,3)\n",
    "c = trace(b)\n",
    "\n",
    "print(b)\n",
    "print(c)"
   ]
  },
  {
   "cell_type": "code",
   "execution_count": 27,
   "metadata": {},
   "outputs": [
    {
     "name": "stdout",
     "output_type": "stream",
     "text": [
      "[0 1 2 3 4 5 6 7 8]\n",
      "[[0 1 2]\n",
      " [3 4 5]\n",
      " [6 7 8]]\n",
      "0.0\n",
      "EigResult(eigenvalues=array([ 1.33484692e+01, -1.34846923e+00, -1.15433316e-15]), eigenvectors=array([[ 0.16476382,  0.79969966,  0.40824829],\n",
      "       [ 0.50577448,  0.10420579, -0.81649658],\n",
      "       [ 0.84678513, -0.59128809,  0.40824829]]))\n"
     ]
    }
   ],
   "source": [
    "# => قيمة المصفوفة وقيمة ايجان فاليو\n",
    "\n",
    "a = arange(9)\n",
    "b = a.reshape(3,3)\n",
    "c = linalg.det(b) # => هيجيب ليا قيمة المصفوفة\n",
    "d = linalg.eig(b) # => هيجيب ليا قيمة ايجان فاليو\n",
    "\n",
    "print(a)\n",
    "print(b)\n",
    "print(c)\n",
    "print(d)"
   ]
  },
  {
   "cell_type": "code",
   "execution_count": 28,
   "metadata": {},
   "outputs": [
    {
     "name": "stdout",
     "output_type": "stream",
     "text": [
      "[0 1 2 3 4 5 6 7 8 9]\n",
      "3\n",
      "[3 4 5 6 7 8]\n",
      "[3 5 7]\n",
      "9\n",
      "7\n"
     ]
    }
   ],
   "source": [
    "# => الاقتطاع من المصفوفة\n",
    "\n",
    "a = arange(10)\n",
    "\n",
    "b = a[3] # => هتلي العنصر رقم 3\n",
    "c = a[3:9] # => يعني هتلي القيم من 3 الي 9-1\n",
    "d = a[3:9:2] # => هتلي القيم من 3 ال 9-1 وتسكيب خطوتين \n",
    "e = a[-1] # => هات اخر رقم\n",
    "f = a[-3] # => هات العنصر رقم 3 من جهة اليمين\n",
    "\n",
    "print(a)\n",
    "print(b)\n",
    "print(c)\n",
    "print(d)\n",
    "print(e)\n",
    "print(f)\n"
   ]
  },
  {
   "cell_type": "code",
   "execution_count": 30,
   "metadata": {},
   "outputs": [
    {
     "name": "stdout",
     "output_type": "stream",
     "text": [
      "[[ 0  1  2  3  4  5]\n",
      " [ 6  7  8  9 10 11]\n",
      " [12 13 14 15 16 17]\n",
      " [18 19 20 21 22 23]\n",
      " [24 25 26 27 28 29]\n",
      " [30 31 32 33 34 35]]\n",
      "--------------------\n",
      "[18 19 20 21 22 23]\n",
      "--------------------\n",
      "[[18 19 20 21 22 23]\n",
      " [24 25 26 27 28 29]\n",
      " [30 31 32 33 34 35]]\n",
      "--------------------\n",
      "[[18 19 20 21 22 23]\n",
      " [30 31 32 33 34 35]]\n",
      "--------------------\n",
      "[30 31 32 33 34 35]\n",
      "--------------------\n",
      "[18 19 20 21 22 23]\n"
     ]
    }
   ],
   "source": [
    "# => الاقتطاع من المصفوفة لو ليها ابعاد\n",
    "\n",
    "a = arange(36).reshape(6,6)\n",
    "\n",
    "b = a[3] # => كدا هيجبلي الصف كامل \n",
    "c = a[3:9]\n",
    "d = a[3:9:2]\n",
    "e = a[-1]\n",
    "f = a[-3]\n",
    "\n",
    "print(a)\n",
    "print(\"-\"*20)\n",
    "print(b)\n",
    "print(\"-\"*20)\n",
    "print(c)\n",
    "print(\"-\"*20)\n",
    "print(d)\n",
    "print(\"-\"*20)\n",
    "print(e)\n",
    "print(\"-\"*20)\n",
    "print(f)\n"
   ]
  },
  {
   "cell_type": "code",
   "execution_count": 31,
   "metadata": {},
   "outputs": [
    {
     "name": "stdout",
     "output_type": "stream",
     "text": [
      "[[ 0  1  2  3  4  5]\n",
      " [ 6  7  8  9 10 11]\n",
      " [12 13 14 15 16 17]\n",
      " [18 19 20 21 22 23]\n",
      " [24 25 26 27 28 29]\n",
      " [30 31 32 33 34 35]]\n",
      "--------------------\n",
      "19\n",
      "--------------------\n",
      "[18 19 20 21 22 23]\n",
      "--------------------\n",
      "[ 2  8 14 20 26 32]\n",
      "--------------------\n",
      "[[ 1  2]\n",
      " [ 7  8]\n",
      " [13 14]\n",
      " [19 20]\n",
      " [25 26]\n",
      " [31 32]]\n",
      "--------------------\n",
      "[[ 6  7  8  9 10 11]]\n"
     ]
    }
   ],
   "source": [
    "# => اقتطاع باتسخدام , \n",
    "\n",
    "a = arange(36).reshape(6,6)\n",
    "\n",
    "b = a[3,1] # => كدا هتلي العنصر اللي اتقاطع بين الصف رقم 4 والعمود التاني \n",
    "c = a[3,:]\n",
    "d = a[:,2]\n",
    "e = a[:,1:3]\n",
    "f = a[1:2,:]\n",
    "\n",
    "print(a)\n",
    "print(\"-\"*20)\n",
    "print(b)\n",
    "print(\"-\"*20)\n",
    "print(c)\n",
    "print(\"-\"*20)\n",
    "print(d)\n",
    "print(\"-\"*20)\n",
    "print(e)\n",
    "print(\"-\"*20)\n",
    "print(f)"
   ]
  },
  {
   "cell_type": "markdown",
   "metadata": {},
   "source": [
    "# Numpy 7 التعامل مع المصفوفات"
   ]
  },
  {
   "cell_type": "code",
   "execution_count": 2,
   "metadata": {},
   "outputs": [
    {
     "name": "stdout",
     "output_type": "stream",
     "text": [
      "[[ 0  1  2  3  4  5]\n",
      " [ 6  7  8  9 10 11]\n",
      " [12 13 14 15 16 17]\n",
      " [18 19 20 21 22 23]\n",
      " [24 25 26 27 28 29]\n",
      " [30 31 32 33 34 35]]\n",
      "--------------------\n",
      "[[19 20 21 22]]\n",
      "--------------------\n",
      "[[15 16 17]\n",
      " [21 22 23]\n",
      " [27 28 29]\n",
      " [33 34 35]]\n",
      "--------------------\n",
      "[[0 1 2]\n",
      " [6 7 8]]\n",
      "--------------------\n",
      "[ 5 11 17 23 29 35]\n",
      "--------------------\n",
      "[30 31 32 33 34 35]\n"
     ]
    }
   ],
   "source": [
    "from numpy import *\n",
    "# => اقتطاع باتسخدام , \n",
    "\n",
    "a = arange(36).reshape(6,6)\n",
    "\n",
    "b = a[3:4,1:5]\n",
    "c = a[2:,3:]\n",
    "d = a[:2,:3]\n",
    "e = a[:,-1]\n",
    "f = a[-1,:]\n",
    "\n",
    "print(a)\n",
    "print(\"-\"*20)\n",
    "print(b)\n",
    "print(\"-\"*20)\n",
    "print(c)\n",
    "print(\"-\"*20)\n",
    "print(d)\n",
    "print(\"-\"*20)\n",
    "print(e)\n",
    "print(\"-\"*20)\n",
    "print(f)"
   ]
  },
  {
   "cell_type": "code",
   "execution_count": 3,
   "metadata": {},
   "outputs": [
    {
     "name": "stdout",
     "output_type": "stream",
     "text": [
      "[[ 0  1  2  3  4  5]\n",
      " [ 6  7  8  9 10 11]\n",
      " [12 13 14 15 16 17]\n",
      " [18 19 20 21 22 23]\n",
      " [24 25 26 27 28 29]\n",
      " [30 31 32 33 34 35]]\n",
      "--------------------\n",
      "[[ 0  3]\n",
      " [12 15]\n",
      " [24 27]]\n",
      "--------------------\n",
      "[[35 34 33 32 31 30]\n",
      " [29 28 27 26 25 24]\n",
      " [23 22 21 20 19 18]\n",
      " [17 16 15 14 13 12]\n",
      " [11 10  9  8  7  6]\n",
      " [ 5  4  3  2  1  0]]\n",
      "--------------------\n",
      "[[35 34]\n",
      " [29 28]\n",
      " [23 22]]\n",
      "--------------------\n",
      "[[15]\n",
      " [27]]\n",
      "--------------------\n",
      "[[35]]\n"
     ]
    }
   ],
   "source": [
    "a = arange(36).reshape(6,6)\n",
    "\n",
    "b = a[::2,::3]\n",
    "c = a[::-1,::-1]\n",
    "d = a[:2:-1,:3:-1]\n",
    "e = a[2::2,3::3]\n",
    "f = a[-1::,-1::]\n",
    "\n",
    "print(a)\n",
    "print(\"-\"*20)\n",
    "print(b)\n",
    "print(\"-\"*20)\n",
    "print(c)\n",
    "print(\"-\"*20)\n",
    "print(d)\n",
    "print(\"-\"*20)\n",
    "print(e)\n",
    "print(\"-\"*20)\n",
    "print(f)"
   ]
  },
  {
   "cell_type": "code",
   "execution_count": 8,
   "metadata": {},
   "outputs": [
    {
     "name": "stdout",
     "output_type": "stream",
     "text": [
      "[[ 0  1  2  3]\n",
      " [ 4  5  6  7]\n",
      " [ 8  9 10 11]\n",
      " [12 13 14 15]]\n",
      "[[ 0  1  2  3]\n",
      " [ 4  5  6  7]\n",
      " [ 8  9 10  0]\n",
      " [12 13 14 15]]\n",
      "[[ 0  1  2  0]\n",
      " [ 4  5  6  0]\n",
      " [ 8  9 10  0]\n",
      " [12 13 14  0]]\n",
      "[[ 0  1  2  0]\n",
      " [ 4  5  6  0]\n",
      " [ 0  0  0  0]\n",
      " [12 13 14  0]]\n",
      "[[0 0 0 0]\n",
      " [0 0 0 0]\n",
      " [0 0 0 0]\n",
      " [0 0 0 0]]\n"
     ]
    }
   ],
   "source": [
    "# تعديل القيم \n",
    "\n",
    "a = arange(16).reshape(4,4)\n",
    "print(a)\n",
    "\n",
    "a[2,3] = 0\n",
    "print(a)\n",
    "a[:,3] = 0\n",
    "print(a)\n",
    "a[2,:] = 0\n",
    "print(a)\n",
    "a[:,:] = 0\n",
    "print(a)\n"
   ]
  },
  {
   "cell_type": "code",
   "execution_count": 9,
   "metadata": {},
   "outputs": [
    {
     "name": "stdout",
     "output_type": "stream",
     "text": [
      "[[ 0  1  2  3]\n",
      " [ 4  5  6  7]\n",
      " [ 8  9 10 11]\n",
      " [12 13 14 15]]\n",
      "[[ 1  2]\n",
      " [ 5  6]\n",
      " [ 9 10]\n",
      " [13 14]]\n",
      "[[5 5 5 5]\n",
      " [5 5 5 5]\n",
      " [5 5 5 5]\n",
      " [5 5 5 5]]\n",
      "[[5 5]\n",
      " [5 5]\n",
      " [5 5]\n",
      " [5 5]]\n"
     ]
    }
   ],
   "source": [
    "# النسخه المربوطه\n",
    "\n",
    "a = arange(16).reshape(4,4)\n",
    "print(a)\n",
    "b = a[:,1:3]\n",
    "print(b)\n",
    "a[:,:] = 5\n",
    "print(a)\n",
    "print(b)"
   ]
  },
  {
   "cell_type": "code",
   "execution_count": 10,
   "metadata": {},
   "outputs": [
    {
     "name": "stdout",
     "output_type": "stream",
     "text": [
      "[[ 0  1  2  3]\n",
      " [ 4  5  6  7]\n",
      " [ 8  9 10 11]\n",
      " [12 13 14 15]]\n",
      "[[ 1  2]\n",
      " [ 5  6]\n",
      " [ 9 10]\n",
      " [13 14]]\n",
      "[[5 5 5 5]\n",
      " [5 5 5 5]\n",
      " [5 5 5 5]\n",
      " [5 5 5 5]]\n",
      "[[ 1  2]\n",
      " [ 5  6]\n",
      " [ 9 10]\n",
      " [13 14]]\n"
     ]
    }
   ],
   "source": [
    "# النسخه المستقلة\n",
    "\n",
    "a = arange(16).reshape(4,4)\n",
    "print(a)\n",
    "b = a[:,1:3].copy()\n",
    "print(b)\n",
    "a[:,:] = 5\n",
    "print(a)\n",
    "print(b)"
   ]
  },
  {
   "cell_type": "code",
   "execution_count": 11,
   "metadata": {},
   "outputs": [
    {
     "name": "stdout",
     "output_type": "stream",
     "text": [
      "[[[ 0  1]\n",
      "  [ 2  3]\n",
      "  [ 4  5]]\n",
      "\n",
      " [[ 6  7]\n",
      "  [ 8  9]\n",
      "  [10 11]]\n",
      "\n",
      " [[12 13]\n",
      "  [14 15]\n",
      "  [16 17]]]\n",
      "--------------------\n",
      "[[ 6  7]\n",
      " [ 8  9]\n",
      " [10 11]]\n",
      "--------------------\n",
      "[10 11]\n",
      "--------------------\n",
      "17\n"
     ]
    }
   ],
   "source": [
    "# ثلاثة ابعاد \n",
    "\n",
    "a = arange(18).reshape(3,3,2)\n",
    "\n",
    "c = a[1]\n",
    "d = a[1,2]\n",
    "e = a[2,2,1]\n",
    "\n",
    "print(a)\n",
    "print(\"-\"*20)\n",
    "print(c)\n",
    "print(\"-\"*20)\n",
    "print(d)\n",
    "print(\"-\"*20)\n",
    "print(e)"
   ]
  },
  {
   "cell_type": "code",
   "execution_count": 17,
   "metadata": {},
   "outputs": [
    {
     "name": "stdout",
     "output_type": "stream",
     "text": [
      "[11, 22, 33, 44, 55, 66, 77, 88]\n",
      "--------------------\n",
      "[11 22 33] [44 55 66] [77 88]\n",
      "--------------------\n",
      "[11] [22 33 44 55] [66 77 88]\n",
      "--------------------\n",
      "[11 22 33 44 55 66] [] [44 55 66 77 88]\n",
      "--------------------\n",
      "[] [11 22 33] [44 55 66 77 88]\n",
      "--------------------\n",
      "[11 22 33 44] [] [11 22 33 44 55 66 77 88]\n"
     ]
    }
   ],
   "source": [
    "# التجزيء\n",
    "\n",
    "x = [11,22,33,44,55,66,77,88]\n",
    "print(x)\n",
    "print(\"-\"*20)\n",
    "x1,x2,x3 = split(x, (3,6))\n",
    "print(x1,x2,x3)\n",
    "print(\"-\"*20)\n",
    "x1,x2,x3 = split(x, (1,5))\n",
    "print(x1,x2,x3)\n",
    "print(\"-\"*20)\n",
    "x1,x2,x3 = split(x, (6,3))\n",
    "print(x1,x2,x3)\n",
    "print(\"-\"*20)\n",
    "x1,x2,x3 = split(x, (0,3))\n",
    "print(x1,x2,x3)\n",
    "print(\"-\"*20)\n",
    "x1,x2,x3 = split(x, (4,0))\n",
    "print(x1,x2,x3)"
   ]
  },
  {
   "cell_type": "code",
   "execution_count": 18,
   "metadata": {},
   "outputs": [
    {
     "name": "stdout",
     "output_type": "stream",
     "text": [
      "[[ 0  1  2  3]\n",
      " [ 4  5  6  7]\n",
      " [ 8  9 10 11]\n",
      " [12 13 14 15]]\n",
      "9\n"
     ]
    }
   ],
   "source": [
    "# تحديد عنصر\n",
    "\n",
    "a = arange(16).reshape(4,4)\n",
    "\n",
    "b = a[2][1]\n",
    "\n",
    "print(a)\n",
    "print(b)"
   ]
  },
  {
   "cell_type": "code",
   "execution_count": 22,
   "metadata": {},
   "outputs": [
    {
     "name": "stdout",
     "output_type": "stream",
     "text": [
      "[[0 1]\n",
      " [2 3]]\n",
      "--------------------\n",
      "[[0 2]\n",
      " [4 6]]\n",
      "--------------------\n",
      "[[0 1]\n",
      " [2 3]\n",
      " [0 2]\n",
      " [4 6]]\n"
     ]
    }
   ],
   "source": [
    "# ضم المصفوفات رأسي\n",
    "# لازم يكون عدد الاعمده متساوي في كلا المصفوفات\n",
    "\n",
    "a = arange(4).reshape(2,2)\n",
    "b = 2*arange(4).reshape(2,2)\n",
    "\n",
    "c = vstack((a,b))\n",
    "\n",
    "print(a)\n",
    "print(\"-\"*20)\n",
    "print(b)\n",
    "print(\"-\"*20)\n",
    "print(c)"
   ]
  },
  {
   "cell_type": "code",
   "execution_count": 23,
   "metadata": {},
   "outputs": [
    {
     "name": "stdout",
     "output_type": "stream",
     "text": [
      "[[0 1]\n",
      " [2 3]]\n",
      "--------------------\n",
      "[[0 2]\n",
      " [4 6]]\n",
      "--------------------\n",
      "[[0 1 0 2]\n",
      " [2 3 4 6]]\n"
     ]
    }
   ],
   "source": [
    "# ضم المصفوفات أفقي\n",
    "# لازم يكون عدد الصفوف متساوي في كلا المصفوفات\n",
    "\n",
    "a = arange(4).reshape(2,2)\n",
    "b = 2*arange(4).reshape(2,2)\n",
    "\n",
    "c = hstack((a,b))\n",
    "\n",
    "print(a)\n",
    "print(\"-\"*20)\n",
    "print(b)\n",
    "print(\"-\"*20)\n",
    "print(c)"
   ]
  },
  {
   "cell_type": "code",
   "execution_count": 24,
   "metadata": {},
   "outputs": [
    {
     "name": "stdout",
     "output_type": "stream",
     "text": [
      "[[10 16  6]\n",
      " [17  7 18]\n",
      " [12 18 11]]\n",
      "--------------------\n",
      "[[19 19 12]\n",
      " [ 9  9 19]\n",
      " [11 15 15]]\n",
      "--------------------\n",
      "[[10 16  6]\n",
      " [17  7 18]\n",
      " [12 18 11]\n",
      " [19 19 12]\n",
      " [ 9  9 19]\n",
      " [11 15 15]]\n"
     ]
    }
   ],
   "source": [
    "# زيادة رأسيه \n",
    "\n",
    "a = random.randint(5,20, size=9).reshape(3,3)\n",
    "b = random.randint(5,20, size=9).reshape(3,3)\n",
    "c = concatenate([a,b], axis = 0) # axis = 0 => كدا زياده رأسيه\n",
    "\n",
    "print(a)\n",
    "print(\"-\"*20)\n",
    "print(b)\n",
    "print(\"-\"*20)\n",
    "print(c)"
   ]
  },
  {
   "cell_type": "code",
   "execution_count": 25,
   "metadata": {},
   "outputs": [
    {
     "name": "stdout",
     "output_type": "stream",
     "text": [
      "[[12 11 10]\n",
      " [14  5 11]\n",
      " [ 9  9  9]]\n",
      "--------------------\n",
      "[[ 6  6  6]\n",
      " [13 14  8]\n",
      " [ 5  5 14]]\n",
      "--------------------\n",
      "[[12 11 10  6  6  6]\n",
      " [14  5 11 13 14  8]\n",
      " [ 9  9  9  5  5 14]]\n"
     ]
    }
   ],
   "source": [
    "# زيادة أفقيه\n",
    "\n",
    "a = random.randint(5,20, size=9).reshape(3,3)\n",
    "b = random.randint(5,20, size=9).reshape(3,3)\n",
    "c = concatenate([a,b], axis = 1) # axis = 1 => كدا زياده أفقيه\n",
    "\n",
    "print(a)\n",
    "print(\"-\"*20)\n",
    "print(b)\n",
    "print(\"-\"*20)\n",
    "print(c)"
   ]
  },
  {
   "cell_type": "code",
   "execution_count": 28,
   "metadata": {},
   "outputs": [
    {
     "name": "stdout",
     "output_type": "stream",
     "text": [
      "[[ 7 13 10]\n",
      " [18 14  6]\n",
      " [16 15 10]]\n",
      "--------------------\n",
      "18\n",
      "--------------------\n",
      "6\n",
      "--------------------\n",
      "3\n",
      "--------------------\n",
      "5\n",
      "--------------------\n"
     ]
    }
   ],
   "source": [
    "# أكبر واصغر قيمه \n",
    "import numpy as np\n",
    "\n",
    "a = np.random.randint(5,20, size=9).reshape(3,3)\n",
    "\n",
    "b = np.max(a)\n",
    "c = np.min(a)\n",
    "d = np.argmax(a)\n",
    "e = np.argmin(a)\n",
    "\n",
    "print(a)\n",
    "print(\"-\"*20)\n",
    "print(b)\n",
    "print(\"-\"*20)\n",
    "print(c)\n",
    "print(\"-\"*20)\n",
    "print(d)\n",
    "print(\"-\"*20)\n",
    "print(e)\n",
    "print(\"-\"*20)\n",
    "\n"
   ]
  },
  {
   "cell_type": "code",
   "execution_count": 29,
   "metadata": {},
   "outputs": [
    {
     "name": "stdout",
     "output_type": "stream",
     "text": [
      "[[ 8 12 17]\n",
      " [15  5  5]\n",
      " [15 15  9]]\n",
      "--------------------\n",
      "18.839506172839506\n",
      "--------------------\n",
      "[[ 20.33333333 -21.66666667 -14.        ]\n",
      " [-21.66666667  33.33333333  10.        ]\n",
      " [-14.          10.          12.        ]]\n"
     ]
    }
   ],
   "source": [
    "# ايجاد ال Variance وال Covariance \n",
    "\n",
    "a = random.randint(5,20, size=9).reshape(3,3)\n",
    "\n",
    "b = var(a)\n",
    "c = cov(a)\n",
    "\n",
    "print(a)\n",
    "print(\"-\"*20)\n",
    "print(b)\n",
    "print(\"-\"*20)\n",
    "print(c)"
   ]
  },
  {
   "cell_type": "markdown",
   "metadata": {},
   "source": [
    "# Numpy 8 العمليات الرياضيه للمصفوفات"
   ]
  },
  {
   "cell_type": "code",
   "execution_count": 1,
   "metadata": {},
   "outputs": [
    {
     "name": "stdout",
     "output_type": "stream",
     "text": [
      "[[10  8  5]\n",
      " [13 19 11]\n",
      " [14  7  7]]\n",
      "--------------------\n",
      "[[ 6 17 16]\n",
      " [13 15 14]\n",
      " [12  8 16]]\n",
      "--------------------\n",
      "[[16 25 21]\n",
      " [26 34 25]\n",
      " [26 15 23]]\n",
      "--------------------\n",
      "[[  4  -9 -11]\n",
      " [  0   4  -3]\n",
      " [  2  -1  -9]]\n"
     ]
    }
   ],
   "source": [
    "# الجمع والطرح \n",
    "\n",
    "from numpy import *\n",
    "\n",
    "a = random.randint(5,20, size=9).reshape(3,3)\n",
    "b = random.randint(5,20, size=9).reshape(3,3)\n",
    "\n",
    "c = a+b # => جمع \n",
    "d = a-b # => طرح\n",
    "\n",
    "print(a)\n",
    "print(\"-\"*20)\n",
    "print(b)\n",
    "print(\"-\"*20)\n",
    "print(c)\n",
    "print(\"-\"*20)\n",
    "print(d)"
   ]
  },
  {
   "cell_type": "code",
   "execution_count": 2,
   "metadata": {},
   "outputs": [
    {
     "name": "stdout",
     "output_type": "stream",
     "text": [
      "[[14  5 18]\n",
      " [16 15  6]\n",
      " [17 11 14]]\n",
      "--------------------\n",
      "[[16 12 16]\n",
      " [ 5  5 13]\n",
      " [13 13 17]]\n",
      "--------------------\n",
      "[[224  60 288]\n",
      " [ 80  75  78]\n",
      " [221 143 238]]\n",
      "--------------------\n",
      "[[0.875      0.41666667 1.125     ]\n",
      " [3.2        3.         0.46153846]\n",
      " [1.30769231 0.84615385 0.82352941]]\n"
     ]
    }
   ],
   "source": [
    "# الضرب والقسمه \n",
    "\n",
    "a = random.randint(5,20, size=9).reshape(3,3)\n",
    "b = random.randint(5,20, size=9).reshape(3,3)\n",
    "\n",
    "# a*b => النوع الاول من الضرب كل رقم في اخوه\n",
    "\n",
    "c = a*b\n",
    "d = a/b # Division\n",
    "\n",
    "print(a)\n",
    "print(\"-\"*20)\n",
    "print(b)\n",
    "print(\"-\"*20)\n",
    "print(c)\n",
    "print(\"-\"*20)\n",
    "print(d)\n"
   ]
  },
  {
   "cell_type": "code",
   "execution_count": 3,
   "metadata": {},
   "outputs": [
    {
     "name": "stdout",
     "output_type": "stream",
     "text": [
      "[[14 18 19]\n",
      " [13 13  5]\n",
      " [ 5  7 17]]\n",
      "--------------------\n",
      "[[ 7 18 10]\n",
      " [ 9 16 15]\n",
      " [15 17  7]]\n",
      "--------------------\n",
      "[[42 54 57]\n",
      " [39 39 15]\n",
      " [15 21 51]]\n",
      "--------------------\n",
      "[[1.4 3.6 2. ]\n",
      " [1.8 3.2 3. ]\n",
      " [3.  3.4 1.4]]\n"
     ]
    }
   ],
   "source": [
    "a = random.randint(5,20, size=9).reshape(3,3)\n",
    "b = random.randint(5,20, size=9).reshape(3,3)\n",
    "\n",
    "# a*n => دا معناه امسك كل رقمه اضربه في n\n",
    "\n",
    "\n",
    "c = a*3\n",
    "d = b/5 # Division\n",
    "\n",
    "print(a)\n",
    "print(\"-\"*20)\n",
    "print(b)\n",
    "print(\"-\"*20)\n",
    "print(c)\n",
    "print(\"-\"*20)\n",
    "print(d)"
   ]
  },
  {
   "cell_type": "code",
   "execution_count": 4,
   "metadata": {},
   "outputs": [
    {
     "name": "stdout",
     "output_type": "stream",
     "text": [
      "[[2 2 2]\n",
      " [1 1 2]\n",
      " [2 1 2]]\n",
      "--------------------\n",
      "[[1 3 3]\n",
      " [2 2 1]\n",
      " [3 1 1]]\n",
      "--------------------\n",
      "[[12 12 10]\n",
      " [ 9  7  6]\n",
      " [10 10  9]]\n"
     ]
    }
   ],
   "source": [
    "# Multiplication Matrices\n",
    "\n",
    "a = random.randint(1,4, size=9).reshape(3,3)\n",
    "b = random.randint(1,4, size=9).reshape(3,3)\n",
    "\n",
    "c = dot(a,b) # الضرب الجبري للمصفوفات\n",
    "\n",
    "# لازم عدد الاعمده ف المصفوفه الاولي يساوي عدد الصفوف ف المصفوفه الثانيه\n",
    "\n",
    "print(a)\n",
    "print(\"-\"*20)\n",
    "print(b)\n",
    "print(\"-\"*20)\n",
    "print(c)"
   ]
  },
  {
   "cell_type": "code",
   "execution_count": 6,
   "metadata": {},
   "outputs": [
    {
     "name": "stdout",
     "output_type": "stream",
     "text": [
      "[[ 6  7 15]\n",
      " [13  8 16]\n",
      " [17 16 12]]\n",
      "--------------------\n",
      "110\n",
      "--------------------\n",
      "110\n",
      "--------------------\n",
      "[28 37 45]\n",
      "--------------------\n",
      "[36 31 43]\n"
     ]
    }
   ],
   "source": [
    "# Sum Values\n",
    "\n",
    "a = random.randint(5,20, size=9).reshape(3,3)\n",
    "\n",
    "b = sum(a) # => كدا بجيب مجموع المصفوفه\n",
    "c = a.sum() # => كدا برضو بجيب مجموع المصفوفه\n",
    "\n",
    "d = a.sum(axis=1) # => كدا هيجيب مجموع كل صف لوحده ويخليهم ف ماتريكس\n",
    "e = a.sum(axis=0) # => كدا هيجيب مجموع كل عمود لوحده ويخليهم ف ماتريكس\n",
    "\n",
    "print(a)\n",
    "print(\"-\"*20)\n",
    "print(b)\n",
    "print(\"-\"*20)\n",
    "print(c)\n",
    "print(\"-\"*20)\n",
    "print(d)\n",
    "print(\"-\"*20)\n",
    "print(e)"
   ]
  },
  {
   "cell_type": "code",
   "execution_count": 7,
   "metadata": {},
   "outputs": [
    {
     "name": "stdout",
     "output_type": "stream",
     "text": [
      "[[16 18 14]\n",
      " [17 10  5]\n",
      " [ 7 11  8]]\n",
      "--------------------\n",
      "11.777777777777779\n",
      "--------------------\n",
      "4.416579314300398\n",
      "--------------------\n",
      "19.506172839506174\n",
      "--------------------\n"
     ]
    }
   ],
   "source": [
    "# قيم احصائيه\n",
    "\n",
    "a = random.randint(5,20, size=9).reshape(3,3)\n",
    "\n",
    "b = a.mean() # => كدا هجيب المتوسط بتاع المصفوفه \n",
    "c = a.std() \n",
    "d = a.var() # => الانحراف\n",
    "\n",
    "print(a)\n",
    "print(\"-\"*20)\n",
    "print(b)\n",
    "print(\"-\"*20)\n",
    "print(c)\n",
    "print(\"-\"*20)\n",
    "print(d)\n",
    "print(\"-\"*20)"
   ]
  },
  {
   "cell_type": "code",
   "execution_count": 8,
   "metadata": {},
   "outputs": [
    {
     "name": "stdout",
     "output_type": "stream",
     "text": [
      "[[ 8 15  5]\n",
      " [10  7 10]\n",
      " [16 18 11]]\n",
      "--------------------\n",
      "[[ 1.         -0.95632472  0.89178333]\n",
      " [-0.95632472  1.         -0.72057669]\n",
      " [ 0.89178333 -0.72057669  1.        ]]\n"
     ]
    }
   ],
   "source": [
    "# معامل الارتباط\n",
    "\n",
    "a = random.randint(5,20, size=9).reshape(3,3)\n",
    "\n",
    "b = corrcoef(a)\n",
    "\n",
    "print(a)\n",
    "print(\"-\"*20)\n",
    "print(b)"
   ]
  },
  {
   "cell_type": "code",
   "execution_count": 9,
   "metadata": {},
   "outputs": [
    {
     "name": "stdout",
     "output_type": "stream",
     "text": [
      "[[10 10 15]\n",
      " [14 10 19]\n",
      " [ 6  8 10]]\n",
      "--------------------\n",
      "[[10 10 15]\n",
      " [10 14 19]\n",
      " [ 6  8 10]]\n",
      "--------------------\n",
      "[[ 6  8 10]\n",
      " [10 10 15]\n",
      " [14 10 19]]\n"
     ]
    }
   ],
   "source": [
    "# الترتيب الأفقي والرأسي \n",
    "\n",
    "a = random.randint(5,20, size=9).reshape(3,3)\n",
    "\n",
    "b = sort(a, axis=1) # كدا هيرتب كل صف أفقي\n",
    "c = sort(a, axis=0) # كدا هيرتب كل صف رأسي\n",
    "\n",
    "print(a)\n",
    "print(\"-\"*20)\n",
    "print(b)\n",
    "print(\"-\"*20)\n",
    "print(c)\n"
   ]
  },
  {
   "cell_type": "code",
   "execution_count": 3,
   "metadata": {},
   "outputs": [
    {
     "name": "stdout",
     "output_type": "stream",
     "text": [
      "[[1 3 1]\n",
      " [3 1 1]\n",
      " [1 2 1]]\n",
      "--------------------\n",
      "[[ 5.00000000e-01  5.00000000e-01 -1.00000000e+00]\n",
      " [ 1.00000000e+00  2.08166817e-17 -1.00000000e+00]\n",
      " [-2.50000000e+00 -5.00000000e-01  4.00000000e+00]]\n",
      "--------------------\n",
      "[[1.00000000e+00 1.11022302e-16 0.00000000e+00]\n",
      " [0.00000000e+00 1.00000000e+00 0.00000000e+00]\n",
      " [0.00000000e+00 0.00000000e+00 1.00000000e+00]]\n"
     ]
    }
   ],
   "source": [
    "# معكوس المصفوفه\n",
    "\n",
    "a = random.randint(1,5, size=9).reshape(3,3)\n",
    "\n",
    "b = linalg.inv(a)\n",
    "\n",
    "c = dot(a,b)\n",
    "\n",
    "print(a)\n",
    "print(\"-\"*20)\n",
    "print(b)\n",
    "print(\"-\"*20)\n",
    "print(c)"
   ]
  },
  {
   "cell_type": "markdown",
   "metadata": {},
   "source": [
    "# Numpy 9 قراءة الملفات"
   ]
  },
  {
   "cell_type": "code",
   "execution_count": 15,
   "metadata": {},
   "outputs": [
    {
     "name": "stdout",
     "output_type": "stream",
     "text": [
      "[(b'M', 1.72) (b'M', 1.83) (b'F', 1.56) (b'F', 1.64) (b'M', 1.63)\n",
      " (b'M', 1.67) (b'M', 1.66) (b'F', 1.59) (b'F', 1.7 ) (b'M', 1.97)\n",
      " (b'F', 1.66) (b'F', 1.63) (b'M', 1.69)]\n"
     ]
    }
   ],
   "source": [
    "# فتح الملفات\n",
    "\n",
    "from numpy import *\n",
    "\n",
    "fname = r\"D:\\pythonfiels\\1.txt.txt\"\n",
    "\n",
    "dtype1 = dtype([('gender', '|S1'), ('height', 'f8')])\n",
    "\n",
    "a = loadtxt(fname, dtype=dtype1, skiprows=9, usecols=(1,3))\n",
    "\n",
    "print(a)"
   ]
  },
  {
   "cell_type": "markdown",
   "metadata": {},
   "source": [
    "# Numpy 10 التعامل مع كثيرة الحدود (Polynomials)"
   ]
  },
  {
   "cell_type": "code",
   "execution_count": 2,
   "metadata": {},
   "outputs": [
    {
     "name": "stdout",
     "output_type": "stream",
     "text": [
      "5.5 - 4.5 x\n"
     ]
    }
   ],
   "source": [
    "# الدرجه الاولي \n",
    "import numpy as np\n",
    "\n",
    "Polynomial = np.polynomial.Polynomial\n",
    "\n",
    "X = np.array([0,20,40,60,80,100,120,140,160,180])\n",
    "Y = np.array([10,9,8,7,6,5,4,3,2,1])\n",
    "\n",
    "points,state = Polynomial.fit(X,Y,1,full=True)\n",
    "# fit => معناها يلائم \n",
    "# num 1 in linear معناه درجه اولي \n",
    "\n",
    "\n",
    "print(points)"
   ]
  },
  {
   "cell_type": "code",
   "execution_count": 4,
   "metadata": {},
   "outputs": [
    {
     "name": "stdout",
     "output_type": "stream",
     "text": [
      "5.5 - 4.5 x - (1.62206443e-15) x**2\n"
     ]
    }
   ],
   "source": [
    "# الدرجه التانيه\n",
    "import numpy as np\n",
    "\n",
    "Polynomial = np.polynomial.Polynomial\n",
    "\n",
    "X = np.array([0,20,40,60,80,100,120,140,160,180])\n",
    "Y = np.array([10,9,8,7,6,5,4,3,2,1])\n",
    "\n",
    "points,state = Polynomial.fit(X,Y,2,full=True)\n",
    "# fit => معناها يلائم \n",
    "# num 2 in linear معناه درجه تانيه \n",
    "\n",
    "\n",
    "print(points)"
   ]
  },
  {
   "cell_type": "code",
   "execution_count": 5,
   "metadata": {},
   "outputs": [
    {
     "name": "stdout",
     "output_type": "stream",
     "text": [
      "5.5 - 4.5 x - (1.62206443e-15) x**2 - (8.72975182e-16) x**3\n"
     ]
    }
   ],
   "source": [
    "# الدرجه التالته\n",
    "import numpy as np\n",
    "\n",
    "Polynomial = np.polynomial.Polynomial\n",
    "\n",
    "X = np.array([0,20,40,60,80,100,120,140,160,180])\n",
    "Y = np.array([10,9,8,7,6,5,4,3,2,1])\n",
    "\n",
    "points,state = Polynomial.fit(X,Y,3,full=True)\n",
    "# fit => معناها يلائم \n",
    "# num 3 in linear معناه درجه اولي \n",
    "\n",
    "\n",
    "print(points)"
   ]
  },
  {
   "cell_type": "code",
   "execution_count": 8,
   "metadata": {},
   "outputs": [
    {
     "name": "stdout",
     "output_type": "stream",
     "text": [
      " \n",
      "-7\n",
      "--------------------\n",
      " \n",
      "-7 x + 2\n",
      "--------------------\n",
      "    2\n",
      "-7 x + 2 x + 1\n",
      "--------------------\n",
      "    3     2\n",
      "-7 x + 2 x + 1 x + 3\n",
      "--------------------\n",
      "    4     3     2\n",
      "-7 x + 2 x + 1 x + 3 x + 6\n"
     ]
    }
   ],
   "source": [
    "# كتابة ال poly\n",
    "\n",
    "a = poly1d((-7))\n",
    "b = poly1d((-7,2))\n",
    "c = poly1d((-7,2,1))\n",
    "d = poly1d((-7,2,1,3))\n",
    "e = poly1d((-7,2,1,3,6))\n",
    "\n",
    "print(a)\n",
    "print(\"-\"*20)\n",
    "print(b)\n",
    "print(\"-\"*20)\n",
    "print(c)\n",
    "print(\"-\"*20)\n",
    "print(d)\n",
    "print(\"-\"*20)\n",
    "print(e)"
   ]
  },
  {
   "cell_type": "code",
   "execution_count": 9,
   "metadata": {},
   "outputs": [
    {
     "name": "stdout",
     "output_type": "stream",
     "text": [
      "    4     3     2\n",
      "-7 x + 2 x + 1 x + 3 x + 6\n",
      "--------------------\n",
      "-4079\n",
      "--------------------\n",
      "6\n",
      "--------------------\n",
      "-360939\n"
     ]
    }
   ],
   "source": [
    "# ممكن اعوض بقيمة x معينه ف المعادله \n",
    "\n",
    "a = poly1d((-7,2,1,3,6))\n",
    "\n",
    "b=a(5) # كدا يعني بدل كل x حط قيمة 5 \n",
    "c =a(0)\n",
    "d =a(-15)\n",
    "\n",
    "print(a)\n",
    "print(\"-\"*20)\n",
    "print(b)\n",
    "print(\"-\"*20)\n",
    "print(c)\n",
    "print(\"-\"*20)\n",
    "print(d)"
   ]
  },
  {
   "cell_type": "code",
   "execution_count": 10,
   "metadata": {},
   "outputs": [
    {
     "name": "stdout",
     "output_type": "stream",
     "text": [
      "4\n",
      "--------------------\n",
      "66\n",
      "--------------------\n",
      "-13\n",
      "--------------------\n",
      "29738.769599999992\n"
     ]
    }
   ],
   "source": [
    "# ممكن اعوض مباشر في متغير واحد اديله درجة المعادله وقيمة التعويض \n",
    "\n",
    "a = polyval((1,2),2) # كدا معادله من الدرجه الاولي وهيعوض بقيمة 2 \n",
    "b = polyval((1,2,3),7)\n",
    "c = polyval((1,2,3,5),-3)\n",
    "d = polyval((1,2,3,5,-6),12.6)\n",
    "\n",
    "print(a)\n",
    "print(\"-\"*20)\n",
    "print(b)\n",
    "print(\"-\"*20)\n",
    "print(c)\n",
    "print(\"-\"*20)\n",
    "print(d)"
   ]
  },
  {
   "cell_type": "code",
   "execution_count": 11,
   "metadata": {},
   "outputs": [
    {
     "name": "stdout",
     "output_type": "stream",
     "text": [
      " \n",
      "2 x + 2\n",
      "--------------------\n",
      " \n",
      "2\n",
      "--------------------\n",
      " \n",
      "0\n",
      "--------------------\n",
      "   3     2\n",
      "4 x + 6 x + 6 x + 5\n",
      "--------------------\n",
      " \n",
      "24 x + 12\n"
     ]
    }
   ],
   "source": [
    "# اشتقاق المعادله \n",
    "\n",
    "a = polyder(poly1d((1,2,3))) # دي معناها اشتقلي المعادله الخطيه دي \n",
    "b = polyder(poly1d((1,2,3)),2) # دي معناها اعمل اشتقاق تراكمي يعني اشتق المعادله مرتين\n",
    "c = polyder(poly1d((1,2,3)),3) # 3 \n",
    "\n",
    "d = polyder(poly1d((1,2,3,5,12)))\n",
    "e = polyder(poly1d((1,2,3,5,12)),3)\n",
    "\n",
    "print(a)\n",
    "print(\"-\"*20)\n",
    "print(b)\n",
    "print(\"-\"*20)\n",
    "print(c)\n",
    "print(\"-\"*20)\n",
    "print(d)\n",
    "print(\"-\"*20)\n",
    "print(e)"
   ]
  },
  {
   "cell_type": "code",
   "execution_count": 12,
   "metadata": {},
   "outputs": [
    {
     "name": "stdout",
     "output_type": "stream",
     "text": [
      "6\n",
      "--------------------\n",
      "2\n",
      "--------------------\n",
      "0\n",
      "--------------------\n",
      "1\n",
      "--------------------\n",
      "132\n"
     ]
    }
   ],
   "source": [
    "# ممكن اعمل تعويض ف الاشتقاق نفسه \n",
    "\n",
    "a = polyder(poly1d((1,2,3)))\n",
    "b = polyder(poly1d((1,2,3)),2)\n",
    "c = polyder(poly1d((1,2,3)),3)\n",
    "\n",
    "d = polyder(poly1d((1,2,3,5,12)))\n",
    "e = polyder(poly1d((1,2,3,5,12)),3)\n",
    "\n",
    "print(a(2))\n",
    "print(\"-\"*20)\n",
    "print(b(0))\n",
    "print(\"-\"*20)\n",
    "print(c(3))\n",
    "print(\"-\"*20)\n",
    "print(d(-1))\n",
    "print(\"-\"*20)\n",
    "print(e(5))"
   ]
  },
  {
   "cell_type": "code",
   "execution_count": 13,
   "metadata": {},
   "outputs": [
    {
     "name": "stdout",
     "output_type": "stream",
     "text": [
      "        3     2\n",
      "0.3333 x + 1 x + 3 x\n",
      "--------------------\n",
      "         4          3       2\n",
      "0.08333 x + 0.3333 x + 1.5 x\n",
      "--------------------\n",
      "         5           4       3\n",
      "0.01667 x + 0.08333 x + 0.5 x\n",
      "--------------------\n",
      "     5       4     3       2\n",
      "0.2 x + 0.5 x + 1 x + 7.5 x + 12 x\n",
      "--------------------\n",
      "          7           6        5         4     3\n",
      "0.004762 x + 0.01667 x + 0.05 x + 0.625 x + 2 x\n"
     ]
    }
   ],
   "source": [
    "# التكامل \n",
    "\n",
    "a = polyint(poly1d((1,2,3)))\n",
    "b = polyint(poly1d((1,2,3)),2)\n",
    "c = polyint(poly1d((1,2,3)),3)\n",
    "\n",
    "\n",
    "d = polyint(poly1d((1,2,3,15,12)))\n",
    "e = polyint(poly1d((1,2,3,15,12)),3)\n",
    "\n",
    "print(a)\n",
    "print(\"-\"*20)\n",
    "print(b)\n",
    "print(\"-\"*20)\n",
    "print(c)\n",
    "print(\"-\"*20)\n",
    "print(d)\n",
    "print(\"-\"*20)\n",
    "print(e)"
   ]
  },
  {
   "cell_type": "code",
   "execution_count": 14,
   "metadata": {},
   "outputs": [
    {
     "name": "stdout",
     "output_type": "stream",
     "text": [
      "12.666666666666666\n",
      "--------------------\n",
      "0.0\n",
      "--------------------\n",
      "24.300000000000004\n",
      "--------------------\n",
      "-5.2\n",
      "--------------------\n",
      "1429.3154761904761\n"
     ]
    }
   ],
   "source": [
    "# ممكن اعوض ف التكامل \n",
    "\n",
    "a = polyint(poly1d((1,2,3)))\n",
    "b = polyint(poly1d((1,2,3)),2)\n",
    "c = polyint(poly1d((1,2,3)),3)\n",
    "\n",
    "\n",
    "d = polyint(poly1d((1,2,3,15,12)))\n",
    "e = polyint(poly1d((1,2,3,15,12)),3)\n",
    "\n",
    "print(a(2))\n",
    "print(\"-\"*20)\n",
    "print(b(0))\n",
    "print(\"-\"*20)\n",
    "print(c(3))\n",
    "print(\"-\"*20)\n",
    "print(d(-1))\n",
    "print(\"-\"*20)\n",
    "print(e(5))"
   ]
  },
  {
   "cell_type": "code",
   "execution_count": 15,
   "metadata": {},
   "outputs": [
    {
     "name": "stdout",
     "output_type": "stream",
     "text": [
      "[-2.]\n",
      "--------------------\n",
      "[-1.+1.41421356j -1.-1.41421356j]\n",
      "--------------------\n",
      "[-1.84373428+0.j         -0.07813286+1.64492638j -0.07813286-1.64492638j]\n",
      "--------------------\n",
      "[-1.61635728+1.15083694j -1.61635728-1.15083694j  0.61635728+1.63342631j\n",
      "  0.61635728-1.63342631j]\n",
      "--------------------\n",
      "[ 0.98732723+1.53502015j  0.98732723-1.53502015j -1.06743101+1.56536107j\n",
      " -1.06743101-1.56536107j -1.83979245+0.j        ]\n"
     ]
    }
   ],
   "source": [
    "# جذور المعادله (حلها)\n",
    "\n",
    "# => يعني ايه قيم x اللي هتصفر المعادله \n",
    "\n",
    "\n",
    "a = roots(poly1d((1,2)))\n",
    "b = roots(poly1d((1,2,3)))\n",
    "c = roots(poly1d((1,2,3,5)))\n",
    "d = roots(poly1d((1,2,3,5,12)))\n",
    "e = roots(poly1d((1,2,3,5,12,22)))\n",
    "\n",
    "print(a)\n",
    "print(\"-\"*20)\n",
    "print(b)\n",
    "print(\"-\"*20)\n",
    "print(c)\n",
    "print(\"-\"*20)\n",
    "print(d)\n",
    "print(\"-\"*20)\n",
    "print(e)"
   ]
  },
  {
   "cell_type": "code",
   "execution_count": 16,
   "metadata": {},
   "outputs": [
    {
     "name": "stdout",
     "output_type": "stream",
     "text": [
      "[3 6 2 5 4]\n",
      "--------------------\n",
      "[ 2.   3.  -9.   6.   2.5]\n",
      "--------------------\n",
      "[ -1.78571429  17.08571429 -35.3       ]\n",
      "--------------------\n"
     ]
    }
   ],
   "source": [
    "# توافق النقاط \n",
    "\n",
    "x = array([3,6,2,5,4])\n",
    "y = array([2,3,-9,6,2.5])\n",
    "\n",
    "z = polyfit(x,y,2)\n",
    "\n",
    "print(x)\n",
    "print('-'*20)\n",
    "print(y)\n",
    "print('-'*20)\n",
    "print(z)\n",
    "print('-'*20)"
   ]
  },
  {
   "cell_type": "markdown",
   "metadata": {},
   "source": [
    "# Numpy 11 التعامل مع التاريخ"
   ]
  },
  {
   "cell_type": "code",
   "execution_count": 2,
   "metadata": {},
   "outputs": [
    {
     "name": "stdout",
     "output_type": "stream",
     "text": [
      "2024-07-07\n",
      "--------------------\n",
      "2024-07-07\n"
     ]
    }
   ],
   "source": [
    "from numpy import *\n",
    "\n",
    "x = array('2024-07-07',dtype=datetime64)\n",
    "\n",
    "d = datetime64('2024-07-07') # ممكن بالطريقه دي كمان \n",
    "\n",
    "print(x)\n",
    "print('-'*20)\n",
    "print(d)"
   ]
  },
  {
   "cell_type": "code",
   "execution_count": 3,
   "metadata": {},
   "outputs": [
    {
     "name": "stdout",
     "output_type": "stream",
     "text": [
      "2024-07-25\n",
      "--------------------\n",
      "['2024-07-25' '2024-07-26' '2024-07-27' '2024-07-28' '2024-07-29'\n",
      " '2024-07-30' '2024-07-31' '2024-08-01' '2024-08-02' '2024-08-03'\n",
      " '2024-08-04' '2024-08-05']\n"
     ]
    }
   ],
   "source": [
    "x = datetime64('2024-07-25')\n",
    "\n",
    "y = x + arange(12)\n",
    "\n",
    "print(x)\n",
    "print('-'*20)\n",
    "print(y)"
   ]
  },
  {
   "cell_type": "code",
   "execution_count": 4,
   "metadata": {},
   "outputs": [
    {
     "name": "stdout",
     "output_type": "stream",
     "text": [
      "2024-07-25\n",
      "--------------------\n",
      "['2024-07-25' '2024-07-24' '2024-07-23' '2024-07-22' '2024-07-21'\n",
      " '2024-07-20' '2024-07-19' '2024-07-18' '2024-07-17' '2024-07-16'\n",
      " '2024-07-15' '2024-07-14']\n"
     ]
    }
   ],
   "source": [
    "x = datetime64('2024-07-25')\n",
    "\n",
    "y = x - arange(12)\n",
    "\n",
    "print(x)\n",
    "print('-'*20)\n",
    "print(y)"
   ]
  },
  {
   "cell_type": "code",
   "execution_count": 5,
   "metadata": {},
   "outputs": [
    {
     "name": "stdout",
     "output_type": "stream",
     "text": [
      "2002-06-01\n",
      "--------------------\n",
      "2024-07-12\n",
      "--------------------\n",
      "8077 days\n"
     ]
    }
   ],
   "source": [
    "x = datetime64('2002-06-01')\n",
    "y = datetime64('2024-07-12')\n",
    "\n",
    "z = y - x\n",
    "\n",
    "print(x)\n",
    "print('-'*20)\n",
    "print(y)\n",
    "print('-'*20)\n",
    "print(z)\n"
   ]
  },
  {
   "cell_type": "markdown",
   "metadata": {},
   "source": [
    "# الدوال في Numpy"
   ]
  },
  {
   "cell_type": "code",
   "execution_count": 7,
   "metadata": {},
   "outputs": [
    {
     "name": "stdout",
     "output_type": "stream",
     "text": [
      "[  0.   1.   8.  27.  64. 125. 216. 343. 512. 729.]\n",
      "--------------------\n"
     ]
    }
   ],
   "source": [
    "# يتم استخدامها بأداة fromfunction\n",
    "\n",
    "x = fromfunction(lambda i : i**3, (10,))\n",
    "\n",
    "print(x)\n",
    "print('-'*20)"
   ]
  },
  {
   "cell_type": "code",
   "execution_count": 8,
   "metadata": {},
   "outputs": [
    {
     "name": "stdout",
     "output_type": "stream",
     "text": [
      "[ 375.  648. 1029. 1536. 2187. 3000. 3993. 5184. 6591. 8232.]\n",
      "--------------------\n"
     ]
    }
   ],
   "source": [
    "x = fromfunction(lambda i : 3 * (i+5)**3, (10,))\n",
    "\n",
    "print(x)\n",
    "print('-'*20)"
   ]
  },
  {
   "cell_type": "code",
   "execution_count": 9,
   "metadata": {},
   "outputs": [
    {
     "name": "stdout",
     "output_type": "stream",
     "text": [
      "[[0. 1. 2. 3. 4.]\n",
      " [1. 2. 3. 4. 5.]\n",
      " [2. 3. 4. 5. 6.]\n",
      " [3. 4. 5. 6. 7.]]\n",
      "--------------------\n"
     ]
    }
   ],
   "source": [
    "x = fromfunction(lambda i,j : i+j, (4,5))\n",
    "\n",
    "print(x)\n",
    "print('-'*20)"
   ]
  },
  {
   "cell_type": "code",
   "execution_count": 10,
   "metadata": {},
   "outputs": [
    {
     "name": "stdout",
     "output_type": "stream",
     "text": [
      "[[ 0.  0.  0.  0.  0.]\n",
      " [ 0.  3.  6.  9. 12.]\n",
      " [ 0.  6. 12. 18. 24.]\n",
      " [ 0.  9. 18. 27. 36.]]\n",
      "--------------------\n"
     ]
    }
   ],
   "source": [
    "x = fromfunction(lambda i,j : 3*i*j, (4,5))\n",
    "\n",
    "print(x)\n",
    "print('-'*20)"
   ]
  },
  {
   "cell_type": "code",
   "execution_count": 11,
   "metadata": {},
   "outputs": [
    {
     "name": "stdout",
     "output_type": "stream",
     "text": [
      "[[[0. 1. 2. 3.]\n",
      "  [1. 2. 3. 4.]\n",
      "  [2. 3. 4. 5.]]\n",
      "\n",
      " [[1. 2. 3. 4.]\n",
      "  [2. 3. 4. 5.]\n",
      "  [3. 4. 5. 6.]]]\n",
      "--------------------\n"
     ]
    }
   ],
   "source": [
    "x = fromfunction(lambda i,j,k : i+j+k, (2,3,4))\n",
    "\n",
    "print(x)\n",
    "print('-'*20)"
   ]
  },
  {
   "cell_type": "code",
   "execution_count": 12,
   "metadata": {},
   "outputs": [
    {
     "name": "stdout",
     "output_type": "stream",
     "text": [
      "[ 0  1  4  9 16 25 36 49 64]\n",
      "--------------------\n"
     ]
    }
   ],
   "source": [
    "def powers(i):\n",
    "    i = i**2\n",
    "    return i\n",
    "\n",
    "x = fromfunction(powers, (9,), dtype=int)\n",
    "\n",
    "print(x)\n",
    "print('-'*20)"
   ]
  },
  {
   "cell_type": "code",
   "execution_count": 13,
   "metadata": {},
   "outputs": [
    {
     "name": "stdout",
     "output_type": "stream",
     "text": [
      "[ True False False False False  True False False False False  True False\n",
      " False False False  True False False False False]\n",
      "--------------------\n"
     ]
    }
   ],
   "source": [
    "m,n = 20,5\n",
    "\n",
    "def f(i):\n",
    "    return (i % n == 0)\n",
    "\n",
    "x = fromfunction(f, (m,), dtype=int)\n",
    "\n",
    "print(x)\n",
    "print('-'*20)"
   ]
  },
  {
   "cell_type": "markdown",
   "metadata": {},
   "source": [
    "# The End"
   ]
  }
 ],
 "metadata": {
  "kernelspec": {
   "display_name": "Python 3",
   "language": "python",
   "name": "python3"
  },
  "language_info": {
   "codemirror_mode": {
    "name": "ipython",
    "version": 3
   },
   "file_extension": ".py",
   "mimetype": "text/x-python",
   "name": "python",
   "nbconvert_exporter": "python",
   "pygments_lexer": "ipython3",
   "version": "3.12.0"
  }
 },
 "nbformat": 4,
 "nbformat_minor": 2
}
