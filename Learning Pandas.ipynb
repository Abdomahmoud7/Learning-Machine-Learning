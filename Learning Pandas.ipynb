{
 "cells": [
  {
   "cell_type": "markdown",
   "id": "c43a3e23-5dd3-4bf2-8785-0dcf15683d06",
   "metadata": {},
   "source": [
    "<h1 style=\"text-align: center; font-size: 38px\">  Pandas 1 العمليات الأساسيه </h1>  <br> "
   ]
  },
  {
   "cell_type": "code",
   "execution_count": 1,
   "id": "284cecda-b986-4d06-9c3c-1728be822118",
   "metadata": {},
   "outputs": [],
   "source": [
    "import pandas as pd # يتم استدعائها بهذا الامر"
   ]
  },
  {
   "cell_type": "markdown",
   "id": "51b5375f-cfbd-4d24-86cd-6c23e733a485",
   "metadata": {},
   "source": [
    "# عمل مصفوفه من بعد واحد "
   ]
  },
  {
   "cell_type": "code",
   "execution_count": 2,
   "id": "8ac14d66-df9e-4bb3-9bb6-0e09293dd87a",
   "metadata": {},
   "outputs": [
    {
     "data": {
      "text/plain": [
       "0    0.25\n",
       "1    0.50\n",
       "2    0.75\n",
       "3    1.00\n",
       "dtype: float64"
      ]
     },
     "execution_count": 2,
     "metadata": {},
     "output_type": "execute_result"
    }
   ],
   "source": [
    "data = pd.Series([0.25, 0.5, 0.75, 1.0])\n",
    "\n",
    "data"
   ]
  },
  {
   "cell_type": "code",
   "execution_count": 3,
   "id": "4fa89a49-0997-4c93-a4cc-34c8bd966bbb",
   "metadata": {},
   "outputs": [
    {
     "name": "stdout",
     "output_type": "stream",
     "text": [
      "[0.25 0.5  0.75 1.  ]\n",
      "RangeIndex(start=0, stop=4, step=1)\n",
      "<bound method Series.keys of 0    0.25\n",
      "1    0.50\n",
      "2    0.75\n",
      "3    1.00\n",
      "dtype: float64>\n"
     ]
    }
   ],
   "source": [
    "# يوجد فيها 3 حجات \n",
    "# 1 - values\n",
    "# 2 - index\n",
    "# 3 - keys\n",
    "\n",
    "data = pd.Series([0.25, 0.5, 0.75, 1.0])\n",
    "\n",
    "print(data.values)\n",
    "print(data.index)\n",
    "print(data.keys)"
   ]
  },
  {
   "cell_type": "code",
   "execution_count": 5,
   "id": "11469ae8-b9cb-4c6e-9db7-08f14713df24",
   "metadata": {},
   "outputs": [
    {
     "name": "stdout",
     "output_type": "stream",
     "text": [
      "count    11.000000\n",
      "mean      5.363636\n",
      "std       2.292280\n",
      "min       2.000000\n",
      "25%       3.500000\n",
      "50%       5.000000\n",
      "75%       7.000000\n",
      "max       9.000000\n",
      "dtype: float64\n"
     ]
    }
   ],
   "source": [
    "# لو عاوز مواصفات عن الداتا اللي معايا زي عددها متوسطها استخدم descibe\n",
    "\n",
    "data = pd.Series((3,6,9,8,5,4,2,6,3,5,8))\n",
    "print(data.describe())"
   ]
  },
  {
   "cell_type": "code",
   "execution_count": 6,
   "id": "e6b4565b-5862-4def-a03b-1d4505f602dc",
   "metadata": {},
   "outputs": [
    {
     "name": "stdout",
     "output_type": "stream",
     "text": [
      "max      9.000000\n",
      "min      2.000000\n",
      "sum     59.000000\n",
      "mean     5.363636\n",
      "std      2.292280\n",
      "dtype: float64\n"
     ]
    }
   ],
   "source": [
    "# لو عاوز اظهر مواصفات بيانات معينه مش عاوز كل البيانات تظهرلي استخدم agg\n",
    "\n",
    "data = pd.Series((3,6,9,8,5,4,2,6,3,5,8))\n",
    "\n",
    "print(data.agg([\"max\", \"min\", \"sum\", \"mean\", \"std\"]))"
   ]
  },
  {
   "cell_type": "code",
   "execution_count": 7,
   "id": "eeb0db38-5df7-41cb-b3fc-fa8663f519b5",
   "metadata": {},
   "outputs": [
    {
     "name": "stdout",
     "output_type": "stream",
     "text": [
      "0.5\n",
      "1    0.50\n",
      "2    0.75\n",
      "dtype: float64\n",
      "1    0.5\n",
      "dtype: float64\n"
     ]
    }
   ],
   "source": [
    "# slicing\n",
    "\n",
    "data = pd.Series([0.25, 0.5, 0.75, 1.0])\n",
    "\n",
    "print(data[1])\n",
    "print(data[1:3])\n",
    "print(data[1:3:2])"
   ]
  },
  {
   "cell_type": "code",
   "execution_count": 9,
   "id": "6391441e-bc86-4b07-81c5-50e8eaed1147",
   "metadata": {},
   "outputs": [
    {
     "name": "stdout",
     "output_type": "stream",
     "text": [
      "a    1\n",
      "b    2\n",
      "c    3\n",
      "d    4\n",
      "dtype: int64\n",
      "---------------\n",
      "a    1\n",
      "b    2\n",
      "c    3\n",
      "d    4\n",
      "dtype: int64\n"
     ]
    }
   ],
   "source": [
    "# لو عاوز اعمل ايندكس بنفسي \n",
    "\n",
    "data1 = pd.Series([1,2,3,4], index=['a','b','c','d']) # Method 1\n",
    "\n",
    "data2 = pd.Series({'a':1, 'b':2, 'c':3, 'd':4})\n",
    "\n",
    "print(data1)\n",
    "print('-'*15)\n",
    "print(data2)"
   ]
  },
  {
   "cell_type": "code",
   "execution_count": 10,
   "id": "9141efe4-6570-4ff3-aeee-fba26d30e5ba",
   "metadata": {},
   "outputs": [
    {
     "name": "stdout",
     "output_type": "stream",
     "text": [
      "1\n",
      "2\n"
     ]
    }
   ],
   "source": [
    "# اتعامل معاها بالانديكس عادي \n",
    "\n",
    "print(data1['a'])\n",
    "print(data2['b'])"
   ]
  },
  {
   "cell_type": "markdown",
   "id": "17557f5c-d5c7-48b3-bce8-99df34d2849a",
   "metadata": {},
   "source": [
    "# عمل list"
   ]
  },
  {
   "cell_type": "code",
   "execution_count": 11,
   "id": "170b56cf-ece9-4441-8207-43a86ce5bae8",
   "metadata": {},
   "outputs": [
    {
     "data": {
      "text/plain": [
       "Index([2, 3, 4, 6, 7, 8], dtype='int64')"
      ]
     },
     "execution_count": 11,
     "metadata": {},
     "output_type": "execute_result"
    }
   ],
   "source": [
    "x = pd.Index([2,3,4,6,7,8])\n",
    "x"
   ]
  },
  {
   "cell_type": "code",
   "execution_count": 14,
   "id": "06d1b248-4aa8-4efa-b373-0bdab3e1454f",
   "metadata": {},
   "outputs": [
    {
     "name": "stdout",
     "output_type": "stream",
     "text": [
      "Index([1, 3, 5, 7, 9], dtype='int64')\n",
      "Index([2, 3, 5, 7, 11], dtype='int64')\n",
      "Index([0, 3, 5, 7, 9], dtype='int64')\n",
      "Index([3, 3, 5, 7, 11], dtype='int64')\n",
      "Index([3, 0, 0, 0, 2], dtype='int64')\n"
     ]
    }
   ],
   "source": [
    "# عمليات مهمه\n",
    "import pandas as pd\n",
    "\n",
    "a = pd.Index([1, 3, 5, 7, 9])\n",
    "b = pd.Index([2, 3, 5, 7, 11])\n",
    "\n",
    "print(a)\n",
    "print(b)\n",
    "print(a & b) # دي هتلي العناصر المشتركه بين الاتنين\n",
    "print(a | b) # دي هتلي العناصر اللي هنا واللي هنا بس العنصر ميتكررش \n",
    "print(a ^ b) # دي معناها هتلي كل العناصر معادا العناصر المكرره"
   ]
  },
  {
   "cell_type": "markdown",
   "id": "dff8e36c-d6f4-42b0-8615-f6a79e47be1b",
   "metadata": {},
   "source": [
    "<h1 style=\"text-align: center; font-size: 38px\">  Pandas 2 الرسومات البيانية </h1>  <br> \n"
   ]
  },
  {
   "cell_type": "code",
   "execution_count": 6,
   "id": "5b1729f7-3949-40eb-a018-202346ea40bb",
   "metadata": {},
   "outputs": [
    {
     "data": {
      "text/plain": [
       "<Axes: >"
      ]
     },
     "execution_count": 6,
     "metadata": {},
     "output_type": "execute_result"
    },
    {
     "data": {
      "image/png": "[encoded data removed]",
      "text/plain": [
       "<Figure size 640x480 with 1 Axes>"
      ]
     },
     "metadata": {},
     "output_type": "display_data"
    }
   ],
   "source": [
    "import pandas as pd\n",
    "\n",
    "data = pd.Series((3,6,9,8,5,4,2,6,3,5,8))\n",
    "\n",
    "data.plot()\n",
    "data.plot(kind = 'line') # كدا الرسمه هتكون عباره عن خط"
   ]
  },
  {
   "cell_type": "code",
   "execution_count": 8,
   "id": "7d1cea64-01c4-43d0-a281-cda80be632a1",
   "metadata": {},
   "outputs": [
    {
     "data": {
      "text/plain": [
       "<Axes: >"
      ]
     },
     "execution_count": 8,
     "metadata": {},
     "output_type": "execute_result"
    },
    {
     "data": {
      "image/png": "[encoded data removed]",
      "text/plain": [
       "<Figure size 640x480 with 1 Axes>"
      ]
     },
     "metadata": {},
     "output_type": "display_data"
    }
   ],
   "source": [
    "data = pd.Series((3,6,9,8,5,4,2,6,3,5,8))\n",
    "\n",
    "data.plot(kind = 'pie') # كدا لو عاوز الرسمه تكون علي شكل دائره"
   ]
  },
  {
   "cell_type": "code",
   "execution_count": 11,
   "id": "7a3c219e-962c-4cc9-af5c-5346377e4062",
   "metadata": {},
   "outputs": [
    {
     "data": {
      "text/plain": [
       "<Axes: >"
      ]
     },
     "execution_count": 11,
     "metadata": {},
     "output_type": "execute_result"
    },
    {
     "data": {
      "image/png": "[encoded data removed]",
      "text/plain": [
       "<Figure size 640x480 with 1 Axes>"
      ]
     },
     "metadata": {},
     "output_type": "display_data"
    }
   ],
   "source": [
    "data = pd.Series((3,6,9,8,5,4,2,6,3,5,8))\n",
    "\n",
    "data.plot(kind = 'bar') # لو عاوز الرسمه علي شكل عواميد"
   ]
  },
  {
   "cell_type": "code",
   "execution_count": 12,
   "id": "55f2fd11-284b-4839-9083-fdcd4f33ccba",
   "metadata": {},
   "outputs": [
    {
     "data": {
      "text/plain": [
       "<Axes: >"
      ]
     },
     "execution_count": 12,
     "metadata": {},
     "output_type": "execute_result"
    },
    {
     "data": {
      "image/png": "[encoded data removed]",
      "text/plain": [
       "<Figure size 640x480 with 1 Axes>"
      ]
     },
     "metadata": {},
     "output_type": "display_data"
    }
   ],
   "source": [
    "data = pd.Series((3,6,9,8,5,4,2,6,3,5,8))\n",
    "\n",
    "data.plot(kind = 'barh')"
   ]
  },
  {
   "cell_type": "code",
   "execution_count": 14,
   "id": "dca21a3b-7a9a-4b7a-92be-6d10758a39e7",
   "metadata": {},
   "outputs": [
    {
     "data": {
      "text/plain": [
       "<Axes: ylabel='Frequency'>"
      ]
     },
     "execution_count": 14,
     "metadata": {},
     "output_type": "execute_result"
    },
    {
     "data": {
      "image/png": "[encoded data removed]",
      "text/plain": [
       "<Figure size 640x480 with 1 Axes>"
      ]
     },
     "metadata": {},
     "output_type": "display_data"
    }
   ],
   "source": [
    "data = pd.Series((3,6,9,8,5,4,2,6,3,5,8))\n",
    "\n",
    "data.plot(kind = 'hist') # دا بيشوف الرقم اتكرر كام مره "
   ]
  },
  {
   "cell_type": "code",
   "execution_count": 15,
   "id": "001f9c5e-e0c7-4764-a269-fe81dd366a1a",
   "metadata": {},
   "outputs": [
    {
     "data": {
      "text/plain": [
       "<Axes: >"
      ]
     },
     "execution_count": 15,
     "metadata": {},
     "output_type": "execute_result"
    },
    {
     "data": {
      "image/png": "[encoded data removed]",
      "text/plain": [
       "<Figure size 640x480 with 1 Axes>"
      ]
     },
     "metadata": {},
     "output_type": "display_data"
    }
   ],
   "source": [
    "data = pd.Series((3,6,9,8,5,4,2,6,3,5,8))\n",
    "\n",
    "data.plot(kind = 'box')"
   ]
  },
  {
   "cell_type": "code",
   "execution_count": 16,
   "id": "13b759e7-01f9-4c21-bc0e-a6ad674ba1d5",
   "metadata": {},
   "outputs": [
    {
     "data": {
      "text/plain": [
       "<Axes: >"
      ]
     },
     "execution_count": 16,
     "metadata": {},
     "output_type": "execute_result"
    },
    {
     "data": {
      "image/png": "[encoded data removed]",
      "text/plain": [
       "<Figure size 640x480 with 1 Axes>"
      ]
     },
     "metadata": {},
     "output_type": "display_data"
    }
   ],
   "source": [
    "data = pd.Series((1,2,2,3.5,8,8.5,9,9.5,10,10.5,11))\n",
    "\n",
    "data.plot(kind = 'box')"
   ]
  },
  {
   "cell_type": "code",
   "execution_count": 17,
   "id": "feb6935b-b607-4467-b97a-030ec6995ccb",
   "metadata": {},
   "outputs": [
    {
     "data": {
      "text/plain": [
       "<Axes: ylabel='Density'>"
      ]
     },
     "execution_count": 17,
     "metadata": {},
     "output_type": "execute_result"
    },
    {
     "data": {
      "image/png": "[encoded data removed]",
      "text/plain": [
       "<Figure size 640x480 with 1 Axes>"
      ]
     },
     "metadata": {},
     "output_type": "display_data"
    }
   ],
   "source": [
    "data = pd.Series((3,6,9,8,5,4,2,6,3,5,8))\n",
    "\n",
    "data.plot(kind = 'kde')"
   ]
  },
  {
   "cell_type": "code",
   "execution_count": 18,
   "id": "43d2671b-3495-4843-a197-b613c12c8947",
   "metadata": {},
   "outputs": [
    {
     "data": {
      "text/plain": [
       "<Axes: >"
      ]
     },
     "execution_count": 18,
     "metadata": {},
     "output_type": "execute_result"
    },
    {
     "data": {
      "image/png": "[encoded data removed]",
      "text/plain": [
       "<Figure size 640x480 with 1 Axes>"
      ]
     },
     "metadata": {},
     "output_type": "display_data"
    }
   ],
   "source": [
    "data = pd.Series((3,6,9,8,5,4,2,6,3,5,8))\n",
    "\n",
    "data.plot(kind = 'area')"
   ]
  },
  {
   "cell_type": "markdown",
   "id": "6366fd89-1e5d-48c6-84b4-8be806ca1084",
   "metadata": {},
   "source": [
    "<h1 style=\"text-align: center; font-size: 38px\">  Pandas 3 أداة داتافريم </h1>  <br> \n"
   ]
  },
  {
   "cell_type": "code",
   "execution_count": 1,
   "id": "44ab81aa-eba7-43be-91f2-c06bdda4375d",
   "metadata": {},
   "outputs": [
    {
     "name": "stdout",
     "output_type": "stream",
     "text": [
      "   one  two  three  four  five  six\n",
      "a    6    9      8     5     4    2\n",
      "b    0    4      7     2     9    4\n",
      "c    5    5      1     1     9    3\n",
      "d    7    7      1     9     2    2\n",
      "e    8    8      4     4     1    6\n",
      "f    1    1      7     2     6    9\n"
     ]
    }
   ],
   "source": [
    "import pandas as pd\n",
    "import numpy as np\n",
    "\n",
    "myarray = np.array([[6,9,8,5,4,2],[0,4,7,2,9,4],\n",
    "                    [5,5,1,1,9,3],[7,7,1,9,2,2],\n",
    "                    [8,8,4,4,1,6],[1,1,7,2,6,9]])\n",
    "rownames = ['a','b','c','d','e','f']\n",
    "colnsnames = ['one','two','three','four','five','six']\n",
    "\n",
    "df = pd.DataFrame(myarray, index=rownames, columns=colnsnames)\n",
    "\n",
    "print(df)"
   ]
  },
  {
   "cell_type": "code",
   "execution_count": 5,
   "id": "b97c6927-75b2-4a4c-b361-74d714ba5d9f",
   "metadata": {},
   "outputs": [
    {
     "name": "stdout",
     "output_type": "stream",
     "text": [
      "   Math  Physics  French  Chemistry\n",
      "a     1        6      11         16\n",
      "b     2        7      12         17\n",
      "c     3        8      13         18\n",
      "d     4        9      14         19\n",
      "e     5        5      15         20\n",
      "--------------------\n",
      "a    16\n",
      "b    17\n",
      "c    18\n",
      "d    19\n",
      "e    20\n",
      "Name: Chemistry, dtype: int64\n"
     ]
    }
   ],
   "source": [
    "w = pd.Series({'a':1,'b':2,'c':3,'d':4,'e':5})\n",
    "x = pd.Series({'a':6,'b':7,'c':8,'d':9,'e':5})\n",
    "y = pd.Series({'a':11,'b':12,'c':13,'d':14,'e':15})\n",
    "z = pd.Series({'a':16,'b':17,'c':18,'d':19,'e':20})\n",
    "\n",
    "grades = pd.DataFrame({'Math':w,'Physics':x,'French':y,'Chemistry':z})\n",
    "\n",
    "print(grades)\n",
    "print('-'*20)\n",
    "print(grades['Chemistry'])"
   ]
  },
  {
   "cell_type": "code",
   "execution_count": 6,
   "id": "6f3e7818-3079-40a0-86a3-31e854e08c28",
   "metadata": {},
   "outputs": [
    {
     "name": "stdout",
     "output_type": "stream",
     "text": [
      "            a   b   c   d   e\n",
      "Math        1   2   3   4   5\n",
      "Physics     6   7   8   9   5\n",
      "French     11  12  13  14  15\n",
      "Chemistry  16  17  18  19  20\n"
     ]
    }
   ],
   "source": [
    "w = pd.Series({'a':1,'b':2,'c':3,'d':4,'e':5})\n",
    "x = pd.Series({'a':6,'b':7,'c':8,'d':9,'e':5})\n",
    "y = pd.Series({'a':11,'b':12,'c':13,'d':14,'e':15})\n",
    "z = pd.Series({'a':16,'b':17,'c':18,'d':19,'e':20})\n",
    "\n",
    "grades = pd.DataFrame({'Math':w,'Physics':x,'French':y,'Chemistry':z})\n",
    "\n",
    "print(grades.T)"
   ]
  },
  {
   "cell_type": "code",
   "execution_count": 8,
   "id": "d42950a5-8c28-4779-863f-650e0d2175b7",
   "metadata": {},
   "outputs": [
    {
     "name": "stdout",
     "output_type": "stream",
     "text": [
      "True\n",
      "False\n",
      "True\n",
      "False\n"
     ]
    }
   ],
   "source": [
    "w = pd.Series({'a':1,'b':2,'c':3,'d':4,'e':5})\n",
    "x = pd.Series({'a':6,'b':7,'c':8,'d':9,'e':5})\n",
    "y = pd.Series({'a':11,'b':12,'c':13,'d':14,'e':15})\n",
    "z = pd.Series({'a':16,'b':17,'c':18,'d':19,'e':20})\n",
    "\n",
    "grades = pd.DataFrame({'Math':w,'Physics':x,'French':y,'Chemistry':z})\n",
    "\n",
    "print('Math' in grades.keys())\n",
    "print('math' in grades.keys())\n",
    "print(12 in grades.values)\n",
    "print(55 in grades.values)"
   ]
  },
  {
   "cell_type": "code",
   "execution_count": 9,
   "id": "a8037745-fcb6-47da-9c87-a032186f62d4",
   "metadata": {},
   "outputs": [
    {
     "name": "stdout",
     "output_type": "stream",
     "text": [
      "a  Math          1\n",
      "   Physics       6\n",
      "   French       11\n",
      "   Chemistry    16\n",
      "b  Math          2\n",
      "   Physics       7\n",
      "   French       12\n",
      "   Chemistry    17\n",
      "c  Math          3\n",
      "   Physics       8\n",
      "   French       13\n",
      "   Chemistry    18\n",
      "d  Math          4\n",
      "   Physics       9\n",
      "   French       14\n",
      "   Chemistry    19\n",
      "e  Math          5\n",
      "   Physics       5\n",
      "   French       15\n",
      "   Chemistry    20\n",
      "dtype: int64\n"
     ]
    }
   ],
   "source": [
    "w = pd.Series({'a':1,'b':2,'c':3,'d':4,'e':5})\n",
    "x = pd.Series({'a':6,'b':7,'c':8,'d':9,'e':5})\n",
    "y = pd.Series({'a':11,'b':12,'c':13,'d':14,'e':15})\n",
    "z = pd.Series({'a':16,'b':17,'c':18,'d':19,'e':20})\n",
    "\n",
    "grades = pd.DataFrame({'Math':w,'Physics':x,'French':y,'Chemistry':z})\n",
    "\n",
    "print(grades.stack())"
   ]
  },
  {
   "cell_type": "code",
   "execution_count": 12,
   "id": "c449edab-a16e-4ff3-8c25-27e71c170553",
   "metadata": {},
   "outputs": [
    {
     "name": "stdout",
     "output_type": "stream",
     "text": [
      "   Math  Physics\n",
      "a     1        6\n",
      "b     2        7\n",
      "c     3        8\n",
      "--------------------\n",
      "a    1\n",
      "b    2\n",
      "c    3\n",
      "d    4\n",
      "e    5\n",
      "Name: Math, dtype: int64\n"
     ]
    }
   ],
   "source": [
    "w = pd.Series({'a':1,'b':2,'c':3,'d':4,'e':5})\n",
    "x = pd.Series({'a':6,'b':7,'c':8,'d':9,'e':5})\n",
    "y = pd.Series({'a':11,'b':12,'c':13,'d':14,'e':15})\n",
    "z = pd.Series({'a':16,'b':17,'c':18,'d':19,'e':20})\n",
    "\n",
    "grades = pd.DataFrame({'Math':w,'Physics':x,'French':y,'Chemistry':z})\n",
    "\n",
    "print(grades.iloc[:3, :2])\n",
    "print('-'*20)\n",
    "print(grades.iloc[:, 0])"
   ]
  },
  {
   "cell_type": "code",
   "execution_count": 13,
   "id": "d11c9288-346a-4d8a-b9c4-0f6ec4b68420",
   "metadata": {},
   "outputs": [
    {
     "name": "stdout",
     "output_type": "stream",
     "text": [
      "   Math  Physics  French  Chemistry\n",
      "a     1        6      11         16\n",
      "b     2        7      12         17\n"
     ]
    }
   ],
   "source": [
    "w = pd.Series({'a':1,'b':2,'c':3,'d':4,'e':5})\n",
    "x = pd.Series({'a':6,'b':7,'c':8,'d':9,'e':5})\n",
    "y = pd.Series({'a':11,'b':12,'c':13,'d':14,'e':15})\n",
    "z = pd.Series({'a':16,'b':17,'c':18,'d':19,'e':20})\n",
    "\n",
    "grades = pd.DataFrame({'Math':w,'Physics':x,'French':y,'Chemistry':z})\n",
    "\n",
    "print(grades.loc['a':'b', 'Math':])"
   ]
  },
  {
   "cell_type": "markdown",
   "id": "c93eef2f-c79e-4fa6-bbac-75add2b8748b",
   "metadata": {},
   "source": [
    "<h1 style=\"text-align: center; font-size: 38px\">  Pandas 4 أداة داتافريم </h1>  <br> "
   ]
  },
  {
   "cell_type": "code",
   "execution_count": 2,
   "id": "c7010e30-39ff-4b3b-bd90-b0029e1224ab",
   "metadata": {},
   "outputs": [
    {
     "name": "stdout",
     "output_type": "stream",
     "text": [
      "   Math  Physics  French  Chemistry\n",
      "d     4        9      14         19\n",
      "e     5        5      15         20\n"
     ]
    }
   ],
   "source": [
    "import pandas as pd\n",
    "\n",
    "w = pd.Series({'a':1,'b':2,'c':3,'d':4,'e':5})\n",
    "x = pd.Series({'a':6,'b':7,'c':8,'d':9,'e':5})\n",
    "y = pd.Series({'a':11,'b':12,'c':13,'d':14,'e':15})\n",
    "z = pd.Series({'a':16,'b':17,'c':18,'d':19,'e':20})\n",
    "\n",
    "grades = pd.DataFrame({'Math':w,'Physics':x,'French':y,'Chemistry':z})\n",
    "\n",
    "print(grades.loc[grades.Math >3])"
   ]
  },
  {
   "cell_type": "code",
   "execution_count": 3,
   "id": "b3aa2745-053a-4bc9-87af-9a2884f36998",
   "metadata": {},
   "outputs": [
    {
     "name": "stdout",
     "output_type": "stream",
     "text": [
      "   French  Math\n",
      "d      14     4\n",
      "e      15     5\n"
     ]
    }
   ],
   "source": [
    "w = pd.Series({'a':1,'b':2,'c':3,'d':4,'e':5})\n",
    "x = pd.Series({'a':6,'b':7,'c':8,'d':9,'e':5})\n",
    "y = pd.Series({'a':11,'b':12,'c':13,'d':14,'e':15})\n",
    "z = pd.Series({'a':16,'b':17,'c':18,'d':19,'e':20})\n",
    "\n",
    "grades = pd.DataFrame({'Math':w,'Physics':x,'French':y,'Chemistry':z})\n",
    "\n",
    "print(grades.loc[grades.Math >3,[\"French\",\"Math\"]])"
   ]
  },
  {
   "cell_type": "code",
   "execution_count": 5,
   "id": "42ab9ac8-2564-43f9-87f2-3669a9156cce",
   "metadata": {},
   "outputs": [
    {
     "name": "stdout",
     "output_type": "stream",
     "text": [
      "Index(['Math', 'Physics', 'French', 'Chemistry'], dtype='object')\n"
     ]
    }
   ],
   "source": [
    "w = pd.Series({'a':1,'b':2,'c':3,'d':4,'e':5})\n",
    "x = pd.Series({'a':6,'b':7,'c':8,'d':9,'e':5})\n",
    "y = pd.Series({'a':11,'b':12,'c':13,'d':14,'e':15})\n",
    "z = pd.Series({'a':16,'b':17,'c':18,'d':19,'e':20})\n",
    "\n",
    "grades = pd.DataFrame({'Math':w,'Physics':x,'French':y,'Chemistry':z})\n",
    "\n",
    "print(grades.columns) # لو عاوز اعرض الكولومنز فقط"
   ]
  },
  {
   "cell_type": "code",
   "execution_count": 7,
   "id": "3d6d8e10-6841-4197-9475-d13a72d76e36",
   "metadata": {},
   "outputs": [
    {
     "name": "stdout",
     "output_type": "stream",
     "text": [
      "Index(['a', 'b', 'c', 'd', 'e'], dtype='object')\n"
     ]
    }
   ],
   "source": [
    "w = pd.Series({'a':1,'b':2,'c':3,'d':4,'e':5})\n",
    "x = pd.Series({'a':6,'b':7,'c':8,'d':9,'e':5})\n",
    "y = pd.Series({'a':11,'b':12,'c':13,'d':14,'e':15})\n",
    "z = pd.Series({'a':16,'b':17,'c':18,'d':19,'e':20})\n",
    "\n",
    "grades = pd.DataFrame({'Math':w,'Physics':x,'French':y,'Chemistry':z})\n",
    "\n",
    "print(grades.index) # لو عاوز اعرض الانديسيز"
   ]
  },
  {
   "cell_type": "code",
   "execution_count": 8,
   "id": "7c411ef3-697f-4a16-944b-bbd4c21ceb5f",
   "metadata": {},
   "outputs": [
    {
     "name": "stdout",
     "output_type": "stream",
     "text": [
      "a    1\n",
      "b    2\n",
      "c    3\n",
      "d    4\n",
      "e    5\n",
      "Name: Math, dtype: int64\n"
     ]
    }
   ],
   "source": [
    "w = pd.Series({'a':1,'b':2,'c':3,'d':4,'e':5})\n",
    "x = pd.Series({'a':6,'b':7,'c':8,'d':9,'e':5})\n",
    "y = pd.Series({'a':11,'b':12,'c':13,'d':14,'e':15})\n",
    "z = pd.Series({'a':16,'b':17,'c':18,'d':19,'e':20})\n",
    "\n",
    "grades = pd.DataFrame({'Math':w,'Physics':x,'French':y,'Chemistry':z})\n",
    "\n",
    "print(grades['Math'])"
   ]
  },
  {
   "cell_type": "code",
   "execution_count": 11,
   "id": "81981db7-48a6-422b-aa87-611c51106307",
   "metadata": {},
   "outputs": [
    {
     "name": "stdout",
     "output_type": "stream",
     "text": [
      "   Math  Physics  French  Chemistry\n",
      "e     5        5      15         20\n",
      "d     4        9      14         19\n",
      "c     3        8      13         18\n",
      "b     2        7      12         17\n",
      "a     1        6      11         16\n",
      "   Math  Physics  French  Chemistry\n",
      "a     1        6      11         16\n",
      "b     2        7      12         17\n",
      "c     3        8      13         18\n",
      "d     4        9      14         19\n",
      "e     5        5      15         20\n"
     ]
    }
   ],
   "source": [
    "w = pd.Series({'a':1,'b':2,'c':3,'d':4,'e':5})\n",
    "x = pd.Series({'a':6,'b':7,'c':8,'d':9,'e':5})\n",
    "y = pd.Series({'a':11,'b':12,'c':13,'d':14,'e':15})\n",
    "z = pd.Series({'a':16,'b':17,'c':18,'d':19,'e':20})\n",
    "\n",
    "grades = pd.DataFrame({'Math':w,'Physics':x,'French':y,'Chemistry':z})\n",
    "\n",
    "print(grades.sort_values(['Math'],ascending=False)) # لو عاوز ترتيب تنازلي للدرجات\n",
    "print(grades.sort_values(['French'],ascending=True)) # لو عاوز ترتيب تصاعدي للدرجات"
   ]
  },
  {
   "cell_type": "code",
   "execution_count": 13,
   "id": "1284a987-7369-432b-8e95-76132844d66b",
   "metadata": {},
   "outputs": [
    {
     "name": "stdout",
     "output_type": "stream",
     "text": [
      "Math          5\n",
      "Physics       9\n",
      "French       15\n",
      "Chemistry    20\n",
      "dtype: int64\n",
      "Math          1\n",
      "Physics       5\n",
      "French       11\n",
      "Chemistry    16\n",
      "dtype: int64\n",
      "Math          3.0\n",
      "Physics       7.0\n",
      "French       13.0\n",
      "Chemistry    18.0\n",
      "dtype: float64\n",
      "Math         1.581139\n",
      "Physics      1.581139\n",
      "French       1.581139\n",
      "Chemistry    1.581139\n",
      "dtype: float64\n"
     ]
    }
   ],
   "source": [
    "w = pd.Series({'a':1,'b':2,'c':3,'d':4,'e':5})\n",
    "x = pd.Series({'a':6,'b':7,'c':8,'d':9,'e':5})\n",
    "y = pd.Series({'a':11,'b':12,'c':13,'d':14,'e':15})\n",
    "z = pd.Series({'a':16,'b':17,'c':18,'d':19,'e':20})\n",
    "\n",
    "grades = pd.DataFrame({'Math':w,'Physics':x,'French':y,'Chemistry':z})\n",
    "\n",
    "print(grades.max()) # كدا هيجبلي اعلي درجه ف كل ماده\n",
    "print(grades.min()) # كدا هيجبلي اقل درجه ف كل ماده\n",
    "print(grades.mean()) # متوسط كل ماده\n",
    "print(grades.std())"
   ]
  },
  {
   "cell_type": "code",
   "execution_count": 14,
   "id": "8afcae9b-5ebb-4129-872b-ecf1b8fa4276",
   "metadata": {},
   "outputs": [
    {
     "name": "stdout",
     "output_type": "stream",
     "text": [
      "5\n",
      "5\n",
      "13.0\n",
      "1.5811388300841898\n"
     ]
    }
   ],
   "source": [
    "w = pd.Series({'a':1,'b':2,'c':3,'d':4,'e':5})\n",
    "x = pd.Series({'a':6,'b':7,'c':8,'d':9,'e':5})\n",
    "y = pd.Series({'a':11,'b':12,'c':13,'d':14,'e':15})\n",
    "z = pd.Series({'a':16,'b':17,'c':18,'d':19,'e':20})\n",
    "\n",
    "grades = pd.DataFrame({'Math':w,'Physics':x,'French':y,'Chemistry':z})\n",
    "\n",
    "print(grades['Math'].max())\n",
    "print(grades['Physics'].min())\n",
    "print(grades['French'].mean())\n",
    "print(grades['Chemistry'].std())"
   ]
  },
  {
   "cell_type": "code",
   "execution_count": 16,
   "id": "96afd262-6f1c-4d9b-8ffc-8c4acf5e72ea",
   "metadata": {},
   "outputs": [
    {
     "name": "stdout",
     "output_type": "stream",
     "text": [
      "          A         B         C\n",
      "0  0.902605  0.460358  0.235191\n",
      "1  0.521639  0.991652  0.121867\n",
      "2  0.825611  0.554885  0.081285\n",
      "3  0.922055  0.985960  0.014471\n",
      "4  0.200700  0.974305  0.524635\n",
      "          A         B         C\n",
      "A  1.000000 -0.553092 -0.794788\n",
      "B -0.553092  1.000000  0.114127\n",
      "C -0.794788  0.114127  1.000000\n"
     ]
    }
   ],
   "source": [
    "# الإرتباط\n",
    "\n",
    "import pandas as pd\n",
    "import numpy as np\n",
    "\n",
    "df = pd.DataFrame(np.random.rand(5, 3), columns=['A', 'B', 'C'])\n",
    "\n",
    "print(df)\n",
    "print(df.corr()) # بيجيب مدي العلاقات بين الصفوف\n"
   ]
  },
  {
   "cell_type": "code",
   "execution_count": 18,
   "id": "261d62d8-5f3b-41c5-bf4f-c7d12f79b099",
   "metadata": {},
   "outputs": [
    {
     "name": "stdout",
     "output_type": "stream",
     "text": [
      "          A         B         C\n",
      "0  0.724520  0.461962  0.765024\n",
      "1  0.198502  0.037429  0.586925\n",
      "2  0.358315  0.459148  0.081439\n",
      "3  0.201566  0.400770  0.585115\n",
      "4  0.424138  0.667564  0.070188\n",
      "A    1.186357\n",
      "B   -1.087604\n",
      "C   -0.361613\n",
      "dtype: float64\n"
     ]
    }
   ],
   "source": [
    "df = pd.DataFrame(np.random.rand(5, 3), columns=['A', 'B', 'C'])\n",
    "print(df)\n",
    "\n",
    "print(df.skew()) # بيجيب مدي الانحراف بين الارقام"
   ]
  },
  {
   "cell_type": "code",
   "execution_count": 19,
   "id": "1dd72644-b631-4c1f-97ce-14ee54e26bb3",
   "metadata": {},
   "outputs": [
    {
     "name": "stdout",
     "output_type": "stream",
     "text": [
      "   square\n",
      "0       0\n",
      "1       1\n",
      "2       4\n",
      "3       9\n",
      "4      16\n",
      "5      25\n",
      "6      36\n",
      "7      49\n",
      "8      64\n",
      "9      81\n"
     ]
    }
   ],
   "source": [
    "data = [{'square': i**2} for i in range(10)]\n",
    "\n",
    "df = pd.DataFrame(data)\n",
    "\n",
    "print(df)"
   ]
  },
  {
   "cell_type": "code",
   "execution_count": 20,
   "id": "43b7e61a-9ebd-482b-a334-e4d790869f72",
   "metadata": {},
   "outputs": [
    {
     "name": "stdout",
     "output_type": "stream",
     "text": [
      "   square  cube      root\n",
      "0       0     0  0.000000\n",
      "1       1     1  1.000000\n",
      "2       4     8  1.414214\n",
      "3       9    27  1.732051\n",
      "4      16    64  2.000000\n",
      "5      25   125  2.236068\n",
      "6      36   216  2.449490\n",
      "7      49   343  2.645751\n",
      "8      64   512  2.828427\n",
      "9      81   729  3.000000\n"
     ]
    }
   ],
   "source": [
    "data = [{'square': i**2, 'cube': i**3, 'root': i**0.5} for i in range(10)]\n",
    "\n",
    "df = pd.DataFrame(data)\n",
    "\n",
    "print(df)"
   ]
  },
  {
   "cell_type": "code",
   "execution_count": 21,
   "id": "b4f2f5a4-f3ba-4cec-83a8-75053af7013e",
   "metadata": {},
   "outputs": [
    {
     "name": "stdout",
     "output_type": "stream",
     "text": [
      "   a  b\n",
      "0  1  2\n",
      "1  3  4\n",
      "2  5  6\n"
     ]
    }
   ],
   "source": [
    "d = pd.DataFrame([{'a':1, 'b':2},{'a':3,'b':4},{'a':5,'b':6}])\n",
    "print(d)"
   ]
  },
  {
   "cell_type": "code",
   "execution_count": 22,
   "id": "ba5a8fb5-4209-4148-ade5-4eee34a97e42",
   "metadata": {},
   "outputs": [
    {
     "name": "stdout",
     "output_type": "stream",
     "text": [
      "     a    b    c    d    e\n",
      "0  1.0  2.0  NaN  NaN  NaN\n",
      "1  NaN  3.0  4.0  NaN  NaN\n",
      "2  NaN  NaN  NaN  5.0  6.0\n"
     ]
    }
   ],
   "source": [
    "d = pd.DataFrame([{'a':1,'b':2},{'b':3,'c':4},{'d':5,'e':6}])\n",
    "\n",
    "print(d)"
   ]
  },
  {
   "cell_type": "markdown",
   "id": "a80dc0dc-bd76-4330-bcf3-09df6d803a79",
   "metadata": {},
   "source": [
    "<h1 style=\"text-align: center; font-size: 38px\">  Pandas 5 أداة داتافريم </h1>  <br> "
   ]
  },
  {
   "cell_type": "code",
   "execution_count": 23,
   "id": "65fe3b83-1d28-421c-bfcf-f92b7ebb157b",
   "metadata": {},
   "outputs": [
    {
     "name": "stdout",
     "output_type": "stream",
     "text": [
      "       food     drink\n",
      "a  0.879144  0.729500\n",
      "b  0.445599  0.028458\n",
      "c  0.664780  0.256377\n"
     ]
    }
   ],
   "source": [
    "import pandas as pd\n",
    "import numpy as np\n",
    "\n",
    "d = pd.DataFrame(np.random.rand(3, 2), columns=['food', 'drink'], index=['a','b','c'])\n",
    "\n",
    "print(d)"
   ]
  },
  {
   "cell_type": "code",
   "execution_count": 26,
   "id": "56632aad-b0e4-4fbc-8448-b60c8f9910c3",
   "metadata": {},
   "outputs": [
    {
     "name": "stdout",
     "output_type": "stream",
     "text": [
      "   Math  Physics  French  Chemistry  Total\n",
      "a     1        6      11         16   0.34\n",
      "b     2        7      12         17   0.38\n",
      "c     3        8      13         18   0.42\n",
      "d     4        9      14         19   0.46\n",
      "e     5        5      15         20   0.45\n"
     ]
    }
   ],
   "source": [
    "w = pd.Series({'a':1,'b':2,'c':3,'d':4,'e':5})\n",
    "x = pd.Series({'a':6,'b':7,'c':8,'d':9,'e':5})\n",
    "y = pd.Series({'a':11,'b':12,'c':13,'d':14,'e':15})\n",
    "z = pd.Series({'a':16,'b':17,'c':18,'d':19,'e':20})\n",
    "\n",
    "grades = pd.DataFrame({'Math':w,'Physics':x,'French':y,'Chemistry':z})\n",
    "\n",
    "grades['Total'] = (grades['Math'] + grades['Physics'] + grades['French']\n",
    "                   + grades['Chemistry']) / 100 # كدا هيعمل عمود جديد وهيجيب فيه مجموع الدرجات مقسوم علي 100\n",
    "\n",
    "print(grades)"
   ]
  },
  {
   "cell_type": "code",
   "execution_count": 27,
   "id": "bbca4b85-6ad5-4243-a919-8b8850f6202a",
   "metadata": {},
   "outputs": [
    {
     "name": "stdout",
     "output_type": "stream",
     "text": [
      "          A         B         C\n",
      "0  0.790854  0.676207  0.804424\n",
      "1  0.355383  0.482118  0.742410\n",
      "2  0.588100  0.895925  0.389814\n",
      "3  0.718273  0.628061  0.993717\n",
      "4  0.668795  0.509609  0.221461\n",
      "0     -7.501232\n",
      "1     -3.251296\n",
      "2     -2.432088\n",
      "3   -214.284792\n",
      "4     -1.513609\n",
      "dtype: float64\n"
     ]
    }
   ],
   "source": [
    "df = pd.DataFrame(np.random.rand(5,3), columns=['A', 'B','C'])\n",
    "\n",
    "result = (df['A'] + df['B']) / (df['C'] - 1)\n",
    "\n",
    "print(df)\n",
    "print(result)"
   ]
  },
  {
   "cell_type": "code",
   "execution_count": 28,
   "id": "4b78b587-e515-418b-ab50-27a6f0acc0b2",
   "metadata": {},
   "outputs": [
    {
     "name": "stdout",
     "output_type": "stream",
     "text": [
      "          A         B         C\n",
      "0  0.268480  0.438154  0.424790\n",
      "1  0.670216  0.028912  0.107138\n",
      "2  0.322365  0.971307  0.381325\n",
      "3  0.657014  0.178403  0.099595\n",
      "4  0.396860  0.976765  0.196418\n",
      "0   -1.228481\n",
      "1   -0.783019\n",
      "2   -2.091039\n",
      "3   -0.927824\n",
      "4   -1.709378\n",
      "dtype: float64\n"
     ]
    }
   ],
   "source": [
    "df = pd.DataFrame(np.random.rand(5,3), columns=['A', 'B','C'])\n",
    "\n",
    "result = pd.eval(\"(df.A + df.B) / (df.C -1)\")\n",
    "\n",
    "print(df)\n",
    "\n",
    "print(result)"
   ]
  },
  {
   "cell_type": "code",
   "execution_count": 35,
   "id": "28454566-2224-45d1-a682-676549f553c9",
   "metadata": {},
   "outputs": [
    {
     "name": "stdout",
     "output_type": "stream",
     "text": [
      "          A         B         C\n",
      "0  0.581117  0.741921  0.819751\n",
      "1  0.410805  0.092735  0.037045\n",
      "2  0.969638  0.186243  0.396243\n",
      "3  0.216918  0.147143  0.810404\n",
      "4  0.624272  0.122143  0.568889\n",
      "          A         B         C\n",
      "1  0.410805  0.092735  0.037045\n",
      "3  0.216918  0.147143  0.810404\n"
     ]
    }
   ],
   "source": [
    "df = pd.DataFrame(np.random.rand(5,3), columns=['A', 'B','C'])\n",
    "\n",
    "result = df.query('A < 0.5 and B < 0.5') # كدا هيجبلي الصفوف اللي فيها القيم اقل من النص\n",
    "\n",
    "print(df)\n",
    "print(result)"
   ]
  },
  {
   "cell_type": "code",
   "execution_count": 36,
   "id": "7d5d312d-09f6-450e-8ee2-6c57e313543b",
   "metadata": {},
   "outputs": [
    {
     "name": "stdout",
     "output_type": "stream",
     "text": [
      "          A         B         C\n",
      "0  0.182465  0.531676  0.972450\n",
      "1  0.727594  0.694870  0.479469\n",
      "2  0.862132  0.718502  0.796955\n",
      "3  0.430719  0.469469  0.733842\n",
      "4  0.891754  0.710451  0.358460\n",
      "          A         B         C\n",
      "3  0.430719  0.469469  0.733842\n"
     ]
    }
   ],
   "source": [
    "df = pd.DataFrame(np.random.rand(5,3), columns=['A', 'B','C'])\n",
    "\n",
    "temp1 = df.A < 0.5\n",
    "temp2 = df.B < 0.5\n",
    "temp3 = temp1 & temp2\n",
    "result = df[temp3]\n",
    "\n",
    "print(df)\n",
    "print(result)"
   ]
  },
  {
   "cell_type": "code",
   "execution_count": 37,
   "id": "e1f4e77d-8242-4e84-a793-405428b1e08b",
   "metadata": {},
   "outputs": [
    {
     "name": "stdout",
     "output_type": "stream",
     "text": [
      "          A         B         C\n",
      "0  0.994093  0.170520  0.028702\n",
      "1  0.543788  0.420908  0.469387\n",
      "2  0.305530  0.033254  0.492014\n",
      "3  0.400429  0.035028  0.141994\n",
      "4  0.745532  0.540729  0.589116\n",
      "          A         B         C\n",
      "2  0.305530  0.033254  0.492014\n",
      "3  0.400429  0.035028  0.141994\n"
     ]
    }
   ],
   "source": [
    "df = pd.DataFrame(np.random.rand(5,3), columns=['A', 'B','C'])\n",
    "\n",
    "result = df[(df.A < 0.5) & (df.B < 0.5)] # هيعمل تقاطع\n",
    "\n",
    "print(df)\n",
    "\n",
    "print(result)"
   ]
  },
  {
   "cell_type": "code",
   "execution_count": 39,
   "id": "f4a0160d-d880-4250-8ef0-ee7ae7b04832",
   "metadata": {},
   "outputs": [
    {
     "name": "stdout",
     "output_type": "stream",
     "text": [
      "          A         B         C\n",
      "0  0.560111  0.106566  0.875279\n",
      "1  0.618139  0.392789  0.133357\n",
      "2  0.395305  0.419946  0.484902\n",
      "3  0.631518  0.036446  0.091962\n",
      "4  0.290159  0.121093  0.629316\n",
      "          A         B         C\n",
      "0  0.560111  0.106566  0.875279\n",
      "1  0.618139  0.392789  0.133357\n",
      "2  0.395305  0.419946  0.484902\n",
      "3  0.631518  0.036446  0.091962\n",
      "4  0.290159  0.121093  0.629316\n"
     ]
    }
   ],
   "source": [
    "df = pd.DataFrame(np.random.rand(5,3), columns=['A', 'B','C'])\n",
    "\n",
    "result = df[(df.A < 0.5) | (df.B < 0.5)] # OR\n",
    "\n",
    "print(df)\n",
    "\n",
    "print(result)"
   ]
  },
  {
   "cell_type": "code",
   "execution_count": 41,
   "id": "f673d4de-cba0-497b-b494-8bc8cd147fa9",
   "metadata": {},
   "outputs": [
    {
     "name": "stdout",
     "output_type": "stream",
     "text": [
      "    A   B   C\n",
      "0  A0  B0  C0\n",
      "1  A1  B1  C1\n",
      "2  A2  B2  C2\n"
     ]
    }
   ],
   "source": [
    "# تكتب باستخدام الفانكشن\n",
    "def make_df(cols, ind):\n",
    "    data = {c: [str(c) + str(i) for i in ind] for c in cols}\n",
    "    return pd.DataFrame(data, ind)\n",
    "\n",
    "print(make_df('ABC', range(3)))"
   ]
  },
  {
   "cell_type": "markdown",
   "id": "3b1669b8-ffec-4802-974a-21905f48a5bd",
   "metadata": {},
   "source": [
    "<h1 style=\"text-align: center; font-size: 38px\">  Pandas 6 أداة داتافريم </h1>  <br> "
   ]
  },
  {
   "cell_type": "code",
   "execution_count": 6,
   "id": "d85ca3bc-c4af-4b7e-9a07-ef59013b683d",
   "metadata": {},
   "outputs": [
    {
     "name": "stdout",
     "output_type": "stream",
     "text": [
      "  employee        group\n",
      "0      Bob   Accounting\n",
      "1     Jake  Engineering\n",
      "2     Lisa  Engineering\n",
      "3      Sue           HR\n",
      "  employee  hire_data\n",
      "0     Lisa       2004\n",
      "1      Bob       2008\n",
      "2     Jake       2012\n",
      "3      Sue       2014\n",
      "--------------------\n",
      "  employee        group  hire_data\n",
      "0      Bob   Accounting       2008\n",
      "1     Jake  Engineering       2012\n",
      "2     Lisa  Engineering       2004\n",
      "3      Sue           HR       2014\n"
     ]
    }
   ],
   "source": [
    "# مزج الجداول معا \n",
    "\n",
    "import pandas as pd\n",
    "\n",
    "df1 = pd.DataFrame({'employee':['Bob','Jake','Lisa','Sue'],\n",
    "                   'group':['Accounting','Engineering','Engineering','HR']})\n",
    "\n",
    "df2 = pd.DataFrame({'employee':['Lisa','Bob','Jake','Sue'],\n",
    "                   'hire_data':[2004,2008,2012,2014]})\n",
    "\n",
    "print(df1)\n",
    "print(df2)\n",
    "\n",
    "df3 = pd.merge(df1, df2)\n",
    "print('-'*20)\n",
    "print(df3)"
   ]
  },
  {
   "cell_type": "code",
   "execution_count": 8,
   "id": "44a21af7-70b1-4823-9b17-3ace43f63e75",
   "metadata": {},
   "outputs": [
    {
     "name": "stdout",
     "output_type": "stream",
     "text": [
      "  employee        group  hire_data\n",
      "0      Bob   Accounting       2008\n",
      "1     Jake  Engineering       2012\n",
      "2     Lisa  Engineering       2004\n",
      "3      Sue           HR       2014\n",
      "--------------------\n",
      "         group supervisor\n",
      "0   Accounting      Carly\n",
      "1  Engineering      Guido\n",
      "2           HR      Steve\n",
      "--------------------\n",
      "  employee        group  hire_data supervisor\n",
      "0      Bob   Accounting       2008      Carly\n",
      "1     Jake  Engineering       2012      Guido\n",
      "2     Lisa  Engineering       2004      Guido\n",
      "3      Sue           HR       2014      Steve\n"
     ]
    }
   ],
   "source": [
    "import pandas as pd\n",
    "\n",
    "df1 = pd.DataFrame({'employee':['Bob','Jake','Lisa','Sue'],\n",
    "                   'group':['Accounting','Engineering','Engineering','HR']})\n",
    "\n",
    "df2 = pd.DataFrame({'employee':['Lisa','Bob','Jake','Sue'],\n",
    "                   'hire_data':[2004,2008,2012,2014]})\n",
    "\n",
    "\n",
    "df3 = pd.merge(df1, df2)\n",
    "print(df3)\n",
    "print('-'*20)\n",
    "\n",
    "df4 = pd.DataFrame({'group':['Accounting','Engineering','HR'],\n",
    "                'supervisor':['Carly','Guido','Steve']})\n",
    "\n",
    "df5 = pd.merge(df3, df4)\n",
    "\n",
    "print(df4)\n",
    "print('-'*20)\n",
    "print(df5)"
   ]
  },
  {
   "cell_type": "code",
   "execution_count": 9,
   "id": "35abd91c-4ca8-4f7d-9780-95df79d3c5f3",
   "metadata": {},
   "outputs": [
    {
     "name": "stdout",
     "output_type": "stream",
     "text": [
      "  employee        group\n",
      "0      Bob   Accounting\n",
      "1     Jake  Engineering\n",
      "2     Lisa  Engineering\n",
      "3      Sue           HR\n",
      "   name  salary\n",
      "0   Bob   70000\n",
      "1  Jake   80000\n",
      "2  Lisa  120000\n",
      "3   Sue   90000\n",
      "  employee        group  name  salary\n",
      "0      Bob   Accounting   Bob   70000\n",
      "1     Jake  Engineering  Jake   80000\n",
      "2     Lisa  Engineering  Lisa  120000\n",
      "3      Sue           HR   Sue   90000\n"
     ]
    }
   ],
   "source": [
    "# رص العواميد يمينا ويسارا\n",
    "\n",
    "df1 = pd.DataFrame({'employee':['Bob','Jake','Lisa','Sue'],\n",
    "                   'group':['Accounting','Engineering','Engineering','HR']})\n",
    "\n",
    "df2 = pd.DataFrame({'employee':['Lisa','Bob','Jake','Sue'],\n",
    "                   'hire_data':[2004,2008,2012,2014]})\n",
    "\n",
    "df3 = pd.DataFrame({'name':['Bob','Jake','Lisa','Sue'],\n",
    "                   'salary':[70000,80000,120000,90000]})\n",
    "\n",
    "print(df1)\n",
    "print(df3)\n",
    "\n",
    "print(pd.merge(df1, df3, left_on='employee', right_on='name'))"
   ]
  },
  {
   "cell_type": "code",
   "execution_count": 11,
   "id": "85c156e5-d706-4d31-8164-a8c62342ddc2",
   "metadata": {},
   "outputs": [
    {
     "name": "stdout",
     "output_type": "stream",
     "text": [
      "  employee        group\n",
      "0      Bob   Accounting\n",
      "1     Jake  Engineering\n",
      "2     Lisa  Engineering\n",
      "3      Sue           HR\n",
      "   name  salary\n",
      "0   Bob   70000\n",
      "1  Jake   80000\n",
      "2  Lisa  120000\n",
      "3   Sue   90000\n",
      "  employee        group  salary\n",
      "0      Bob   Accounting   70000\n",
      "1     Jake  Engineering   80000\n",
      "2     Lisa  Engineering  120000\n",
      "3      Sue           HR   90000\n"
     ]
    }
   ],
   "source": [
    "# حذف أحد العواميد \n",
    "\n",
    "df1 = pd.DataFrame({'employee':['Bob','Jake','Lisa','Sue'],\n",
    "                   'group':['Accounting','Engineering','Engineering','HR']})\n",
    "\n",
    "df2 = pd.DataFrame({'employee':['Lisa','Bob','Jake','Sue'],\n",
    "                   'hire_data':[2004,2008,2012,2014]})\n",
    "\n",
    "df3 = pd.DataFrame({'name':['Bob','Jake','Lisa','Sue'],\n",
    "                   'salary':[70000,80000,120000,90000]})\n",
    "\n",
    "print(df1)\n",
    "print(df3)\n",
    "\n",
    "print(pd.merge(df1, df3, left_on='employee', right_on='name').drop('name', axis=1)) # كدا هيحذف عمود اسمه name "
   ]
  },
  {
   "cell_type": "code",
   "execution_count": 12,
   "id": "7c2e74f5-b3a9-4204-a21c-06ced13b1139",
   "metadata": {},
   "outputs": [
    {
     "name": "stdout",
     "output_type": "stream",
     "text": [
      "  employee        group\n",
      "0      Bob   Accounting\n",
      "1     Jake  Engineering\n",
      "2     Lisa  Engineering\n",
      "3      Sue           HR\n",
      "--------------------\n",
      "                group\n",
      "employee             \n",
      "Bob        Accounting\n",
      "Jake      Engineering\n",
      "Lisa      Engineering\n",
      "Sue                HR\n"
     ]
    }
   ],
   "source": [
    "# تغيير المفتاح\n",
    "\n",
    "df1 = pd.DataFrame({'employee':['Bob','Jake','Lisa','Sue'],\n",
    "                   'group':['Accounting','Engineering','Engineering','HR']})\n",
    "\n",
    "df2 = pd.DataFrame({'employee':['Lisa','Bob','Jake','Sue'],\n",
    "                   'hire_data':[2004,2008,2012,2014]})\n",
    "\n",
    "print(df1)\n",
    "print('-'*20)\n",
    "df2 = df1.set_index('employee') # كدا هغير الانديكس بتاع العناصر وهخلي الجديد بتاع عمود ال employee \n",
    "print(df2)"
   ]
  },
  {
   "cell_type": "code",
   "execution_count": 14,
   "id": "1e245e15-d862-4c76-bdf0-7f2c46ff607b",
   "metadata": {},
   "outputs": [
    {
     "name": "stdout",
     "output_type": "stream",
     "text": [
      "    name   food\n",
      "0  Peter   fish\n",
      "1   Paul  beans\n",
      "2   Mary  bread\n",
      "--------------------\n",
      "     name drink\n",
      "0    Mary  cola\n",
      "1  Joseph  7 up\n",
      "--------------------\n",
      "   name   food drink\n",
      "0  Mary  bread  cola\n"
     ]
    }
   ],
   "source": [
    "# لدي المزج يأتي بالتقاطع \n",
    "\n",
    "df1 = pd.DataFrame({'name':['Peter','Paul','Mary'],\n",
    "                   'food':['fish','beans','bread']},\n",
    "                  columns=['name','food'])\n",
    "\n",
    "df2 = pd.DataFrame({'name':['Mary','Joseph'],\n",
    "                   'drink':['cola','7 up']},\n",
    "                  columns=['name','drink'])\n",
    "\n",
    "print(df1)\n",
    "print('-'*20)\n",
    "print(df2)\n",
    "print('-'*20)\n",
    "\n",
    "df3 = pd.merge(df1, df2) # كدا هيجيب الحاجه الموجوده هنا وهنا فقط \n",
    "print(df3)\n"
   ]
  },
  {
   "cell_type": "code",
   "execution_count": 15,
   "id": "ef9f7e16-9f2c-490c-929e-9619c3386907",
   "metadata": {},
   "outputs": [
    {
     "name": "stdout",
     "output_type": "stream",
     "text": [
      "    name   food\n",
      "0  Peter   fish\n",
      "1   Paul  beans\n",
      "2   Mary  bread\n",
      "--------------------\n",
      "     name drink\n",
      "0    Mary  cola\n",
      "1  Joseph  7 up\n",
      "--------------------\n",
      "   name   food drink\n",
      "0  Mary  bread  cola\n"
     ]
    }
   ],
   "source": [
    "# باستخدام inner يكون لها نفس التقاطع \n",
    "\n",
    "df1 = pd.DataFrame({'name':['Peter','Paul','Mary'],\n",
    "                   'food':['fish','beans','bread']},\n",
    "                  columns=['name','food'])\n",
    "\n",
    "df2 = pd.DataFrame({'name':['Mary','Joseph'],\n",
    "                   'drink':['cola','7 up']},\n",
    "                  columns=['name','drink'])\n",
    "\n",
    "print(df1)\n",
    "print('-'*20)\n",
    "print(df2)\n",
    "print('-'*20)\n",
    "\n",
    "df3 = pd.merge(df1, df2, how='inner') # كدا هيجيب الحاجه الموجوده هنا وهنا فقط \n",
    "print(df3)"
   ]
  },
  {
   "cell_type": "code",
   "execution_count": 16,
   "id": "54f5a0dc-d979-4d0a-b782-e9cbc681ba00",
   "metadata": {},
   "outputs": [
    {
     "name": "stdout",
     "output_type": "stream",
     "text": [
      "    name   food\n",
      "0  Peter   fish\n",
      "1   Paul  beans\n",
      "2   Mary  bread\n",
      "--------------------\n",
      "     name drink\n",
      "0    Mary  cola\n",
      "1  Joseph  7 up\n",
      "--------------------\n",
      "     name   food drink\n",
      "0   Peter   fish   NaN\n",
      "1    Paul  beans   NaN\n",
      "2    Mary  bread  cola\n",
      "3  Joseph    NaN  7 up\n"
     ]
    }
   ],
   "source": [
    "# بينما باستخدام outer بيجيب كل حاجه \n",
    "\n",
    "df1 = pd.DataFrame({'name':['Peter','Paul','Mary'],\n",
    "                   'food':['fish','beans','bread']},\n",
    "                  columns=['name','food'])\n",
    "\n",
    "df2 = pd.DataFrame({'name':['Mary','Joseph'],\n",
    "                   'drink':['cola','7 up']},\n",
    "                  columns=['name','drink'])\n",
    "\n",
    "print(df1)\n",
    "print('-'*20)\n",
    "print(df2)\n",
    "print('-'*20)\n",
    "\n",
    "df3 = pd.merge(df1, df2, how='outer') # كدا هيجيب كل حاجه \n",
    "\n",
    "print(df3)"
   ]
  },
  {
   "cell_type": "code",
   "execution_count": 17,
   "id": "316c7850-03f2-4588-a4d1-552e4116a4e0",
   "metadata": {},
   "outputs": [
    {
     "name": "stdout",
     "output_type": "stream",
     "text": [
      "    name   food\n",
      "0  Peter   fish\n",
      "1   Paul  beans\n",
      "2   Mary  bread\n",
      "--------------------\n",
      "     name drink\n",
      "0    Mary  cola\n",
      "1  Joseph  7 up\n",
      "--------------------\n",
      "     name   food drink\n",
      "0    Mary  bread  cola\n",
      "1  Joseph    NaN  7 up\n"
     ]
    }
   ],
   "source": [
    "# باستخدام right يأتي بالجدول الايمن كامل \n",
    "\n",
    "df1 = pd.DataFrame({'name':['Peter','Paul','Mary'],\n",
    "                   'food':['fish','beans','bread']},\n",
    "                  columns=['name','food'])\n",
    "\n",
    "df2 = pd.DataFrame({'name':['Mary','Joseph'],\n",
    "                   'drink':['cola','7 up']},\n",
    "                  columns=['name','drink'])\n",
    "\n",
    "print(df1)\n",
    "print('-'*20)\n",
    "print(df2)\n",
    "print('-'*20)\n",
    "\n",
    "df3 = pd.merge(df1, df2, how='right') \n",
    "\n",
    "print(df3)"
   ]
  },
  {
   "cell_type": "code",
   "execution_count": 18,
   "id": "62370a24-f0a2-49e7-81d8-78fb58528ca0",
   "metadata": {},
   "outputs": [
    {
     "name": "stdout",
     "output_type": "stream",
     "text": [
      "    name   food\n",
      "0  Peter   fish\n",
      "1   Paul  beans\n",
      "2   Mary  bread\n",
      "--------------------\n",
      "     name drink\n",
      "0    Mary  cola\n",
      "1  Joseph  7 up\n",
      "--------------------\n",
      "    name   food drink\n",
      "0  Peter   fish   NaN\n",
      "1   Paul  beans   NaN\n",
      "2   Mary  bread  cola\n"
     ]
    }
   ],
   "source": [
    "# باستخدام left ياتي بالجدول الايسر كامل \n",
    "\n",
    "df1 = pd.DataFrame({'name':['Peter','Paul','Mary'],\n",
    "                   'food':['fish','beans','bread']},\n",
    "                  columns=['name','food'])\n",
    "\n",
    "df2 = pd.DataFrame({'name':['Mary','Joseph'],\n",
    "                   'drink':['cola','7 up']},\n",
    "                  columns=['name','drink'])\n",
    "\n",
    "print(df1)\n",
    "print('-'*20)\n",
    "print(df2)\n",
    "print('-'*20)\n",
    "\n",
    "df3 = pd.merge(df1, df2, how='left') \n",
    "\n",
    "print(df3)"
   ]
  },
  {
   "cell_type": "code",
   "execution_count": 19,
   "id": "005cfa9f-4b9d-4313-92c7-94a52d507b44",
   "metadata": {},
   "outputs": [
    {
     "name": "stdout",
     "output_type": "stream",
     "text": [
      "          A         B\n",
      "0  0.913995  0.167711\n",
      "1  0.248114  0.432160\n",
      "2  0.237675  0.241021\n",
      "3  0.584329  0.588669\n",
      "4  0.446936  0.664718\n",
      "5  0.324798  0.267509\n",
      "6  0.793732  0.112863\n",
      "7  0.784002  0.159949\n",
      "8  0.857591  0.171779\n",
      "9  0.981291  0.332342\n",
      "--------------------\n",
      "A    6.172461\n",
      "B    3.138723\n",
      "dtype: float64\n",
      "--------------------\n",
      "A    0.002394\n",
      "B    0.000002\n",
      "dtype: float64\n",
      "--------------------\n",
      "A    0.617246\n",
      "B    0.313872\n",
      "dtype: float64\n"
     ]
    }
   ],
   "source": [
    "# عمليات احصائيه \n",
    "\n",
    "import pandas as pd\n",
    "import numpy as np\n",
    "\n",
    "df = pd.DataFrame({'A':np.random.rand(10), 'B':np.random.rand(10)})\n",
    "\n",
    "print(df)\n",
    "print('-'*20)\n",
    "print(df.sum())\n",
    "print('-'*20)\n",
    "print(df.prod())\n",
    "print('-'*20)\n",
    "print(df.mean())"
   ]
  },
  {
   "cell_type": "code",
   "execution_count": 20,
   "id": "3c6ff6b7-7273-4ebc-bc80-ac7c64704d8f",
   "metadata": {},
   "outputs": [
    {
     "name": "stdout",
     "output_type": "stream",
     "text": [
      "          A         B\n",
      "0  0.613839  0.466762\n",
      "1  0.486049  0.787200\n",
      "2  0.491171  0.592970\n",
      "3  0.454483  0.271339\n",
      "4  0.313280  0.359050\n",
      "5  0.134798  0.676584\n",
      "6  0.472532  0.492937\n",
      "7  0.635968  0.654405\n",
      "8  0.748732  0.307080\n",
      "9  0.609650  0.703257\n",
      "--------------------\n",
      "4.960499595290991\n"
     ]
    }
   ],
   "source": [
    "df = pd.DataFrame({'A':np.random.rand(10), 'B':np.random.rand(10)})\n",
    "\n",
    "print(df)\n",
    "print('-'*20)\n",
    "print(df['A'].sum()) # كدا عايز مجموع A فقط \n"
   ]
  },
  {
   "cell_type": "code",
   "execution_count": 22,
   "id": "4f61e4cf-a727-455c-913b-0ce9b8117bb3",
   "metadata": {},
   "outputs": [
    {
     "name": "stdout",
     "output_type": "stream",
     "text": [
      "          A         B\n",
      "0  0.054075  0.439651\n",
      "1  0.989025  0.258250\n",
      "2  0.772254  0.025514\n",
      "3  0.561043  0.743612\n",
      "4  0.959806  0.911181\n",
      "5  0.963442  0.349370\n",
      "6  0.554496  0.868203\n",
      "7  0.585575  0.138679\n",
      "8  0.633303  0.916900\n",
      "9  0.595790  0.520196\n",
      "--------------------\n",
      "0    0.246863\n",
      "1    0.623637\n",
      "2    0.398884\n",
      "3    0.652328\n",
      "4    0.935494\n",
      "5    0.656406\n",
      "6    0.711350\n",
      "7    0.362127\n",
      "8    0.775102\n",
      "9    0.557993\n",
      "dtype: float64\n"
     ]
    }
   ],
   "source": [
    "df = pd.DataFrame({'A':np.random.rand(10), 'B':np.random.rand(10)})\n",
    "\n",
    "print(df)\n",
    "print('-'*20)\n",
    "print(df.mean(axis='columns')) # كدا هتلي مجموع صف صف "
   ]
  },
  {
   "cell_type": "code",
   "execution_count": 23,
   "id": "b94df819-e597-4ddd-95cf-603ecdae1d2b",
   "metadata": {},
   "outputs": [
    {
     "name": "stdout",
     "output_type": "stream",
     "text": [
      "  key  data\n",
      "0   A     0\n",
      "1   B     1\n",
      "2   C     2\n",
      "3   D     3\n",
      "4   E     4\n",
      "5   F     5\n",
      "--------------------\n",
      "           data\n",
      "count  6.000000\n",
      "mean   2.500000\n",
      "std    1.870829\n",
      "min    0.000000\n",
      "25%    1.250000\n",
      "50%    2.500000\n",
      "75%    3.750000\n",
      "max    5.000000\n"
     ]
    }
   ],
   "source": [
    "# تفاصيل البيانات\n",
    "\n",
    "df = pd.DataFrame({'key':['A','B','C','D','E','F'],\n",
    "                  'data':range(6)},columns=['key','data'])\n",
    "\n",
    "print(df)\n",
    "print('-'*20)\n",
    "print(df.describe())"
   ]
  },
  {
   "cell_type": "code",
   "execution_count": 24,
   "id": "72a90ec2-2467-4def-9bb5-44542b7fe87b",
   "metadata": {},
   "outputs": [
    {
     "name": "stdout",
     "output_type": "stream",
     "text": [
      "     data\n",
      "key      \n",
      "A       3\n",
      "B       5\n",
      "C       7\n"
     ]
    }
   ],
   "source": [
    "# أمر groupby يقوم بتجميع العناصر \n",
    "\n",
    "df = pd.DataFrame({'key':['A','B','C','A','B','C'],\n",
    "                  'data':range(6)},columns=['key','data'])\n",
    "\n",
    "print(df.groupby('key').sum())"
   ]
  },
  {
   "cell_type": "code",
   "execution_count": 25,
   "id": "3b4e263e-4030-403a-a80f-3204111e6e78",
   "metadata": {},
   "outputs": [
    {
     "name": "stdout",
     "output_type": "stream",
     "text": [
      "     data                                         \n",
      "    count mean      std  min   25%  50%   75%  max\n",
      "key                                               \n",
      "A     2.0  1.5  2.12132  0.0  0.75  1.5  2.25  3.0\n",
      "B     2.0  2.5  2.12132  1.0  1.75  2.5  3.25  4.0\n",
      "C     2.0  3.5  2.12132  2.0  2.75  3.5  4.25  5.0\n"
     ]
    }
   ],
   "source": [
    "# تفاصيلها الاحصائيه \n",
    "\n",
    "df = pd.DataFrame({'key':['A','B','C','A','B','C'],\n",
    "                  'data':range(6)},columns=['key','data'])\n",
    "\n",
    "print(df.groupby('key').describe())"
   ]
  },
  {
   "cell_type": "code",
   "execution_count": 26,
   "id": "03d81b77-7852-4e3a-ab92-99bf89c6887a",
   "metadata": {},
   "outputs": [
    {
     "name": "stdout",
     "output_type": "stream",
     "text": [
      "             key\n",
      "data  count  A      2.00000\n",
      "             B      2.00000\n",
      "             C      2.00000\n",
      "      mean   A      1.50000\n",
      "             B      2.50000\n",
      "             C      3.50000\n",
      "      std    A      2.12132\n",
      "             B      2.12132\n",
      "             C      2.12132\n",
      "      min    A      0.00000\n",
      "             B      1.00000\n",
      "             C      2.00000\n",
      "      25%    A      0.75000\n",
      "             B      1.75000\n",
      "             C      2.75000\n",
      "      50%    A      1.50000\n",
      "             B      2.50000\n",
      "             C      3.50000\n",
      "      75%    A      2.25000\n",
      "             B      3.25000\n",
      "             C      4.25000\n",
      "      max    A      3.00000\n",
      "             B      4.00000\n",
      "             C      5.00000\n",
      "dtype: float64\n"
     ]
    }
   ],
   "source": [
    "# أمر unstack بيفك البيانات \n",
    "\n",
    "df = pd.DataFrame({'key':['A','B','C','A','B','C'],\n",
    "                  'data':range(6)},columns=['key','data'])\n",
    "\n",
    "print(df.groupby('key').describe().unstack())"
   ]
  },
  {
   "cell_type": "code",
   "execution_count": 32,
   "id": "31077e9a-908a-4be0-8c52-ca34a986b0ab",
   "metadata": {},
   "outputs": [
    {
     "name": "stdout",
     "output_type": "stream",
     "text": [
      "  key  data1  data2\n",
      "0   A      0      6\n",
      "1   B      1      9\n",
      "2   C      2      2\n",
      "3   A      3      3\n",
      "4   B      4      8\n",
      "5   C      5      8\n",
      "     data1  data2\n",
      "key              \n",
      "A        0      6\n",
      "B        1      9\n",
      "C        2      8\n"
     ]
    }
   ],
   "source": [
    "# وبأمر aggregate نعمل مزج للبيانات \n",
    "\n",
    "import pandas as pd\n",
    "import numpy as np\n",
    "\n",
    "df = pd.DataFrame({'key':['A','B','C','A','B','C'],\n",
    "                  'data1':range(6),\n",
    "                  'data2':np.random.randint(0, 10, 6)},\n",
    "                 columns=['key','data1','data2'])\n",
    "\n",
    "print(df)\n",
    "df2 = df.groupby('key').aggregate({'data1':'min','data2':'max'})\n",
    "print(df2)"
   ]
  },
  {
   "cell_type": "code",
   "execution_count": 33,
   "id": "2e6ef44e-5dd3-4e06-9411-f6efb76d15a8",
   "metadata": {},
   "outputs": [
    {
     "name": "stdout",
     "output_type": "stream",
     "text": [
      "  key  data1  data2\n",
      "0   A      0      8\n",
      "1   B      1      1\n",
      "2   C      2      4\n",
      "3   A      3      6\n",
      "4   B      4      4\n",
      "5   C      5      7\n",
      "   data1  data2\n",
      "0      0     64\n",
      "1      1      1\n",
      "2      4     16\n",
      "3      9     36\n",
      "4     16     16\n",
      "5     25     49\n"
     ]
    }
   ],
   "source": [
    "# لمدا \n",
    "df = pd.DataFrame({'key':['A','B','C','A','B','C'],\n",
    "                  'data1':range(6),\n",
    "                  'data2':np.random.randint(0, 10, 6)},\n",
    "                 columns=['key','data1','data2'])\n",
    "\n",
    "print(df)\n",
    "\n",
    "df2 = df.groupby('key').transform(lambda x: x**2)\n",
    "\n",
    "print(df2)\n"
   ]
  },
  {
   "cell_type": "markdown",
   "id": "646411df-243c-417a-98b2-52c608832cf1",
   "metadata": {},
   "source": [
    "<h1 style=\"text-align: center; font-size: 38px\">  MultiIndex  - 7  بانداس </h1>  <br> "
   ]
  },
  {
   "cell_type": "markdown",
   "id": "09247dec-cffe-48d1-a8ab-4bb2a0ca8260",
   "metadata": {},
   "source": [
    "# هي أداة للتعامل مع الجداول والتي غالبا ما تكون ثلاثية الابعاد "
   ]
  },
  {
   "cell_type": "code",
   "execution_count": 1,
   "id": "695cdf1a-baf8-4f4e-8a25-36dddb85226e",
   "metadata": {},
   "outputs": [
    {
     "name": "stdout",
     "output_type": "stream",
     "text": [
      "California  2000    10000\n",
      "            2010    15000\n",
      "New York    2000    20000\n",
      "            2010    25000\n",
      "Texas       2000    30000\n",
      "            2010    35000\n",
      "dtype: int64\n"
     ]
    }
   ],
   "source": [
    "# كتابة جدول واظهاره \n",
    "\n",
    "import pandas as pd\n",
    "\n",
    "index = [('California', 2000),('California', 2010),\n",
    "        ('New York',2000),('New York',2010),\n",
    "        ('Texas',2000), ('Texas',2010)]\n",
    "\n",
    "populations = [10000,15000,\n",
    "              20000, 25000,\n",
    "              30000, 35000]\n",
    "\n",
    "index = pd.MultiIndex.from_tuples(index)\n",
    "\n",
    "pop = pd.Series(populations, index=index)\n",
    "\n",
    "pop = pop.reindex(index)\n",
    "\n",
    "print(pop)"
   ]
  },
  {
   "cell_type": "code",
   "execution_count": 2,
   "id": "25e5f5a6-c810-4527-af10-34e83fd124c1",
   "metadata": {},
   "outputs": [
    {
     "name": "stdout",
     "output_type": "stream",
     "text": [
      "California    15000\n",
      "New York      25000\n",
      "Texas         35000\n",
      "dtype: int64\n"
     ]
    }
   ],
   "source": [
    "# لو عاوز اظهر حاجه معينه \n",
    "\n",
    "index = [('California', 2000),('California', 2010),\n",
    "        ('New York',2000),('New York',2010),\n",
    "        ('Texas',2000), ('Texas',2010)]\n",
    "\n",
    "populations = [10000,15000,\n",
    "              20000, 25000,\n",
    "              30000, 35000]\n",
    "\n",
    "index = pd.MultiIndex.from_tuples(index)\n",
    "\n",
    "pop = pd.Series(populations, index=index)\n",
    "\n",
    "pop = pop.reindex(index)\n",
    "\n",
    "print(pop[:, 2010])"
   ]
  },
  {
   "cell_type": "code",
   "execution_count": 3,
   "id": "3e395ca5-36d7-4978-b58b-a6e488bbaa64",
   "metadata": {},
   "outputs": [
    {
     "name": "stdout",
     "output_type": "stream",
     "text": [
      "             2000   2010\n",
      "California  10000  15000\n",
      "New York    20000  25000\n",
      "Texas       30000  35000\n"
     ]
    }
   ],
   "source": [
    "# تدوير البيانات \n",
    "\n",
    "index = [('California', 2000),('California', 2010),\n",
    "        ('New York',2000),('New York',2010),\n",
    "        ('Texas',2000), ('Texas',2010)]\n",
    "\n",
    "populations = [10000,15000,\n",
    "              20000, 25000,\n",
    "              30000, 35000]\n",
    "\n",
    "index = pd.MultiIndex.from_tuples(index)\n",
    "\n",
    "pop = pd.Series(populations, index=index)\n",
    "\n",
    "pop = pop.reindex(index)\n",
    "\n",
    "print(pop.unstack())"
   ]
  },
  {
   "cell_type": "code",
   "execution_count": 4,
   "id": "a93f45ad-ab5b-40a9-af79-be36880eb05a",
   "metadata": {},
   "outputs": [
    {
     "name": "stdout",
     "output_type": "stream",
     "text": [
      "California  2000    10000\n",
      "            2010    15000\n",
      "New York    2000    20000\n",
      "            2010    25000\n",
      "Texas       2000    30000\n",
      "            2010    35000\n",
      "dtype: int64\n",
      "                 totla  under18\n",
      "California 2000  10000   855848\n",
      "           2010  15000   544456\n",
      "New York   2000  20000   123455\n",
      "           2010  25000   726545\n",
      "Texas      2000  30000   665445\n",
      "           2010  35000   419815\n"
     ]
    }
   ],
   "source": [
    "# زيادة عمود \n",
    "\n",
    "index = [('California', 2000),('California', 2010),\n",
    "        ('New York',2000),('New York',2010),\n",
    "        ('Texas',2000), ('Texas',2010)]\n",
    "\n",
    "populations = [10000,15000,\n",
    "              20000, 25000,\n",
    "              30000, 35000]\n",
    "\n",
    "index = pd.MultiIndex.from_tuples(index)\n",
    "pop = pd.Series(populations, index=index)\n",
    "pop = pop.reindex(index)\n",
    "\n",
    "pop_df = pd.DataFrame({'totla':pop,\n",
    "                      'under18':[855848,544456,123455,726545,665445,419815]})\n",
    "\n",
    "print(pop)\n",
    "print(pop_df)"
   ]
  },
  {
   "cell_type": "code",
   "execution_count": 8,
   "id": "5468baaf-dffd-416c-8247-2e45fa46d1c1",
   "metadata": {},
   "outputs": [
    {
     "name": "stdout",
     "output_type": "stream",
     "text": [
      "       income    profit\n",
      "a 1  0.868822  0.083677\n",
      "  2  0.789788  0.656843\n",
      "b 1  0.171671  0.548761\n",
      "  2  0.222983  0.580558\n"
     ]
    }
   ],
   "source": [
    "# نفس النتيجه باستخدام ال dataframe \n",
    "\n",
    "import pandas as pd \n",
    "import numpy as np \n",
    "\n",
    "df = pd.DataFrame(np.random.rand(4, 2),\n",
    "                 index=[['a','a','b','b'],[1,2,1,2]],columns=['income','profit'])\n",
    "\n",
    "print(df)"
   ]
  },
  {
   "cell_type": "markdown",
   "id": "9c4cbd05-f4c8-479c-8d16-773b293e8602",
   "metadata": {},
   "source": [
    "<h1 style=\"text-align: center; font-size: 38px\">  MultiIndex  - 8  بانداس </h1>  <br> "
   ]
  },
  {
   "cell_type": "code",
   "execution_count": 10,
   "id": "13b0c0b9-a388-43fd-9264-0665e08b8c4e",
   "metadata": {},
   "outputs": [
    {
     "name": "stdout",
     "output_type": "stream",
     "text": [
      "California  2000    10000\n",
      "            2010    15000\n",
      "Texas       2000    20000\n",
      "            2010    25000\n",
      "New York    2000    30000\n",
      "            2010    35000\n",
      "dtype: int64\n"
     ]
    }
   ],
   "source": [
    "import pandas as pd\n",
    "\n",
    "data = {('California',2000):10000,('California',2010):15000,\n",
    "       ('Texas',2000):20000,('Texas',2010):25000,\n",
    "       ('New York',2000):30000,('New York',2010):35000}\n",
    "\n",
    "df = pd.Series(data)\n",
    "\n",
    "print(df)"
   ]
  },
  {
   "cell_type": "code",
   "execution_count": 11,
   "id": "daf9857c-c85c-4433-9138-60dadab80caa",
   "metadata": {},
   "outputs": [
    {
     "name": "stdout",
     "output_type": "stream",
     "text": [
      "subject     Bob      Guido       Sue     \n",
      "type         HR Temp    HR Temp   HR Temp\n",
      "year visit                               \n",
      "2013 1      1.0 -1.0  -1.0 -1.0  2.0  1.0\n",
      "     2      2.0 -1.0  -1.0 -1.0 -1.0 -0.0\n",
      "2014 1     -0.0  1.0  -2.0  2.0 -1.0 -1.0\n",
      "     2     -0.0  1.0  -0.0  1.0 -1.0 -2.0\n"
     ]
    }
   ],
   "source": [
    "# بيانات متداخله \n",
    "\n",
    "index = pd.MultiIndex.from_product([[2013, 2014],[1, 2]],\n",
    "                                  names=['year','visit'])\n",
    "\n",
    "columns = pd.MultiIndex.from_product([['Bob','Guido','Sue'],\n",
    "                                     ['HR', 'Temp']],\n",
    "                                    names=['subject', 'type'])\n",
    "\n",
    "data = np.round(np.random.randn(4, 6))\n",
    "health_data = pd.DataFrame(data, index=index, columns=columns)\n",
    "print(health_data)"
   ]
  },
  {
   "cell_type": "code",
   "execution_count": 12,
   "id": "ac1f9f59-c513-4765-a392-35dee6899954",
   "metadata": {},
   "outputs": [
    {
     "name": "stdout",
     "output_type": "stream",
     "text": [
      "year  visit\n",
      "2013  1       -2.0\n",
      "      2       -1.0\n",
      "2014  1        1.0\n",
      "      2       -1.0\n",
      "Name: (Guido, HR), dtype: float64\n"
     ]
    }
   ],
   "source": [
    "# اختيارات محدده \n",
    "\n",
    "index = pd.MultiIndex.from_product([[2013, 2014],[1, 2]],\n",
    "                                  names=['year','visit'])\n",
    "\n",
    "columns = pd.MultiIndex.from_product([['Bob','Guido','Sue'],\n",
    "                                     ['HR', 'Temp']],\n",
    "                                    names=['subject', 'type'])\n",
    "\n",
    "data = np.round(np.random.randn(4, 6))\n",
    "health_data = pd.DataFrame(data, index=index, columns=columns)\n",
    "print(health_data['Guido', 'HR'])"
   ]
  },
  {
   "cell_type": "code",
   "execution_count": 13,
   "id": "5a7c12c5-d98e-417f-9560-869cf711e473",
   "metadata": {},
   "outputs": [
    {
     "name": "stdout",
     "output_type": "stream",
     "text": [
      "year  visit\n",
      "2013  1        0.0\n",
      "      2       -1.0\n",
      "2014  1       -0.0\n",
      "      2        0.0\n",
      "Name: (Bob, HR), dtype: float64\n"
     ]
    }
   ],
   "source": [
    "index = pd.MultiIndex.from_product([[2013, 2014],[1, 2]],\n",
    "                                  names=['year','visit'])\n",
    "\n",
    "columns = pd.MultiIndex.from_product([['Bob','Guido','Sue'],\n",
    "                                     ['HR', 'Temp']],\n",
    "                                    names=['subject', 'type'])\n",
    "\n",
    "data = np.round(np.random.randn(4, 6))\n",
    "health_data = pd.DataFrame(data, index=index, columns=columns)\n",
    "print(health_data.loc[:, ('Bob','HR')])"
   ]
  },
  {
   "cell_type": "code",
   "execution_count": 14,
   "id": "a026c219-5d4e-4bce-be5f-780b538c927c",
   "metadata": {},
   "outputs": [
    {
     "name": "stdout",
     "output_type": "stream",
     "text": [
      "subject     Bob Guido  Sue\n",
      "type         HR    HR   HR\n",
      "year visit                \n",
      "2013 1      0.0   1.0 -1.0\n",
      "2014 1      0.0  -1.0 -1.0\n"
     ]
    }
   ],
   "source": [
    "# اقتطاع شريحة \n",
    "\n",
    "index = pd.MultiIndex.from_product([[2013, 2014],[1, 2]],\n",
    "                                  names=['year','visit'])\n",
    "\n",
    "columns = pd.MultiIndex.from_product([['Bob','Guido','Sue'],\n",
    "                                     ['HR', 'Temp']],\n",
    "                                    names=['subject', 'type'])\n",
    "\n",
    "data = np.round(np.random.randn(4, 6))\n",
    "health_data = pd.DataFrame(data, index=index, columns=columns)\n",
    "\n",
    "idx = pd.IndexSlice\n",
    "print(health_data.loc[idx[:, 1], idx[:, 'HR']])"
   ]
  },
  {
   "cell_type": "markdown",
   "id": "0fd85753-4d98-46f9-ae11-b912e0fe0938",
   "metadata": {},
   "source": [
    "<h1 style=\"text-align: center; font-size: 38px\">  String - 9 بانداس </h1>  <br> "
   ]
  },
  {
   "cell_type": "code",
   "execution_count": 1,
   "id": "7d5fbfbd-e843-46af-b8ba-330d0545c57e",
   "metadata": {},
   "outputs": [
    {
     "name": "stdout",
     "output_type": "stream",
     "text": [
      "0    5\n",
      "1    4\n",
      "2    4\n",
      "3    2\n",
      "4    2\n",
      "dtype: int64\n",
      "0     True\n",
      "1    False\n",
      "2    False\n",
      "3    False\n",
      "4    False\n",
      "dtype: bool\n",
      "0    False\n",
      "1    False\n",
      "2     True\n",
      "3    False\n",
      "4    False\n",
      "dtype: bool\n"
     ]
    }
   ],
   "source": [
    "# التعامل مع النصوص \n",
    "\n",
    "import pandas as pd\n",
    "\n",
    "data = ['peter','Paul','MARY', '15', '  ']\n",
    "\n",
    "print(pd.Series(data).str.len())\n",
    "print(pd.Series(data).str.startswith('p'))\n",
    "print(pd.Series(data).str.endswith('Y'))"
   ]
  },
  {
   "cell_type": "code",
   "execution_count": 3,
   "id": "f297bb4d-6d48-4666-9da0-9898e1fd3c99",
   "metadata": {},
   "outputs": [
    {
     "name": "stdout",
     "output_type": "stream",
     "text": [
      "0    2\n",
      "1   -1\n",
      "2   -1\n",
      "3   -1\n",
      "4   -1\n",
      "dtype: int64\n",
      "0   -1\n",
      "1   -1\n",
      "2    1\n",
      "3   -1\n",
      "4   -1\n",
      "dtype: int64\n"
     ]
    }
   ],
   "source": [
    "# عشان ابحث عن حرف\n",
    "data = ['peter','Paul','MARY', '15', '  ']\n",
    "\n",
    "print(pd.Series(data).str.find('t'))\n",
    "print(pd.Series(data).str.rfind('A'))"
   ]
  },
  {
   "cell_type": "code",
   "execution_count": 4,
   "id": "3270b5aa-f454-4768-b8ed-da73912825f5",
   "metadata": {},
   "outputs": [
    {
     "name": "stdout",
     "output_type": "stream",
     "text": [
      "0                   peter\n",
      "1                    Paul\n",
      "2                    MARY\n",
      "3                      15\n",
      "4                        \n",
      "dtype: object\n",
      "0    peter                                         ...\n",
      "1    Paul                                          ...\n",
      "2    MARY                                          ...\n",
      "3    15                                            ...\n",
      "4                                                  ...\n",
      "dtype: object\n"
     ]
    }
   ],
   "source": [
    "# عشان اوازي السطر \n",
    "\n",
    "data = ['peter','Paul','MARY', '15', '  '] \n",
    "\n",
    "print(pd.Series(data).str.rjust(20))\n",
    "print(pd.Series(data).str.ljust(50))"
   ]
  },
  {
   "cell_type": "code",
   "execution_count": 6,
   "id": "dc6ecce9-8c4e-4c4d-82f3-d02ec918538f",
   "metadata": {},
   "outputs": [
    {
     "name": "stdout",
     "output_type": "stream",
     "text": [
      "0      peter   \n",
      "1       Paul   \n",
      "2       MARY   \n",
      "3        15    \n",
      "4              \n",
      "dtype: object\n",
      "0    peter\n",
      "1    0Paul\n",
      "2    0MARY\n",
      "3    00015\n",
      "4    000  \n",
      "dtype: object\n"
     ]
    }
   ],
   "source": [
    "data = ['peter','Paul','MARY', '15', '  '] \n",
    "\n",
    "print(pd.Series(data).str.center(10)) # هيخلي الكلام في المنتصف\n",
    "print(pd.Series(data).str.zfill(5)) # اصفار ف الكلمه لحد عدد 5 \n"
   ]
  },
  {
   "cell_type": "code",
   "execution_count": 7,
   "id": "8dc9e656-306a-417f-ab49-ea892581b199",
   "metadata": {},
   "outputs": [
    {
     "name": "stdout",
     "output_type": "stream",
     "text": [
      "0    False\n",
      "1    False\n",
      "2     True\n",
      "3    False\n",
      "4    False\n",
      "dtype: bool\n",
      "0     True\n",
      "1    False\n",
      "2    False\n",
      "3    False\n",
      "4    False\n",
      "dtype: bool\n",
      "0    False\n",
      "1     True\n",
      "2    False\n",
      "3    False\n",
      "4    False\n",
      "dtype: bool\n"
     ]
    }
   ],
   "source": [
    "data = ['peter','Paul','MARY', '15', '  '] \n",
    "\n",
    "print(pd.Series(data).str.isupper())\n",
    "print(pd.Series(data).str.islower())\n",
    "print(pd.Series(data).str.istitle())\n"
   ]
  },
  {
   "cell_type": "code",
   "execution_count": 8,
   "id": "26e3c36f-6c8a-47e6-8f9e-f9d1f2c2d89a",
   "metadata": {},
   "outputs": [
    {
     "name": "stdout",
     "output_type": "stream",
     "text": [
      "0    False\n",
      "1    False\n",
      "2    False\n",
      "3    False\n",
      "4     True\n",
      "dtype: bool\n",
      "0    False\n",
      "1    False\n",
      "2    False\n",
      "3     True\n",
      "4    False\n",
      "dtype: bool\n",
      "0     True\n",
      "1     True\n",
      "2     True\n",
      "3    False\n",
      "4    False\n",
      "dtype: bool\n"
     ]
    }
   ],
   "source": [
    "data = ['peter','Paul','MARY', '15', '  '] \n",
    "\n",
    "print(pd.Series(data).str.isspace())\n",
    "print(pd.Series(data).str.isdigit())\n",
    "print(pd.Series(data).str.isalpha())\n"
   ]
  },
  {
   "cell_type": "code",
   "execution_count": 9,
   "id": "87c5ab1b-ebd4-4d75-bf85-bb3fa6c87116",
   "metadata": {},
   "outputs": [
    {
     "name": "stdout",
     "output_type": "stream",
     "text": [
      "0     True\n",
      "1     True\n",
      "2     True\n",
      "3     True\n",
      "4    False\n",
      "dtype: bool\n",
      "0    False\n",
      "1    False\n",
      "2    False\n",
      "3     True\n",
      "4    False\n",
      "dtype: bool\n",
      "0    False\n",
      "1    False\n",
      "2    False\n",
      "3     True\n",
      "4    False\n",
      "dtype: bool\n"
     ]
    }
   ],
   "source": [
    "data = ['peter','Paul','MARY', '15', '  '] \n",
    "\n",
    "print(pd.Series(data).str.isalnum())# مفيش مسافات في الكلمه \n",
    "print(pd.Series(data).str.isdecimal())# في ارقام عشريه ؟ \n",
    "print(pd.Series(data).str.isnumeric()) # في ارقام\n"
   ]
  },
  {
   "cell_type": "code",
   "execution_count": 10,
   "id": "cad4846b-e836-4f08-9e3f-64965d798c68",
   "metadata": {},
   "outputs": [
    {
     "name": "stdout",
     "output_type": "stream",
     "text": [
      "0    PETER\n",
      "1     PAUL\n",
      "2     MARY\n",
      "3       15\n",
      "4         \n",
      "dtype: object\n",
      "0    Peter\n",
      "1     Paul\n",
      "2     Mary\n",
      "3       15\n",
      "4         \n",
      "dtype: object\n"
     ]
    }
   ],
   "source": [
    "data = ['peter','Paul','MARY', '15', '  '] \n",
    "\n",
    "print(pd.Series(data).str.upper())\n",
    "print(pd.Series(data).str.capitalize())"
   ]
  },
  {
   "cell_type": "code",
   "execution_count": 11,
   "id": "54469c0a-7d00-4725-906a-c5679dc9f221",
   "metadata": {},
   "outputs": [
    {
     "name": "stdout",
     "output_type": "stream",
     "text": [
      "0    peter\n",
      "1     paul\n",
      "2     mary\n",
      "3       15\n",
      "4         \n",
      "dtype: object\n",
      "0    PETER\n",
      "1     pAUL\n",
      "2     mary\n",
      "3       15\n",
      "4         \n",
      "dtype: object\n"
     ]
    }
   ],
   "source": [
    "data = ['peter','Paul','MARY', '15', '  '] \n",
    "\n",
    "print(pd.Series(data).str.lower())\n",
    "print(pd.Series(data).str.swapcase()) # خلي الكابيتال سمول وال سمول كابيتال \n"
   ]
  },
  {
   "cell_type": "markdown",
   "id": "b3f49e4c-fcbf-423d-80c5-347ea51b4e31",
   "metadata": {},
   "source": [
    "<h1 style=\"text-align: center; font-size: 38px\">  Date  - 10 بانداس </h1>  <br> "
   ]
  },
  {
   "cell_type": "markdown",
   "id": "0a4070a9-1531-4811-b2f3-29f95a6ec626",
   "metadata": {},
   "source": [
    "# التعامل مع التواريخ "
   ]
  },
  {
   "cell_type": "code",
   "execution_count": 4,
   "id": "8bcd77d1-97c0-4235-9c13-2fe33a9f7211",
   "metadata": {},
   "outputs": [
    {
     "name": "stdout",
     "output_type": "stream",
     "text": [
      "2024-07-29 00:00:00\n"
     ]
    }
   ],
   "source": [
    "import pandas as pd\n",
    "import numpy as np\n",
    "\n",
    "x = pd.to_datetime(\"29th of July, 2024\")\n",
    "\n",
    "print(x)"
   ]
  },
  {
   "cell_type": "code",
   "execution_count": 6,
   "id": "6ae89e4d-abd2-4b34-b044-15d524340332",
   "metadata": {},
   "outputs": [
    {
     "name": "stdout",
     "output_type": "stream",
     "text": [
      "2024-07-29 00:00:00\n",
      "DatetimeIndex(['2024-07-29', '2024-07-30', '2024-07-31', '2024-08-01',\n",
      "               '2024-08-02', '2024-08-03', '2024-08-04', '2024-08-05',\n",
      "               '2024-08-06', '2024-08-07', '2024-08-08', '2024-08-09',\n",
      "               '2024-08-10', '2024-08-11', '2024-08-12', '2024-08-13',\n",
      "               '2024-08-14', '2024-08-15', '2024-08-16', '2024-08-17'],\n",
      "              dtype='datetime64[ns]', freq=None)\n"
     ]
    }
   ],
   "source": [
    "# زيادة ونقصان في التاريخ \n",
    "\n",
    "x = pd.to_datetime(\"29th of July, 2024\")\n",
    "\n",
    "y = x + pd.to_timedelta(np.arange(20), \"D\")\n",
    "\n",
    "print(x)\n",
    "print(y)"
   ]
  },
  {
   "cell_type": "code",
   "execution_count": 7,
   "id": "0782f9c0-5604-49cc-8404-871451d46c30",
   "metadata": {},
   "outputs": [
    {
     "name": "stdout",
     "output_type": "stream",
     "text": [
      "2024-07-29 00:00:00\n",
      "DatetimeIndex(['2024-07-29', '2024-07-28', '2024-07-27', '2024-07-26',\n",
      "               '2024-07-25', '2024-07-24', '2024-07-23', '2024-07-22',\n",
      "               '2024-07-21', '2024-07-20', '2024-07-19', '2024-07-18',\n",
      "               '2024-07-17', '2024-07-16', '2024-07-15', '2024-07-14',\n",
      "               '2024-07-13', '2024-07-12', '2024-07-11', '2024-07-10'],\n",
      "              dtype='datetime64[ns]', freq=None)\n"
     ]
    }
   ],
   "source": [
    "x = pd.to_datetime(\"29th of July, 2024\")\n",
    "\n",
    "y = x - pd.to_timedelta(np.arange(20), \"D\")\n",
    "\n",
    "print(x)\n",
    "print(y)"
   ]
  },
  {
   "cell_type": "code",
   "execution_count": 8,
   "id": "647a5294-0fbb-4247-bb01-cb723b693e8f",
   "metadata": {},
   "outputs": [
    {
     "name": "stdout",
     "output_type": "stream",
     "text": [
      "2014-07-04    0\n",
      "2014-08-04    1\n",
      "2015-07-04    2\n",
      "2015-08-04    3\n",
      "dtype: int64\n"
     ]
    }
   ],
   "source": [
    "# رص التواريخ \n",
    "\n",
    "index = pd.DatetimeIndex(['2014-07-04','2014-08-04',\n",
    "                         '2015-07-04','2015-08-04'])\n",
    "\n",
    "data = pd.Series([0,1,2,3], index=index)\n",
    "\n",
    "print(data)"
   ]
  },
  {
   "cell_type": "code",
   "execution_count": 9,
   "id": "13bb70a0-c8a6-43ba-9d96-bc81fc2a0380",
   "metadata": {},
   "outputs": [
    {
     "name": "stdout",
     "output_type": "stream",
     "text": [
      "2011-03-12    0\n",
      "2012-08-21    1\n",
      "dtype: int64\n"
     ]
    }
   ],
   "source": [
    "# فلترة التواريخ \n",
    "\n",
    "index = pd.DatetimeIndex(['2011-03-12','2012-08-21',\n",
    "                         '2013-07-11','2014-08-28'])\n",
    "\n",
    "data = pd.Series([0,1,2,3], index=index)\n",
    "\n",
    "print(data['2011-01-01':'2012-12-31'])"
   ]
  },
  {
   "cell_type": "code",
   "execution_count": 10,
   "id": "cd01ede6-b081-4949-8b93-b67375519a10",
   "metadata": {},
   "outputs": [
    {
     "name": "stdout",
     "output_type": "stream",
     "text": [
      "2012-08-21    1\n",
      "dtype: int64\n"
     ]
    }
   ],
   "source": [
    "# سنه محدده \n",
    "\n",
    "index = pd.DatetimeIndex(['2011-03-12','2012-08-21',\n",
    "                         '2013-07-11','2014-08-28'])\n",
    "\n",
    "data = pd.Series([0,1,2,3], index=index)\n",
    "\n",
    "print(data['2012'])"
   ]
  },
  {
   "cell_type": "code",
   "execution_count": 11,
   "id": "e7b0f284-2205-42a1-a916-7c8780b6f2a7",
   "metadata": {},
   "outputs": [
    {
     "name": "stdout",
     "output_type": "stream",
     "text": [
      "2013-07-11    2\n",
      "dtype: int64\n"
     ]
    }
   ],
   "source": [
    "# شهر محدد \n",
    "\n",
    "index = pd.DatetimeIndex(['2011-03-12','2012-08-21',\n",
    "                         '2013-07-11','2014-08-28'])\n",
    "\n",
    "data = pd.Series([0,1,2,3], index=index)\n",
    "\n",
    "print(data['2013-07'])"
   ]
  },
  {
   "cell_type": "code",
   "execution_count": 12,
   "id": "d41a706b-c389-4977-8d5d-daa47c439d26",
   "metadata": {},
   "outputs": [
    {
     "name": "stdout",
     "output_type": "stream",
     "text": [
      "DatetimeIndex(['2011-12-01', '2011-12-02', '2011-12-03', '2011-12-04',\n",
      "               '2011-12-05', '2011-12-06', '2011-12-07', '2011-12-08',\n",
      "               '2011-12-09', '2011-12-10', '2011-12-11', '2011-12-12',\n",
      "               '2011-12-13', '2011-12-14', '2011-12-15', '2011-12-16',\n",
      "               '2011-12-17', '2011-12-18', '2011-12-19', '2011-12-20',\n",
      "               '2011-12-21', '2011-12-22', '2011-12-23', '2011-12-24',\n",
      "               '2011-12-25', '2011-12-26', '2011-12-27', '2011-12-28',\n",
      "               '2011-12-29', '2011-12-30', '2011-12-31', '2012-01-01',\n",
      "               '2012-01-02', '2012-01-03', '2012-01-04', '2012-01-05',\n",
      "               '2012-01-06', '2012-01-07', '2012-01-08', '2012-01-09',\n",
      "               '2012-01-10', '2012-01-11', '2012-01-12', '2012-01-13',\n",
      "               '2012-01-14', '2012-01-15', '2012-01-16', '2012-01-17',\n",
      "               '2012-01-18', '2012-01-19', '2012-01-20', '2012-01-21',\n",
      "               '2012-01-22', '2012-01-23', '2012-01-24', '2012-01-25',\n",
      "               '2012-01-26', '2012-01-27', '2012-01-28', '2012-01-29',\n",
      "               '2012-01-30', '2012-01-31', '2012-02-01'],\n",
      "              dtype='datetime64[ns]', freq='D')\n"
     ]
    }
   ],
   "source": [
    "# من كذا ل كذا \n",
    "\n",
    "data = pd.date_range('2011-12-1','2012-02-1')\n",
    "\n",
    "print(data)"
   ]
  },
  {
   "cell_type": "code",
   "execution_count": 14,
   "id": "3bc98462-a08c-4f55-8697-9a7a784ed088",
   "metadata": {},
   "outputs": [
    {
     "name": "stdout",
     "output_type": "stream",
     "text": [
      "DatetimeIndex(['2024-07-29', '2024-07-30', '2024-07-31', '2024-08-01',\n",
      "               '2024-08-02', '2024-08-03', '2024-08-04', '2024-08-05',\n",
      "               '2024-08-06', '2024-08-07'],\n",
      "              dtype='datetime64[ns]', freq='D')\n"
     ]
    }
   ],
   "source": [
    "# عدد من الايام \n",
    "\n",
    "data = pd.date_range('2024-07-29', periods=10) # اجمع 10 ايام علي التاريخ ده \n",
    "\n",
    "print(data)"
   ]
  },
  {
   "cell_type": "code",
   "execution_count": 17,
   "id": "32af7904-5984-44eb-8ae5-26e7e9fd4c83",
   "metadata": {},
   "outputs": [
    {
     "name": "stdout",
     "output_type": "stream",
     "text": [
      "DatetimeIndex(['2024-07-29 00:00:00', '2024-07-29 01:00:00',\n",
      "               '2024-07-29 02:00:00', '2024-07-29 03:00:00',\n",
      "               '2024-07-29 04:00:00', '2024-07-29 05:00:00',\n",
      "               '2024-07-29 06:00:00', '2024-07-29 07:00:00'],\n",
      "              dtype='datetime64[ns]', freq='h')\n"
     ]
    }
   ],
   "source": [
    "# عدد من الساعات \n",
    "\n",
    "data = pd.date_range('2024-07-29', periods=8, freq='h')\n",
    "\n",
    "print(data)"
   ]
  },
  {
   "cell_type": "code",
   "execution_count": 22,
   "id": "42c12c68-1ac4-4d01-96f7-95c6411b2d4a",
   "metadata": {},
   "outputs": [
    {
     "name": "stdout",
     "output_type": "stream",
     "text": [
      "DatetimeIndex(['2024-07-31', '2024-08-31', '2024-09-30', '2024-10-31',\n",
      "               '2024-11-30', '2024-12-31', '2025-01-31', '2025-02-28'],\n",
      "              dtype='datetime64[ns]', freq='ME')\n"
     ]
    }
   ],
   "source": [
    "# عدد من الاشهر \n",
    "\n",
    "data = pd.date_range('2024-07-31', periods=8, freq='ME')\n",
    "\n",
    "print(data)"
   ]
  },
  {
   "cell_type": "code",
   "execution_count": 23,
   "id": "98b37fef-7904-4cb1-8082-fa5e250d14ae",
   "metadata": {},
   "outputs": [
    {
     "name": "stdout",
     "output_type": "stream",
     "text": [
      "TimedeltaIndex(['0 days 00:00:00', '0 days 01:00:00', '0 days 02:00:00',\n",
      "                '0 days 03:00:00', '0 days 04:00:00', '0 days 05:00:00',\n",
      "                '0 days 06:00:00', '0 days 07:00:00', '0 days 08:00:00',\n",
      "                '0 days 09:00:00'],\n",
      "               dtype='timedelta64[ns]', freq='h')\n"
     ]
    }
   ],
   "source": [
    "# امشي عدد من الساعات \n",
    "\n",
    "data = pd.timedelta_range(0, periods=10, freq='h')\n",
    "\n",
    "print(data)"
   ]
  },
  {
   "cell_type": "code",
   "execution_count": 26,
   "id": "8ebc29db-8a34-4082-aa3c-9237c0b0a3f1",
   "metadata": {},
   "outputs": [
    {
     "name": "stdout",
     "output_type": "stream",
     "text": [
      "TimedeltaIndex(['0 days 00:00:00', '0 days 02:30:40', '0 days 05:01:20',\n",
      "                '0 days 07:32:00', '0 days 10:02:40', '0 days 12:33:20',\n",
      "                '0 days 15:04:00', '0 days 17:34:40', '0 days 20:05:20'],\n",
      "               dtype='timedelta64[ns]', freq='9040s')\n"
     ]
    }
   ],
   "source": [
    "# خطوات بالساعه والدقيقه والثانيه \n",
    "\n",
    "data = pd.timedelta_range(0, periods=9, freq='2h30min40s')\n",
    "\n",
    "print(data)"
   ]
  },
  {
   "cell_type": "code",
   "execution_count": 28,
   "id": "66900afd-c06f-4458-b9a1-29eafbaf84e6",
   "metadata": {},
   "outputs": [
    {
     "name": "stdout",
     "output_type": "stream",
     "text": [
      "DatetimeIndex(['2024-07-29', '2024-07-30', '2024-07-31', '2024-08-01',\n",
      "               '2024-08-02', '2024-08-05', '2024-08-06'],\n",
      "              dtype='datetime64[ns]', freq='B')\n"
     ]
    }
   ],
   "source": [
    "# ايام العمل \n",
    "\n",
    "import pandas as pd\n",
    "from pandas.tseries.offsets import BDay\n",
    "\n",
    "data = pd.date_range('2024-07-29', periods=7, freq=BDay())\n",
    "\n",
    "print(data)"
   ]
  },
  {
   "cell_type": "markdown",
   "id": "647174c3-15d2-4923-a267-66ed8b999142",
   "metadata": {},
   "source": [
    "<h1 style=\"text-align: center; font-size: 38px\">  Files - 11 بانداس </h1>  <br> "
   ]
  },
  {
   "cell_type": "code",
   "execution_count": 37,
   "id": "b69cc1eb-cf0a-4e40-954a-d056a093e22a",
   "metadata": {},
   "outputs": [
    {
     "name": "stdout",
     "output_type": "stream",
     "text": [
      "  Id SepalLengthCm SepalWidthCm PetalLengthCm PetalWidthCm  Species\n",
      "0                      1 5.1 3.5 1.4 0.2 Iris-setosa               \n",
      "1                        2 4.9 3 1.4 0.2 Iris-setosa               \n",
      "2                      3 4.7 3.2 1.3 0.2 Iris-setosa               \n",
      "3                      4 4.6 3.1 1.5 0.2 Iris-setosa               \n",
      "4                        5 5 3.6 1.4 0.2 Iris-setosa               \n"
     ]
    }
   ],
   "source": [
    "# قراءة ملفات csv \n",
    "# قراءة اول صفوف\n",
    "import pandas as pd\n",
    "\n",
    "df = pd.read_csv(r\"D:\\filetraning\\1.csv.txt\")\n",
    "print(df.head())\n"
   ]
  },
  {
   "cell_type": "code",
   "execution_count": 38,
   "id": "c3f33778-4adf-422e-a244-a97064e41f16",
   "metadata": {},
   "outputs": [
    {
     "name": "stdout",
     "output_type": "stream",
     "text": [
      "   Id SepalLengthCm SepalWidthCm PetalLengthCm PetalWidthCm  Species\n",
      "0                       1 5.1 3.5 1.4 0.2 Iris-setosa               \n",
      "1                         2 4.9 3 1.4 0.2 Iris-setosa               \n",
      "2                       3 4.7 3.2 1.3 0.2 Iris-setosa               \n",
      "3                       4 4.6 3.1 1.5 0.2 Iris-setosa               \n",
      "4                         5 5 3.6 1.4 0.2 Iris-setosa               \n",
      "5                       6 5.4 3.9 1.7 0.4 Iris-setosa               \n",
      "6                       7 4.6 3.4 1.4 0.3 Iris-setosa               \n",
      "7                         8 5 3.4 1.5 0.2 Iris-setosa               \n",
      "8                       9 4.4 2.9 1.4 0.2 Iris-setosa               \n",
      "9                      10 4.9 3.1 1.5 0.1 Iris-setosa               \n",
      "10                     11 5.4 3.7 1.5 0.2 Iris-setosa               \n",
      "11                     12 4.8 3.4 1.6 0.2 Iris-setosa               \n",
      "12                       13 4.8 3 1.4 0.1 Iris-setosa               \n",
      "13                       14 4.3 3 1.1 0.1 Iris-setosa               \n",
      "14                       15 5.8 4 1.2 0.2 Iris-setosa               \n",
      "15                     16 5.7 4.4 1.5 0.4 Iris-setosa               \n",
      "16                     17 5.4 3.9 1.3 0.4 Iris-setosa               \n",
      "17                     18 5.1 3.5 1.4 0.3 Iris-setosa               \n",
      "18                     19 5.7 3.8 1.7 0.3 Iris-setosa               \n",
      "19                     20 5.1 3.8 1.5 0.3 Iris-setosa               \n"
     ]
    }
   ],
   "source": [
    "# أول 20 صف \n",
    "\n",
    "df = pd.read_csv(r\"D:\\filetraning\\1.csv.txt\")\n",
    "print(df.head(20))"
   ]
  },
  {
   "cell_type": "code",
   "execution_count": 42,
   "id": "454c50d7-9ae1-49bf-8c2d-f9807ee0449f",
   "metadata": {},
   "outputs": [
    {
     "ename": "ValueError",
     "evalue": "Index PetalLengthCm invalid",
     "output_type": "error",
     "traceback": [
      "\u001b[1;31m---------------------------------------------------------------------------\u001b[0m",
      "\u001b[1;31mValueError\u001b[0m                                Traceback (most recent call last)",
      "Cell \u001b[1;32mIn[42], line 3\u001b[0m\n\u001b[0;32m      1\u001b[0m \u001b[38;5;66;03m# تحديد دليل \u001b[39;00m\n\u001b[1;32m----> 3\u001b[0m df \u001b[38;5;241m=\u001b[39m pd\u001b[38;5;241m.\u001b[39mread_csv(\u001b[38;5;124mr\u001b[39m\u001b[38;5;124m\"\u001b[39m\u001b[38;5;124mD:\u001b[39m\u001b[38;5;124m\\\u001b[39m\u001b[38;5;124mfiletraning\u001b[39m\u001b[38;5;124m\\\u001b[39m\u001b[38;5;124m1.csv.txt\u001b[39m\u001b[38;5;124m\"\u001b[39m, index_col\u001b[38;5;241m=\u001b[39m\u001b[38;5;124m\"\u001b[39m\u001b[38;5;124mPetalLengthCm\u001b[39m\u001b[38;5;124m\"\u001b[39m)\n\u001b[0;32m      4\u001b[0m \u001b[38;5;28mprint\u001b[39m(df)\n",
      "File \u001b[1;32m~\\anaconda3\\Lib\\site-packages\\pandas\\io\\parsers\\readers.py:1026\u001b[0m, in \u001b[0;36mread_csv\u001b[1;34m(filepath_or_buffer, sep, delimiter, header, names, index_col, usecols, dtype, engine, converters, true_values, false_values, skipinitialspace, skiprows, skipfooter, nrows, na_values, keep_default_na, na_filter, verbose, skip_blank_lines, parse_dates, infer_datetime_format, keep_date_col, date_parser, date_format, dayfirst, cache_dates, iterator, chunksize, compression, thousands, decimal, lineterminator, quotechar, quoting, doublequote, escapechar, comment, encoding, encoding_errors, dialect, on_bad_lines, delim_whitespace, low_memory, memory_map, float_precision, storage_options, dtype_backend)\u001b[0m\n\u001b[0;32m   1013\u001b[0m kwds_defaults \u001b[38;5;241m=\u001b[39m _refine_defaults_read(\n\u001b[0;32m   1014\u001b[0m     dialect,\n\u001b[0;32m   1015\u001b[0m     delimiter,\n\u001b[1;32m   (...)\u001b[0m\n\u001b[0;32m   1022\u001b[0m     dtype_backend\u001b[38;5;241m=\u001b[39mdtype_backend,\n\u001b[0;32m   1023\u001b[0m )\n\u001b[0;32m   1024\u001b[0m kwds\u001b[38;5;241m.\u001b[39mupdate(kwds_defaults)\n\u001b[1;32m-> 1026\u001b[0m \u001b[38;5;28;01mreturn\u001b[39;00m _read(filepath_or_buffer, kwds)\n",
      "File \u001b[1;32m~\\anaconda3\\Lib\\site-packages\\pandas\\io\\parsers\\readers.py:626\u001b[0m, in \u001b[0;36m_read\u001b[1;34m(filepath_or_buffer, kwds)\u001b[0m\n\u001b[0;32m    623\u001b[0m     \u001b[38;5;28;01mreturn\u001b[39;00m parser\n\u001b[0;32m    625\u001b[0m \u001b[38;5;28;01mwith\u001b[39;00m parser:\n\u001b[1;32m--> 626\u001b[0m     \u001b[38;5;28;01mreturn\u001b[39;00m parser\u001b[38;5;241m.\u001b[39mread(nrows)\n",
      "File \u001b[1;32m~\\anaconda3\\Lib\\site-packages\\pandas\\io\\parsers\\readers.py:1923\u001b[0m, in \u001b[0;36mTextFileReader.read\u001b[1;34m(self, nrows)\u001b[0m\n\u001b[0;32m   1916\u001b[0m nrows \u001b[38;5;241m=\u001b[39m validate_integer(\u001b[38;5;124m\"\u001b[39m\u001b[38;5;124mnrows\u001b[39m\u001b[38;5;124m\"\u001b[39m, nrows)\n\u001b[0;32m   1917\u001b[0m \u001b[38;5;28;01mtry\u001b[39;00m:\n\u001b[0;32m   1918\u001b[0m     \u001b[38;5;66;03m# error: \"ParserBase\" has no attribute \"read\"\u001b[39;00m\n\u001b[0;32m   1919\u001b[0m     (\n\u001b[0;32m   1920\u001b[0m         index,\n\u001b[0;32m   1921\u001b[0m         columns,\n\u001b[0;32m   1922\u001b[0m         col_dict,\n\u001b[1;32m-> 1923\u001b[0m     ) \u001b[38;5;241m=\u001b[39m \u001b[38;5;28mself\u001b[39m\u001b[38;5;241m.\u001b[39m_engine\u001b[38;5;241m.\u001b[39mread(  \u001b[38;5;66;03m# type: ignore[attr-defined]\u001b[39;00m\n\u001b[0;32m   1924\u001b[0m         nrows\n\u001b[0;32m   1925\u001b[0m     )\n\u001b[0;32m   1926\u001b[0m \u001b[38;5;28;01mexcept\u001b[39;00m \u001b[38;5;167;01mException\u001b[39;00m:\n\u001b[0;32m   1927\u001b[0m     \u001b[38;5;28mself\u001b[39m\u001b[38;5;241m.\u001b[39mclose()\n",
      "File \u001b[1;32m~\\anaconda3\\Lib\\site-packages\\pandas\\io\\parsers\\c_parser_wrapper.py:333\u001b[0m, in \u001b[0;36mCParserWrapper.read\u001b[1;34m(self, nrows)\u001b[0m\n\u001b[0;32m    330\u001b[0m     data \u001b[38;5;241m=\u001b[39m {k: v \u001b[38;5;28;01mfor\u001b[39;00m k, (i, v) \u001b[38;5;129;01min\u001b[39;00m \u001b[38;5;28mzip\u001b[39m(names, data_tups)}\n\u001b[0;32m    332\u001b[0m     names, date_data \u001b[38;5;241m=\u001b[39m \u001b[38;5;28mself\u001b[39m\u001b[38;5;241m.\u001b[39m_do_date_conversions(names, data)\n\u001b[1;32m--> 333\u001b[0m     index, column_names \u001b[38;5;241m=\u001b[39m \u001b[38;5;28mself\u001b[39m\u001b[38;5;241m.\u001b[39m_make_index(date_data, alldata, names)\n\u001b[0;32m    335\u001b[0m \u001b[38;5;28;01mreturn\u001b[39;00m index, column_names, date_data\n",
      "File \u001b[1;32m~\\anaconda3\\Lib\\site-packages\\pandas\\io\\parsers\\base_parser.py:371\u001b[0m, in \u001b[0;36mParserBase._make_index\u001b[1;34m(self, data, alldata, columns, indexnamerow)\u001b[0m\n\u001b[0;32m    368\u001b[0m     index \u001b[38;5;241m=\u001b[39m \u001b[38;5;28;01mNone\u001b[39;00m\n\u001b[0;32m    370\u001b[0m \u001b[38;5;28;01melif\u001b[39;00m \u001b[38;5;129;01mnot\u001b[39;00m \u001b[38;5;28mself\u001b[39m\u001b[38;5;241m.\u001b[39m_has_complex_date_col:\n\u001b[1;32m--> 371\u001b[0m     simple_index \u001b[38;5;241m=\u001b[39m \u001b[38;5;28mself\u001b[39m\u001b[38;5;241m.\u001b[39m_get_simple_index(alldata, columns)\n\u001b[0;32m    372\u001b[0m     index \u001b[38;5;241m=\u001b[39m \u001b[38;5;28mself\u001b[39m\u001b[38;5;241m.\u001b[39m_agg_index(simple_index)\n\u001b[0;32m    373\u001b[0m \u001b[38;5;28;01melif\u001b[39;00m \u001b[38;5;28mself\u001b[39m\u001b[38;5;241m.\u001b[39m_has_complex_date_col:\n",
      "File \u001b[1;32m~\\anaconda3\\Lib\\site-packages\\pandas\\io\\parsers\\base_parser.py:403\u001b[0m, in \u001b[0;36mParserBase._get_simple_index\u001b[1;34m(self, data, columns)\u001b[0m\n\u001b[0;32m    401\u001b[0m index \u001b[38;5;241m=\u001b[39m []\n\u001b[0;32m    402\u001b[0m \u001b[38;5;28;01mfor\u001b[39;00m idx \u001b[38;5;129;01min\u001b[39;00m \u001b[38;5;28mself\u001b[39m\u001b[38;5;241m.\u001b[39mindex_col:\n\u001b[1;32m--> 403\u001b[0m     i \u001b[38;5;241m=\u001b[39m ix(idx)\n\u001b[0;32m    404\u001b[0m     to_remove\u001b[38;5;241m.\u001b[39mappend(i)\n\u001b[0;32m    405\u001b[0m     index\u001b[38;5;241m.\u001b[39mappend(data[i])\n",
      "File \u001b[1;32m~\\anaconda3\\Lib\\site-packages\\pandas\\io\\parsers\\base_parser.py:398\u001b[0m, in \u001b[0;36mParserBase._get_simple_index.<locals>.ix\u001b[1;34m(col)\u001b[0m\n\u001b[0;32m    396\u001b[0m \u001b[38;5;28;01mif\u001b[39;00m \u001b[38;5;129;01mnot\u001b[39;00m \u001b[38;5;28misinstance\u001b[39m(col, \u001b[38;5;28mstr\u001b[39m):\n\u001b[0;32m    397\u001b[0m     \u001b[38;5;28;01mreturn\u001b[39;00m col\n\u001b[1;32m--> 398\u001b[0m \u001b[38;5;28;01mraise\u001b[39;00m \u001b[38;5;167;01mValueError\u001b[39;00m(\u001b[38;5;124mf\u001b[39m\u001b[38;5;124m\"\u001b[39m\u001b[38;5;124mIndex \u001b[39m\u001b[38;5;132;01m{\u001b[39;00mcol\u001b[38;5;132;01m}\u001b[39;00m\u001b[38;5;124m invalid\u001b[39m\u001b[38;5;124m\"\u001b[39m)\n",
      "\u001b[1;31mValueError\u001b[0m: Index PetalLengthCm invalid"
     ]
    }
   ],
   "source": [
    "# تحديد دليل \n",
    "\n",
    "df = pd.read_csv(r\"D:\\filetraning\\1.csv.txt\", index_col=\"PetalLengthCm\")\n",
    "print(df)"
   ]
  },
  {
   "cell_type": "code",
   "execution_count": 43,
   "id": "2610ff32-e1d0-49ed-a944-1207832c9c45",
   "metadata": {},
   "outputs": [
    {
     "name": "stdout",
     "output_type": "stream",
     "text": [
      "   Math  Physics  Frecnh  Chemistry\n",
      "a     1        6      11         16\n",
      "b     2        7      12         17\n",
      "c     3        8      13         18\n",
      "d     4        9      14         19\n",
      "e     5       10      15         20\n"
     ]
    }
   ],
   "source": [
    "# حفظ البيانات في ملفات csv \n",
    "\n",
    "w = pd.Series({'a':1, 'b':2, 'c':3, 'd':4, 'e':5})\n",
    "x = pd.Series({'a':6, 'b':7, 'c':8, 'd':9, 'e':10})\n",
    "y = pd.Series({'a':11, 'b':12, 'c':13, 'd':14, 'e':15})\n",
    "z = pd.Series({'a':16, 'b':17, 'c':18, 'd':19, 'e':20})\n",
    "\n",
    "grades = pd.DataFrame({'Math':w, 'Physics':x, 'Frecnh':y, 'Chemistry':z})\n",
    "\n",
    "print(grades)\n",
    "grades.to_csv(r\"D:\\filetraning\\2.csv.txt\")"
   ]
  },
  {
   "cell_type": "code",
   "execution_count": 46,
   "id": "ca5eb2ba-24ad-4bcc-a4f0-2227c693172e",
   "metadata": {},
   "outputs": [
    {
     "name": "stdout",
     "output_type": "stream",
     "text": [
      "   Math  Physics  Frecnh  Chemistry\n",
      "a     1        6      11         16\n",
      "b     2        7      12         17\n",
      "c     3        8      13         18\n",
      "d     4        9      14         19\n",
      "e     5       10      15         20\n"
     ]
    }
   ],
   "source": [
    "# حفظ في ملف اكسيل \n",
    "\n",
    "w = pd.Series({'a':1, 'b':2, 'c':3, 'd':4, 'e':5})\n",
    "x = pd.Series({'a':6, 'b':7, 'c':8, 'd':9, 'e':10})\n",
    "y = pd.Series({'a':11, 'b':12, 'c':13, 'd':14, 'e':15})\n",
    "z = pd.Series({'a':16, 'b':17, 'c':18, 'd':19, 'e':20})\n",
    "\n",
    "grades = pd.DataFrame({'Math':w, 'Physics':x, 'Frecnh':y, 'Chemistry':z})\n",
    "\n",
    "print(grades)\n",
    "grades.to_excel(r\"D:\\filetraning\\1.xlsx\",sheet_name=\"Sheet 1\")\n"
   ]
  },
  {
   "cell_type": "code",
   "execution_count": 59,
   "id": "9099918b-3e06-4638-80d8-507caf6dd92a",
   "metadata": {},
   "outputs": [
    {
     "ename": "ImportError",
     "evalue": "Pandas requires version '3.1.0' or newer of 'openpyxl' (version '3.0.10' currently installed).",
     "output_type": "error",
     "traceback": [
      "\u001b[1;31m---------------------------------------------------------------------------\u001b[0m",
      "\u001b[1;31mImportError\u001b[0m                               Traceback (most recent call last)",
      "Cell \u001b[1;32mIn[59], line 5\u001b[0m\n\u001b[0;32m      2\u001b[0m \u001b[38;5;28;01mimport\u001b[39;00m \u001b[38;5;21;01mpandas\u001b[39;00m \u001b[38;5;28;01mas\u001b[39;00m \u001b[38;5;21;01mpd\u001b[39;00m\n\u001b[0;32m      4\u001b[0m grades1 \u001b[38;5;241m=\u001b[39m pd\u001b[38;5;241m.\u001b[39mread_csv(\u001b[38;5;124mr\u001b[39m\u001b[38;5;124m\"\u001b[39m\u001b[38;5;124mD:\u001b[39m\u001b[38;5;124m\\\u001b[39m\u001b[38;5;124mfiletraning\u001b[39m\u001b[38;5;124m\\\u001b[39m\u001b[38;5;124m2.csv.txt\u001b[39m\u001b[38;5;124m\"\u001b[39m)\n\u001b[1;32m----> 5\u001b[0m grades2 \u001b[38;5;241m=\u001b[39m pd\u001b[38;5;241m.\u001b[39mread_excel(\u001b[38;5;124mr\u001b[39m\u001b[38;5;124m\"\u001b[39m\u001b[38;5;124mD:\u001b[39m\u001b[38;5;124m\\\u001b[39m\u001b[38;5;124mfiletraning\u001b[39m\u001b[38;5;124m\\\u001b[39m\u001b[38;5;124m1.xlsx\u001b[39m\u001b[38;5;124m\"\u001b[39m)\n\u001b[0;32m      7\u001b[0m \u001b[38;5;28mprint\u001b[39m(grades1)\n\u001b[0;32m      8\u001b[0m \u001b[38;5;28mprint\u001b[39m(grades2)\n",
      "File \u001b[1;32m~\\anaconda3\\Lib\\site-packages\\pandas\\io\\excel\\_base.py:495\u001b[0m, in \u001b[0;36mread_excel\u001b[1;34m(io, sheet_name, header, names, index_col, usecols, dtype, engine, converters, true_values, false_values, skiprows, nrows, na_values, keep_default_na, na_filter, verbose, parse_dates, date_parser, date_format, thousands, decimal, comment, skipfooter, storage_options, dtype_backend, engine_kwargs)\u001b[0m\n\u001b[0;32m    493\u001b[0m \u001b[38;5;28;01mif\u001b[39;00m \u001b[38;5;129;01mnot\u001b[39;00m \u001b[38;5;28misinstance\u001b[39m(io, ExcelFile):\n\u001b[0;32m    494\u001b[0m     should_close \u001b[38;5;241m=\u001b[39m \u001b[38;5;28;01mTrue\u001b[39;00m\n\u001b[1;32m--> 495\u001b[0m     io \u001b[38;5;241m=\u001b[39m ExcelFile(\n\u001b[0;32m    496\u001b[0m         io,\n\u001b[0;32m    497\u001b[0m         storage_options\u001b[38;5;241m=\u001b[39mstorage_options,\n\u001b[0;32m    498\u001b[0m         engine\u001b[38;5;241m=\u001b[39mengine,\n\u001b[0;32m    499\u001b[0m         engine_kwargs\u001b[38;5;241m=\u001b[39mengine_kwargs,\n\u001b[0;32m    500\u001b[0m     )\n\u001b[0;32m    501\u001b[0m \u001b[38;5;28;01melif\u001b[39;00m engine \u001b[38;5;129;01mand\u001b[39;00m engine \u001b[38;5;241m!=\u001b[39m io\u001b[38;5;241m.\u001b[39mengine:\n\u001b[0;32m    502\u001b[0m     \u001b[38;5;28;01mraise\u001b[39;00m \u001b[38;5;167;01mValueError\u001b[39;00m(\n\u001b[0;32m    503\u001b[0m         \u001b[38;5;124m\"\u001b[39m\u001b[38;5;124mEngine should not be specified when passing \u001b[39m\u001b[38;5;124m\"\u001b[39m\n\u001b[0;32m    504\u001b[0m         \u001b[38;5;124m\"\u001b[39m\u001b[38;5;124man ExcelFile - ExcelFile already has the engine set\u001b[39m\u001b[38;5;124m\"\u001b[39m\n\u001b[0;32m    505\u001b[0m     )\n",
      "File \u001b[1;32m~\\anaconda3\\Lib\\site-packages\\pandas\\io\\excel\\_base.py:1567\u001b[0m, in \u001b[0;36mExcelFile.__init__\u001b[1;34m(self, path_or_buffer, engine, storage_options, engine_kwargs)\u001b[0m\n\u001b[0;32m   1564\u001b[0m \u001b[38;5;28mself\u001b[39m\u001b[38;5;241m.\u001b[39mengine \u001b[38;5;241m=\u001b[39m engine\n\u001b[0;32m   1565\u001b[0m \u001b[38;5;28mself\u001b[39m\u001b[38;5;241m.\u001b[39mstorage_options \u001b[38;5;241m=\u001b[39m storage_options\n\u001b[1;32m-> 1567\u001b[0m \u001b[38;5;28mself\u001b[39m\u001b[38;5;241m.\u001b[39m_reader \u001b[38;5;241m=\u001b[39m \u001b[38;5;28mself\u001b[39m\u001b[38;5;241m.\u001b[39m_engines[engine](\n\u001b[0;32m   1568\u001b[0m     \u001b[38;5;28mself\u001b[39m\u001b[38;5;241m.\u001b[39m_io,\n\u001b[0;32m   1569\u001b[0m     storage_options\u001b[38;5;241m=\u001b[39mstorage_options,\n\u001b[0;32m   1570\u001b[0m     engine_kwargs\u001b[38;5;241m=\u001b[39mengine_kwargs,\n\u001b[0;32m   1571\u001b[0m )\n",
      "File \u001b[1;32m~\\anaconda3\\Lib\\site-packages\\pandas\\io\\excel\\_openpyxl.py:552\u001b[0m, in \u001b[0;36mOpenpyxlReader.__init__\u001b[1;34m(self, filepath_or_buffer, storage_options, engine_kwargs)\u001b[0m\n\u001b[0;32m    534\u001b[0m \u001b[38;5;129m@doc\u001b[39m(storage_options\u001b[38;5;241m=\u001b[39m_shared_docs[\u001b[38;5;124m\"\u001b[39m\u001b[38;5;124mstorage_options\u001b[39m\u001b[38;5;124m\"\u001b[39m])\n\u001b[0;32m    535\u001b[0m \u001b[38;5;28;01mdef\u001b[39;00m \u001b[38;5;21m__init__\u001b[39m(\n\u001b[0;32m    536\u001b[0m     \u001b[38;5;28mself\u001b[39m,\n\u001b[1;32m   (...)\u001b[0m\n\u001b[0;32m    539\u001b[0m     engine_kwargs: \u001b[38;5;28mdict\u001b[39m \u001b[38;5;241m|\u001b[39m \u001b[38;5;28;01mNone\u001b[39;00m \u001b[38;5;241m=\u001b[39m \u001b[38;5;28;01mNone\u001b[39;00m,\n\u001b[0;32m    540\u001b[0m ) \u001b[38;5;241m-\u001b[39m\u001b[38;5;241m>\u001b[39m \u001b[38;5;28;01mNone\u001b[39;00m:\n\u001b[0;32m    541\u001b[0m \u001b[38;5;250m    \u001b[39m\u001b[38;5;124;03m\"\"\"\u001b[39;00m\n\u001b[0;32m    542\u001b[0m \u001b[38;5;124;03m    Reader using openpyxl engine.\u001b[39;00m\n\u001b[0;32m    543\u001b[0m \n\u001b[1;32m   (...)\u001b[0m\n\u001b[0;32m    550\u001b[0m \u001b[38;5;124;03m        Arbitrary keyword arguments passed to excel engine.\u001b[39;00m\n\u001b[0;32m    551\u001b[0m \u001b[38;5;124;03m    \"\"\"\u001b[39;00m\n\u001b[1;32m--> 552\u001b[0m     import_optional_dependency(\u001b[38;5;124m\"\u001b[39m\u001b[38;5;124mopenpyxl\u001b[39m\u001b[38;5;124m\"\u001b[39m)\n\u001b[0;32m    553\u001b[0m     \u001b[38;5;28msuper\u001b[39m()\u001b[38;5;241m.\u001b[39m\u001b[38;5;21m__init__\u001b[39m(\n\u001b[0;32m    554\u001b[0m         filepath_or_buffer,\n\u001b[0;32m    555\u001b[0m         storage_options\u001b[38;5;241m=\u001b[39mstorage_options,\n\u001b[0;32m    556\u001b[0m         engine_kwargs\u001b[38;5;241m=\u001b[39mengine_kwargs,\n\u001b[0;32m    557\u001b[0m     )\n",
      "File \u001b[1;32m~\\anaconda3\\Lib\\site-packages\\pandas\\compat\\_optional.py:164\u001b[0m, in \u001b[0;36mimport_optional_dependency\u001b[1;34m(name, extra, errors, min_version)\u001b[0m\n\u001b[0;32m    162\u001b[0m     \u001b[38;5;28;01mreturn\u001b[39;00m \u001b[38;5;28;01mNone\u001b[39;00m\n\u001b[0;32m    163\u001b[0m \u001b[38;5;28;01melif\u001b[39;00m errors \u001b[38;5;241m==\u001b[39m \u001b[38;5;124m\"\u001b[39m\u001b[38;5;124mraise\u001b[39m\u001b[38;5;124m\"\u001b[39m:\n\u001b[1;32m--> 164\u001b[0m     \u001b[38;5;28;01mraise\u001b[39;00m \u001b[38;5;167;01mImportError\u001b[39;00m(msg)\n\u001b[0;32m    165\u001b[0m \u001b[38;5;28;01melse\u001b[39;00m:\n\u001b[0;32m    166\u001b[0m     \u001b[38;5;28;01mreturn\u001b[39;00m \u001b[38;5;28;01mNone\u001b[39;00m\n",
      "\u001b[1;31mImportError\u001b[0m: Pandas requires version '3.1.0' or newer of 'openpyxl' (version '3.0.10' currently installed)."
     ]
    }
   ],
   "source": [
    "# قراءة من ملف اكسيل او csv \n",
    "import pandas as pd\n",
    "\n",
    "grades1 = pd.read_csv(r\"D:\\filetraning\\2.csv.txt\")\n",
    "grades2 = pd.read_excel(r\"D:\\filetraning\\1.xlsx\")\n",
    "\n",
    "print(grades1)\n",
    "print(grades2)"
   ]
  },
  {
   "cell_type": "code",
   "execution_count": 60,
   "id": "e3badd9d-b17a-4777-abaa-61145881ced0",
   "metadata": {},
   "outputs": [
    {
     "name": "stdout",
     "output_type": "stream",
     "text": [
      "     a     b        c       d          e\n",
      "0  NaN  Math  Physics  Frecnh  Chemistry\n",
      "1    a     1        6      11         16\n",
      "2    b     2        7      12         17\n",
      "3    c     3        8      13         18\n",
      "4    d     4        9      14         19\n",
      "5    e     5       10      15         20\n"
     ]
    }
   ],
   "source": [
    "# فتح ملف وقراءته \n",
    "\n",
    "from pandas import read_csv\n",
    "\n",
    "filename = r\"D:\\filetraning\\2.csv.txt\"\n",
    "\n",
    "names = ['a','b','c','d','e']\n",
    "\n",
    "data = read_csv(filename, names=names)\n",
    "\n",
    "print(data)"
   ]
  },
  {
   "cell_type": "code",
   "execution_count": null,
   "id": "7bad338c-e81d-419e-bab1-b2b2f2b6854d",
   "metadata": {},
   "outputs": [],
   "source": []
  },
  {
   "cell_type": "code",
   "execution_count": null,
   "id": "60bc28b1-4f5d-41fa-b407-f4c39dfdbcd3",
   "metadata": {},
   "outputs": [],
   "source": []
  },
  {
   "cell_type": "code",
   "execution_count": null,
   "id": "37c9d0a6-6fad-460b-ba4a-144944043f32",
   "metadata": {},
   "outputs": [],
   "source": []
  },
  {
   "cell_type": "code",
   "execution_count": null,
   "id": "a7644d47-c9bb-439e-a656-921f9775ec32",
   "metadata": {},
   "outputs": [],
   "source": []
  },
  {
   "cell_type": "code",
   "execution_count": null,
   "id": "9adb9824-5de6-4006-83b0-0b41cac7bfff",
   "metadata": {},
   "outputs": [],
   "source": []
  }
 ],
 "metadata": {
  "kernelspec": {
   "display_name": "Python 3 (ipykernel)",
   "language": "python",
   "name": "python3"
  },
  "language_info": {
   "codemirror_mode": {
    "name": "ipython",
    "version": 3
   },
   "file_extension": ".py",
   "mimetype": "text/x-python",
   "name": "python",
   "nbconvert_exporter": "python",
   "pygments_lexer": "ipython3",
   "version": "3.11.7"
  }
 },
 "nbformat": 4,
 "nbformat_minor": 5
}
