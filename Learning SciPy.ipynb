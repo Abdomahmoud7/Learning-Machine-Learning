{
 "cells": [
  {
   "cell_type": "markdown",
   "id": "47adc6fd-0533-42ac-972d-0d4d6b11fde8",
   "metadata": {},
   "source": [
    "<h1 style=\"text-align: center; font-size: 38px\">  SciPy - 1  - مكتبة سايباي </h1>  <br> "
   ]
  },
  {
   "cell_type": "code",
   "execution_count": 1,
   "id": "d0bdc378-9fcf-4488-8526-da9c4f98d99c",
   "metadata": {},
   "outputs": [
    {
     "name": "stdout",
     "output_type": "stream",
     "text": [
      "(-1.3061484200406244, -7.94582288025181, 0, 11)\n"
     ]
    }
   ],
   "source": [
    "# أمر fminbound \n",
    "\n",
    "import numpy as np\n",
    "import scipy as sc\n",
    "\n",
    "def f(x):\n",
    "    return x**2 + 10*np.sin(x)\n",
    "\n",
    "\n",
    "a = sc.optimize.fminbound(f,\n",
    "                         x1=-10,\n",
    "                         x2=10,\n",
    "                         xtol=0.01,\n",
    "                         full_output=True,\n",
    "                         disp=1)\n",
    "\n",
    "print(a)"
   ]
  },
  {
   "cell_type": "code",
   "execution_count": 2,
   "id": "ae3637d2-d0cf-4f31-af78-24c4d30e0da1",
   "metadata": {},
   "outputs": [
    {
     "name": "stdout",
     "output_type": "stream",
     "text": [
      "\n",
      "Optimization terminated successfully;\n",
      "The returned value satisfies the termination criteria\n",
      "(using xtol =  0.01 )\n",
      "(-1.3061484200406244, -7.94582288025181, 0, 11)\n"
     ]
    }
   ],
   "source": [
    "# disb = 2 نفس الامر \n",
    "\n",
    "def f(x):\n",
    "    return x**2 + 10*np.sin(x)\n",
    "\n",
    "\n",
    "a = sc.optimize.fminbound(f,\n",
    "                         x1=-10,\n",
    "                         x2=10,\n",
    "                         xtol=0.01,\n",
    "                         full_output=True,\n",
    "                         disp=2)\n",
    "\n",
    "print(a)"
   ]
  },
  {
   "cell_type": "code",
   "execution_count": 3,
   "id": "aa53a490-d33b-4978-b5a6-7f9578c66af3",
   "metadata": {},
   "outputs": [
    {
     "name": "stdout",
     "output_type": "stream",
     "text": [
      " \n",
      " Func-count     x          f(x)          Procedure\n",
      "    1       -2.36068     -1.46647        initial\n",
      "    2        2.36068      12.6121        golden\n",
      "    3       -5.27864      36.3032        golden\n",
      "    4      -0.715181     -6.04606        parabolic\n",
      "    5      -0.795481     -6.50921        parabolic\n",
      "    6       -1.28322     -7.94269        parabolic\n",
      "    7       -1.69477     -7.05101        golden\n",
      "    8       -1.29818     -7.94543        parabolic\n",
      "    9       -1.30615     -7.94582        parabolic\n",
      "   10       -1.30948     -7.94577        parabolic\n",
      "   11       -1.30282     -7.94575        parabolic\n",
      "\n",
      "Optimization terminated successfully;\n",
      "The returned value satisfies the termination criteria\n",
      "(using xtol =  0.01 )\n",
      "(-1.3061484200406244, -7.94582288025181, 0, 11)\n"
     ]
    }
   ],
   "source": [
    "# disb = 3  \n",
    "\n",
    "def f(x):\n",
    "    return x**2 + 10*np.sin(x)\n",
    "\n",
    "\n",
    "a = sc.optimize.fminbound(f,\n",
    "                         x1=-10,\n",
    "                         x2=10,\n",
    "                         xtol=0.01,\n",
    "                         full_output=True,\n",
    "                         disp=3)\n",
    "\n",
    "print(a)"
   ]
  },
  {
   "cell_type": "code",
   "execution_count": 5,
   "id": "c8efa87f-8c1f-4af9-9640-5c032baf8fc5",
   "metadata": {},
   "outputs": [
    {
     "name": "stdout",
     "output_type": "stream",
     "text": [
      "-3.999996435239639\n",
      "-1.1102230246251565e-16\n",
      "-3.999996435239639\n",
      "2.0\n",
      "0.868518564878511\n",
      "-2.1499620000850844e-06\n"
     ]
    }
   ],
   "source": [
    "# أمر fminbound لايجاد قيمة الدنيا \n",
    "from scipy import optimize\n",
    "\n",
    "def a(x):\n",
    "    return (x)\n",
    "def b(x):\n",
    "    return (x**2)\n",
    "def c(x):\n",
    "    return (x**3)\n",
    "def d(x):\n",
    "    return (x**2 - 4*x + 1)\n",
    "def e(x):\n",
    "    return (x**3 + x**2 - 4*x - 3)\n",
    "def f(x):\n",
    "    return (1/x)\n",
    "\n",
    "amin = optimize.fminbound(a, -4, 4)\n",
    "print(amin)\n",
    "\n",
    "bmin = optimize.fminbound(b, -4, 4)\n",
    "print(bmin)\n",
    "\n",
    "cmin = optimize.fminbound(c, -4, 4)\n",
    "print(cmin)\n",
    "\n",
    "dmin = optimize.fminbound(d, -4, 4)\n",
    "print(dmin)\n",
    "\n",
    "emin = optimize.fminbound(e, -4, 4)\n",
    "print(emin)\n",
    "\n",
    "fmin = optimize.fminbound(f, -4, 4)\n",
    "print(fmin)\n"
   ]
  },
  {
   "cell_type": "markdown",
   "id": "9f56d2aa-1530-4c71-852f-aeaf7bc4d269",
   "metadata": {},
   "source": [
    "<h1 style=\"text-align: center; font-size: 38px\">  SciPy - 2  - مكتبة سايباي </h1>  <br>"
   ]
  },
  {
   "cell_type": "code",
   "execution_count": 6,
   "id": "9eb0f76a-0a3b-4f6b-9a67-c60245f70816",
   "metadata": {},
   "outputs": [
    {
     "data": {
      "image/png": "[encoded data removed]",
      "text/plain": [
       "<Figure size 640x480 with 1 Axes>"
      ]
     },
     "metadata": {},
     "output_type": "display_data"
    },
    {
     "name": "stdout",
     "output_type": "stream",
     "text": [
      "         Current function value: 1239.195121\n",
      "         Iterations: 2\n",
      "         Function evaluations: 8\n",
      "         Gradient evaluations: 4\n",
      "(array([35.29788524]), [array([50]), array([44.95]), array([35.29788524])])\n"
     ]
    },
    {
     "name": "stderr",
     "output_type": "stream",
     "text": [
      "C:\\Users\\15-6-2023\\anaconda3\\Lib\\site-packages\\scipy\\optimize\\_optimize.py:1292: OptimizeWarning: Maximum number of iterations has been exceeded.\n",
      "  res = _minimize_bfgs(f, x0, args, fprime, callback=callback, **opts)\n"
     ]
    }
   ],
   "source": [
    "# أمر fmin_bfgs لعمل ال GD \n",
    "\n",
    "import matplotlib.pyplot as plt\n",
    "import numpy as np\n",
    "import scipy as sc\n",
    "\n",
    "def f(x):\n",
    "    return x**2 + 10*np.sin(x)\n",
    "\n",
    "x = np.arange(-10, 10, 0.1)\n",
    "plt.plot(x, f(x))\n",
    "plt.show()\n",
    "\n",
    "a = sc.optimize.fmin_bfgs(f,\n",
    "                         x0= 50,\n",
    "                         epsilon=10,\n",
    "                         disp=1,\n",
    "                         retall=1,\n",
    "                         maxiter=2)\n",
    "\n",
    "print(a)"
   ]
  },
  {
   "cell_type": "code",
   "execution_count": 7,
   "id": "04dd7ae8-8580-47a6-b1d5-0bac52ae3217",
   "metadata": {},
   "outputs": [
    {
     "data": {
      "image/png": "[encoded data removed]",
      "text/plain": [
       "<Figure size 640x480 with 1 Axes>"
      ]
     },
     "metadata": {},
     "output_type": "display_data"
    },
    {
     "name": "stdout",
     "output_type": "stream",
     "text": [
      "         Current function value: -7.931319\n",
      "         Iterations: 7\n",
      "         Function evaluations: 86\n",
      "         Gradient evaluations: 37\n",
      "(array([-1.3562454]), [array([50]), array([44.95]), array([35.01154003]), array([17.00942323]), array([-2.5328942]), array([-1.21948726]), array([-1.36193066]), array([-1.3562454])])\n"
     ]
    },
    {
     "name": "stderr",
     "output_type": "stream",
     "text": [
      "C:\\Users\\15-6-2023\\anaconda3\\Lib\\site-packages\\scipy\\optimize\\_optimize.py:1292: OptimizeWarning: Desired error not necessarily achieved due to precision loss.\n",
      "  res = _minimize_bfgs(f, x0, args, fprime, callback=callback, **opts)\n"
     ]
    }
   ],
   "source": [
    "# قيم مختلفه \n",
    "\n",
    "def f(x):\n",
    "    return x**2 + 10*np.sin(x)\n",
    "\n",
    "x = np.arange(-10, 10, 0.1)\n",
    "plt.plot(x, f(x))\n",
    "plt.show()\n",
    "\n",
    "a = sc.optimize.fmin_bfgs(f,\n",
    "                         x0= 50,\n",
    "                         epsilon=0.1,\n",
    "                         disp=1,\n",
    "                         retall=1,\n",
    "                         maxiter=20)\n",
    "\n",
    "print(a)"
   ]
  },
  {
   "cell_type": "code",
   "execution_count": 8,
   "id": "294c0c3a-daf1-4645-be56-b3f424a3025a",
   "metadata": {},
   "outputs": [
    {
     "name": "stdout",
     "output_type": "stream",
     "text": [
      "[5.]\n"
     ]
    }
   ],
   "source": [
    "# أمر fsolve لحل المعادلات يأتي بالجذر الاكبر فقط \n",
    "\n",
    "def f(x):\n",
    "    return x**2 - 2*x -15\n",
    "\n",
    "a = sc.optimize.fsolve(f,x0 = 10, full_output=False)\n",
    "\n",
    "print(a)"
   ]
  },
  {
   "cell_type": "code",
   "execution_count": 9,
   "id": "9272a60e-e01d-401a-b612-d2c769da26fe",
   "metadata": {},
   "outputs": [
    {
     "name": "stdout",
     "output_type": "stream",
     "text": [
      "(array([5.]), {'nfev': 9, 'fjac': array([[-1.]]), 'r': array([-8.00003226]), 'qtf': array([-1.23520701e-07]), 'fvec': array([4.97379915e-13])}, 1, 'The solution converged.')\n"
     ]
    }
   ],
   "source": [
    "# لو تم عمل القيمه ب ترو يأتي بالتفاصيل \n",
    "\n",
    "def f(x):\n",
    "    return x**2 - 2*x -15\n",
    "\n",
    "a = sc.optimize.fsolve(f,x0 = 10, full_output=True)\n",
    "\n",
    "print(a)"
   ]
  }
 ],
 "metadata": {
  "kernelspec": {
   "display_name": "Python 3 (ipykernel)",
   "language": "python",
   "name": "python3"
  },
  "language_info": {
   "codemirror_mode": {
    "name": "ipython",
    "version": 3
   },
   "file_extension": ".py",
   "mimetype": "text/x-python",
   "name": "python",
   "nbconvert_exporter": "python",
   "pygments_lexer": "ipython3",
   "version": "3.11.7"
  }
 },
 "nbformat": 4,
 "nbformat_minor": 5
}
