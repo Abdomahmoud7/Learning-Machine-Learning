{
 "cells": [
  {
   "cell_type": "markdown",
   "id": "75c1567f-5266-4868-af5b-ad7d9d19be1e",
   "metadata": {},
   "source": [
    "<h1 style=\"text-align: center; font-size: 38px\">  Python Examples  - 1 </h1>  <br>"
   ]
  },
  {
   "cell_type": "code",
   "execution_count": 1,
   "id": "5299bad4-b125-41ef-ad56-f58fb058e734",
   "metadata": {},
   "outputs": [
    {
     "name": "stdout",
     "output_type": "stream",
     "text": [
      "Matrix : [[1 2 3]\n",
      " [3 5 6]]\n",
      "Matrix Dimension is : (2, 3)\n",
      "First row: [1 2 3]\n",
      "Last row: [3 5 6]\n",
      "First row third column: 3\n",
      "Third column: [3 6]\n"
     ]
    }
   ],
   "source": [
    "import numpy as np\n",
    "\n",
    "mylist = [[1,2,3],[3,5,6]]\n",
    "myarray = np.array(mylist)\n",
    "\n",
    "print((\"Matrix : %s\") % str(myarray))\n",
    "print((\"Matrix Dimension is : %s\") % str(myarray.shape))\n",
    "print((\"First row: %s\") % myarray[0])\n",
    "print((\"Last row: %s\") % myarray[-1])\n",
    "print((\"First row third column: %s\") % myarray[0, 2])\n",
    "print((\"Third column: %s\") % myarray[:, 2])"
   ]
  },
  {
   "cell_type": "code",
   "execution_count": 2,
   "id": "6c0e0a15-254c-4315-a018-dd26baa7f59a",
   "metadata": {},
   "outputs": [
    {
     "name": "stdout",
     "output_type": "stream",
     "text": [
      "Aug: 186.1 hrs\n",
      "Jul: 176.7 hrs\n",
      "Jun: 171.4 hrs\n",
      "May: 170.9 hrs\n",
      "Apr: 148.3 hrs\n",
      "Sep: 133.9 hrs\n",
      "Oct: 105.4 hrs\n",
      "Mar: 101.7 hrs\n",
      "Feb:  65.4 hrs\n",
      "Nov:  59.6 hrs\n",
      "Dec:  45.8 hrs\n",
      "Jan:  44.7 hrs\n"
     ]
    }
   ],
   "source": [
    "months = ['Jan', 'Feb', 'Mar', 'Apr',\n",
    "         'May', 'Jun', 'Jul', 'Aug',\n",
    "         'Sep', 'Oct', 'Nov', 'Dec']\n",
    "\n",
    "sun = [44.7, 65.4, 101.7, 148.3,\n",
    "      170.9, 171.4, 176.7, 186.1,\n",
    "      133.9, 105.4, 59.6, 45.8]\n",
    "\n",
    "for s, m in sorted(zip(sun, months), reverse=True):\n",
    "    print(f\"{m}: {s :5.1f} hrs\")\n"
   ]
  },
  {
   "cell_type": "code",
   "execution_count": 3,
   "id": "3513276b-7641-4f5c-a763-55c30ffee7f8",
   "metadata": {},
   "outputs": [
    {
     "name": "stdout",
     "output_type": "stream",
     "text": [
      "['fizzbuzz', 1, 2, 'fizz', 4, 'buzz', 'fizz', 7, 8, 'fizz', 'buzz', 11, 'fizz', 13, 14, 'fizzbuzz', 16, 17, 'fizz', 19, 'buzz']\n"
     ]
    }
   ],
   "source": [
    "FB = []\n",
    "\n",
    "for t in range(21):\n",
    "    if t % 5 == 0 and t % 3 == 0:\n",
    "        FB.append('fizzbuzz')\n",
    "    elif t % 3 == 0 and t % 5 != 0:\n",
    "        FB.append('fizz')\n",
    "    elif t % 5 == 0 and t % 3 != 0:\n",
    "        FB.append('buzz')\n",
    "    else:\n",
    "        FB.append(t)\n",
    "\n",
    "print(FB)"
   ]
  },
  {
   "cell_type": "markdown",
   "id": "9c2f56ba-49f3-479a-8947-7b2f44b38833",
   "metadata": {},
   "source": [
    "<h1 style=\"text-align: center; font-size: 38px\">  Python Examples  - 2 </h1>  <br>"
   ]
  },
  {
   "cell_type": "code",
   "execution_count": 4,
   "id": "9cd7e43f-94da-4dd0-97ed-d04b20f8c454",
   "metadata": {},
   "outputs": [
    {
     "name": "stdout",
     "output_type": "stream",
     "text": [
      "pi = 3.1415926535714034\n",
      "error = 1.8389734179891093e-11\n"
     ]
    }
   ],
   "source": [
    "import math\n",
    "\n",
    "pi = 0\n",
    "\n",
    "for k in range(20):\n",
    "    pi += pow(-3, -k) / (2*k+1)\n",
    "\n",
    "pi *= math.sqrt(12)\n",
    "\n",
    "print(f\"pi = {pi}\")\n",
    "\n",
    "print(f\"error = {abs(pi - math.pi)}\")"
   ]
  }
 ],
 "metadata": {
  "kernelspec": {
   "display_name": "Python 3 (ipykernel)",
   "language": "python",
   "name": "python3"
  },
  "language_info": {
   "codemirror_mode": {
    "name": "ipython",
    "version": 3
   },
   "file_extension": ".py",
   "mimetype": "text/x-python",
   "name": "python",
   "nbconvert_exporter": "python",
   "pygments_lexer": "ipython3",
   "version": "3.11.7"
  }
 },
 "nbformat": 4,
 "nbformat_minor": 5
}
