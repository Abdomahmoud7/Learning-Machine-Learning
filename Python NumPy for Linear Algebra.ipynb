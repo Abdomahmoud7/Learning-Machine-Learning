{
 "cells": [
  {
   "cell_type": "markdown",
   "id": "922bd0ec-e3d8-4df5-8f69-df2e8f1d8ba1",
   "metadata": {},
   "source": [
    "<h1 style=\"text-align: center; font-size: 38px\">  Python NumPy for Linear Algebra </h1>  <br>\r\n"
   ]
  },
  {
   "cell_type": "code",
   "execution_count": 1,
   "id": "091cdfe9-e553-49ee-bf31-56e7915cd5cd",
   "metadata": {},
   "outputs": [],
   "source": [
    "import numpy as np"
   ]
  },
  {
   "cell_type": "code",
   "execution_count": 3,
   "id": "55eb878c-f1e5-410e-a4e9-3cc9d5c83182",
   "metadata": {},
   "outputs": [],
   "source": [
    "lst1 = [1,2,3]"
   ]
  },
  {
   "cell_type": "code",
   "execution_count": 4,
   "id": "1a6cb106-5845-4e61-9160-9b05735c5702",
   "metadata": {},
   "outputs": [],
   "source": [
    "v1 = np.array(lst1)"
   ]
  },
  {
   "cell_type": "code",
   "execution_count": 5,
   "id": "db5c1cd5-13cb-4cb1-8c12-f0a6202cfce6",
   "metadata": {},
   "outputs": [],
   "source": [
    "v2 = np.array([2,5,7])"
   ]
  },
  {
   "cell_type": "code",
   "execution_count": 6,
   "id": "71968d2d-ca8c-4bab-942c-5398feaa3966",
   "metadata": {},
   "outputs": [
    {
     "data": {
      "text/plain": [
       "(3,)"
      ]
     },
     "execution_count": 6,
     "metadata": {},
     "output_type": "execute_result"
    }
   ],
   "source": [
    "v1.shape"
   ]
  },
  {
   "cell_type": "code",
   "execution_count": 7,
   "id": "244ec088-c050-4d66-a622-51211d90d674",
   "metadata": {},
   "outputs": [
    {
     "data": {
      "text/plain": [
       "(3,)"
      ]
     },
     "execution_count": 7,
     "metadata": {},
     "output_type": "execute_result"
    }
   ],
   "source": [
    "v2.shape"
   ]
  },
  {
   "cell_type": "code",
   "execution_count": 8,
   "id": "00c8e2ba-a08e-49a6-85a2-bb1490f15264",
   "metadata": {},
   "outputs": [
    {
     "data": {
      "text/plain": [
       "33"
      ]
     },
     "execution_count": 8,
     "metadata": {},
     "output_type": "execute_result"
    }
   ],
   "source": [
    "v1@v2"
   ]
  },
  {
   "cell_type": "code",
   "execution_count": 9,
   "id": "47e8510f-3993-41e0-a2de-753d342869f4",
   "metadata": {},
   "outputs": [
    {
     "data": {
      "text/plain": [
       "33"
      ]
     },
     "execution_count": 9,
     "metadata": {},
     "output_type": "execute_result"
    }
   ],
   "source": [
    "v1.dot(v2)"
   ]
  },
  {
   "cell_type": "code",
   "execution_count": 10,
   "id": "401c4ea4-4469-4062-860e-8f935c167ec6",
   "metadata": {},
   "outputs": [
    {
     "data": {
      "text/plain": [
       "33"
      ]
     },
     "execution_count": 10,
     "metadata": {},
     "output_type": "execute_result"
    }
   ],
   "source": [
    "np.dot(v1,v2)"
   ]
  },
  {
   "cell_type": "code",
   "execution_count": 11,
   "id": "3a4d37d3-9b0d-4061-a522-3180e9e1df9e",
   "metadata": {},
   "outputs": [
    {
     "data": {
      "text/plain": [
       "3.7416573867739413"
      ]
     },
     "execution_count": 11,
     "metadata": {},
     "output_type": "execute_result"
    }
   ],
   "source": [
    "np.linalg.norm(v1)"
   ]
  },
  {
   "cell_type": "code",
   "execution_count": 13,
   "id": "8e424ef0-d0ef-4b0c-a609-89a8c2854640",
   "metadata": {},
   "outputs": [
    {
     "data": {
      "text/plain": [
       "6.0"
      ]
     },
     "execution_count": 13,
     "metadata": {},
     "output_type": "execute_result"
    }
   ],
   "source": [
    "np.linalg.norm(v1, 1)"
   ]
  },
  {
   "cell_type": "code",
   "execution_count": 14,
   "id": "3281530b-196d-443f-a9d4-757daefc7a29",
   "metadata": {},
   "outputs": [
    {
     "data": {
      "text/plain": [
       "3.7416573867739413"
      ]
     },
     "execution_count": 14,
     "metadata": {},
     "output_type": "execute_result"
    }
   ],
   "source": [
    "np.linalg.norm(v1,2)"
   ]
  },
  {
   "cell_type": "code",
   "execution_count": 15,
   "id": "c582886c-3d27-4613-8550-32456debe4cb",
   "metadata": {},
   "outputs": [
    {
     "data": {
      "text/plain": [
       "3.3019272488946263"
      ]
     },
     "execution_count": 15,
     "metadata": {},
     "output_type": "execute_result"
    }
   ],
   "source": [
    "np.linalg.norm(v1,3)"
   ]
  },
  {
   "cell_type": "code",
   "execution_count": 16,
   "id": "256e00aa-af63-4ea7-83e9-9ccc65bde6f3",
   "metadata": {},
   "outputs": [
    {
     "data": {
      "text/plain": [
       "3.0"
      ]
     },
     "execution_count": 16,
     "metadata": {},
     "output_type": "execute_result"
    }
   ],
   "source": [
    "np.linalg.norm(v1, np.inf) # اكبر قيمه "
   ]
  },
  {
   "cell_type": "code",
   "execution_count": 17,
   "id": "d326afd8-e02e-4945-988b-887c954812a1",
   "metadata": {},
   "outputs": [],
   "source": [
    "arr = np.array([[1,3],\n",
    "                [6,7],\n",
    "                [5,4]])"
   ]
  },
  {
   "cell_type": "code",
   "execution_count": 18,
   "id": "933e36bb-4cb1-4ba7-96e2-fdef96276029",
   "metadata": {},
   "outputs": [
    {
     "data": {
      "text/plain": [
       "array([[1, 3],\n",
       "       [6, 7],\n",
       "       [5, 4]])"
      ]
     },
     "execution_count": 18,
     "metadata": {},
     "output_type": "execute_result"
    }
   ],
   "source": [
    "arr"
   ]
  },
  {
   "cell_type": "code",
   "execution_count": 19,
   "id": "7087a346-ec35-4d00-9806-4e96eb438e59",
   "metadata": {},
   "outputs": [
    {
     "data": {
      "text/plain": [
       "array([28, 29])"
      ]
     },
     "execution_count": 19,
     "metadata": {},
     "output_type": "execute_result"
    }
   ],
   "source": [
    "v1@arr"
   ]
  },
  {
   "cell_type": "code",
   "execution_count": 20,
   "id": "f70b301d-6d0f-4cf9-b556-0c0bed9f5c25",
   "metadata": {},
   "outputs": [
    {
     "data": {
      "text/plain": [
       "array([1, 2, 3])"
      ]
     },
     "execution_count": 20,
     "metadata": {},
     "output_type": "execute_result"
    }
   ],
   "source": [
    "v1"
   ]
  },
  {
   "cell_type": "code",
   "execution_count": 21,
   "id": "e5344df9-7917-4dd9-9aa1-b19d664dc14e",
   "metadata": {},
   "outputs": [
    {
     "data": {
      "text/plain": [
       "(3, 2)"
      ]
     },
     "execution_count": 21,
     "metadata": {},
     "output_type": "execute_result"
    }
   ],
   "source": [
    "arr.shape"
   ]
  },
  {
   "cell_type": "code",
   "execution_count": 22,
   "id": "adb8525d-f20b-420d-970d-998ab0a57c5d",
   "metadata": {},
   "outputs": [],
   "source": [
    "v3 = v1.reshape((3,1))"
   ]
  },
  {
   "cell_type": "code",
   "execution_count": 23,
   "id": "643e4272-85f9-4a46-9853-686dd5be40ab",
   "metadata": {},
   "outputs": [
    {
     "data": {
      "text/plain": [
       "array([[1],\n",
       "       [2],\n",
       "       [3]])"
      ]
     },
     "execution_count": 23,
     "metadata": {},
     "output_type": "execute_result"
    }
   ],
   "source": [
    "v3"
   ]
  },
  {
   "cell_type": "code",
   "execution_count": 24,
   "id": "72601971-db9a-4349-a469-294ec381e8f3",
   "metadata": {},
   "outputs": [
    {
     "data": {
      "text/plain": [
       "(3, 1)"
      ]
     },
     "execution_count": 24,
     "metadata": {},
     "output_type": "execute_result"
    }
   ],
   "source": [
    "v3.shape"
   ]
  },
  {
   "cell_type": "code",
   "execution_count": 26,
   "id": "b662d5bf-a440-42c8-b9df-424693919f03",
   "metadata": {},
   "outputs": [
    {
     "data": {
      "text/plain": [
       "array([[28, 29]])"
      ]
     },
     "execution_count": 26,
     "metadata": {},
     "output_type": "execute_result"
    }
   ],
   "source": [
    "v3.T@arr"
   ]
  },
  {
   "cell_type": "code",
   "execution_count": 27,
   "id": "e1c94186-713a-4053-9485-d68439fdd948",
   "metadata": {},
   "outputs": [],
   "source": [
    "arr_sq = arr @ arr.T"
   ]
  },
  {
   "cell_type": "code",
   "execution_count": 28,
   "id": "41af66ba-3828-4767-81cf-8bf0060e72cf",
   "metadata": {},
   "outputs": [],
   "source": [
    "import sympy as sm"
   ]
  },
  {
   "cell_type": "code",
   "execution_count": 29,
   "id": "500bc987-1a12-4986-b3fc-3863a34f5cec",
   "metadata": {},
   "outputs": [
    {
     "data": {
      "text/plain": [
       "array([[10, 27, 17],\n",
       "       [27, 85, 58],\n",
       "       [17, 58, 41]])"
      ]
     },
     "execution_count": 29,
     "metadata": {},
     "output_type": "execute_result"
    }
   ],
   "source": [
    "arr_sq"
   ]
  },
  {
   "cell_type": "code",
   "execution_count": 30,
   "id": "a240a5be-75c1-4f0e-827d-00f0bd02e69e",
   "metadata": {},
   "outputs": [],
   "source": [
    "M = sm.Matrix(arr_sq)"
   ]
  },
  {
   "cell_type": "code",
   "execution_count": 31,
   "id": "7c77941c-b3d9-4dc4-991f-130e2dd157de",
   "metadata": {},
   "outputs": [
    {
     "data": {
      "text/latex": [
       "$\\displaystyle \\left[\\begin{matrix}10 & 27 & 17\\\\27 & 85 & 58\\\\17 & 58 & 41\\end{matrix}\\right]$"
      ],
      "text/plain": [
       "Matrix([\n",
       "[10, 27, 17],\n",
       "[27, 85, 58],\n",
       "[17, 58, 41]])"
      ]
     },
     "execution_count": 31,
     "metadata": {},
     "output_type": "execute_result"
    }
   ],
   "source": [
    "M"
   ]
  },
  {
   "cell_type": "code",
   "execution_count": 32,
   "id": "c2cdc482-96cf-4880-9ca9-e79bfded46d7",
   "metadata": {},
   "outputs": [
    {
     "data": {
      "text/plain": [
       "(Matrix([\n",
       " [1, 0, -1],\n",
       " [0, 1,  1],\n",
       " [0, 0,  0]]),\n",
       " (0, 1))"
      ]
     },
     "execution_count": 32,
     "metadata": {},
     "output_type": "execute_result"
    }
   ],
   "source": [
    "M.rref()"
   ]
  },
  {
   "cell_type": "code",
   "execution_count": 33,
   "id": "de8caa0b-1eb8-4eb7-b885-b2fe0fc598d0",
   "metadata": {},
   "outputs": [
    {
     "data": {
      "text/plain": [
       "array([[10, 27, 17],\n",
       "       [27, 85, 58],\n",
       "       [17, 58, 41]])"
      ]
     },
     "execution_count": 33,
     "metadata": {},
     "output_type": "execute_result"
    }
   ],
   "source": [
    "arr_sq"
   ]
  },
  {
   "cell_type": "code",
   "execution_count": 36,
   "id": "edf5d825-9bcc-47ff-b5ea-fb638206e7b1",
   "metadata": {},
   "outputs": [
    {
     "data": {
      "text/plain": [
       "array([ 54, 170, 116])"
      ]
     },
     "execution_count": 36,
     "metadata": {},
     "output_type": "execute_result"
    }
   ],
   "source": [
    "arr_sq.sum(axis=0) # هيجمع رأسي "
   ]
  },
  {
   "cell_type": "code",
   "execution_count": 37,
   "id": "543ac4ae-c328-48a5-9306-58a7d43a95ca",
   "metadata": {},
   "outputs": [
    {
     "data": {
      "text/plain": [
       "array([ 54, 170, 116])"
      ]
     },
     "execution_count": 37,
     "metadata": {},
     "output_type": "execute_result"
    }
   ],
   "source": [
    "arr_sq.sum(axis=1) # هيجمع أفقي"
   ]
  }
 ],
 "metadata": {
  "kernelspec": {
   "display_name": "Python 3 (ipykernel)",
   "language": "python",
   "name": "python3"
  },
  "language_info": {
   "codemirror_mode": {
    "name": "ipython",
    "version": 3
   },
   "file_extension": ".py",
   "mimetype": "text/x-python",
   "name": "python",
   "nbconvert_exporter": "python",
   "pygments_lexer": "ipython3",
   "version": "3.11.7"
  }
 },
 "nbformat": 4,
 "nbformat_minor": 5
}
