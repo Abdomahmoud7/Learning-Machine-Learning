{
 "cells": [
  {
   "cell_type": "code",
   "execution_count": 1,
   "id": "5c2902ce-98b3-437c-80dd-3123b5b67e6f",
   "metadata": {},
   "outputs": [
    {
     "name": "stdin",
     "output_type": "stream",
     "text": [
      "Number?  7\n"
     ]
    },
    {
     "name": "stdout",
     "output_type": "stream",
     "text": [
      "35\n",
      "end\n"
     ]
    }
   ],
   "source": [
    "# مثال عام \n",
    "\n",
    "while True:\n",
    "    try:\n",
    "        n = input(\"Number? \")\n",
    "        n = int(n)\n",
    "        print(n*5)\n",
    "        break\n",
    "    except:\n",
    "        print(\"Wrong Format\")\n",
    "        break\n",
    "    finally:\n",
    "        print(\"end\")\n",
    "    "
   ]
  },
  {
   "cell_type": "code",
   "execution_count": 2,
   "id": "fbfe40ca-3ad1-4c80-9d18-9f1c4eef0558",
   "metadata": {},
   "outputs": [
    {
     "name": "stdin",
     "output_type": "stream",
     "text": [
      "Number?  dd\n"
     ]
    },
    {
     "name": "stdout",
     "output_type": "stream",
     "text": [
      "Wrong Format\n",
      "end\n"
     ]
    }
   ],
   "source": [
    "while True:\n",
    "    try:\n",
    "        n = input(\"Number? \")\n",
    "        n = int(n)\n",
    "        print(n*5)\n",
    "        break\n",
    "    except:\n",
    "        print(\"Wrong Format\")\n",
    "        break\n",
    "    finally:\n",
    "        print(\"end\")"
   ]
  },
  {
   "cell_type": "code",
   "execution_count": 3,
   "id": "1104ad19-e99f-4515-9d95-d8c4b7f9e11f",
   "metadata": {},
   "outputs": [
    {
     "name": "stdin",
     "output_type": "stream",
     "text": [
      "Number?  5\n"
     ]
    },
    {
     "name": "stdout",
     "output_type": "stream",
     "text": [
      "0.2\n"
     ]
    }
   ],
   "source": [
    "# مثال القسمه علي صفر \n",
    "\n",
    "z = int(input('Number? '))\n",
    "\n",
    "try:\n",
    "    x = 1 / z\n",
    "    print(x)\n",
    "except ZeroDivisionError as err:\n",
    "    print(\"Error message is:\", err)\n"
   ]
  },
  {
   "cell_type": "code",
   "execution_count": 4,
   "id": "94b4d4e0-9bb6-454f-acee-7b93224ec168",
   "metadata": {},
   "outputs": [
    {
     "name": "stdin",
     "output_type": "stream",
     "text": [
      "Number?  0\n"
     ]
    },
    {
     "name": "stdout",
     "output_type": "stream",
     "text": [
      "Error message is: division by zero\n"
     ]
    }
   ],
   "source": [
    "z = int(input('Number? '))\n",
    "\n",
    "try:\n",
    "    x = 1 / z\n",
    "    print(x)\n",
    "except ZeroDivisionError as err:\n",
    "    print(\"Error message is:\", err)"
   ]
  },
  {
   "cell_type": "markdown",
   "id": "985c99dd-7d81-4c1a-b1ee-086e205dad1e",
   "metadata": {},
   "source": [
    "<h1 style=\"text-align: center; font-size: 38px\">  Datetime </h1>  <br>"
   ]
  },
  {
   "cell_type": "code",
   "execution_count": 5,
   "id": "c55483e8-8307-4816-b069-4baae56df40f",
   "metadata": {},
   "outputs": [
    {
     "name": "stdout",
     "output_type": "stream",
     "text": [
      "2024-08-08\n"
     ]
    }
   ],
   "source": [
    "# لاظهار تاريخ اليوم \n",
    "\n",
    "from datetime import date\n",
    "\n",
    "now = date.today()\n",
    "\n",
    "print(now)"
   ]
  },
  {
   "cell_type": "code",
   "execution_count": 6,
   "id": "cde1b95a-89b3-400d-b66c-d1b889faed09",
   "metadata": {},
   "outputs": [
    {
     "name": "stdout",
     "output_type": "stream",
     "text": [
      "1982-02-02\n"
     ]
    }
   ],
   "source": [
    "# للتحويل من ارقام الي تاريخ \n",
    "\n",
    "a = date(1982, 2, 2)\n",
    "print(a)"
   ]
  },
  {
   "cell_type": "code",
   "execution_count": 7,
   "id": "052a7d6d-5815-474c-bbb9-749b6cb3be4a",
   "metadata": {},
   "outputs": [
    {
     "name": "stdout",
     "output_type": "stream",
     "text": [
      "3142 days, 0:00:00\n"
     ]
    }
   ],
   "source": [
    "# لحساب عدد الايام من تاريخ معين الي اليوم \n",
    "\n",
    "now = date.today()\n",
    "\n",
    "a = date(2016, 1, 1)\n",
    "\n",
    "z = now - a\n",
    "\n",
    "print(z)"
   ]
  },
  {
   "cell_type": "code",
   "execution_count": 8,
   "id": "7ef77c11-f631-4bfa-942e-c0d19cd491be",
   "metadata": {},
   "outputs": [
    {
     "name": "stdout",
     "output_type": "stream",
     "text": [
      "2024-08-08 11:33:00\n",
      "2002-06-01 01:00:00\n",
      "8104 days, 10:33:00\n"
     ]
    }
   ],
   "source": [
    "# مع الوقت \n",
    "\n",
    "from datetime import datetime\n",
    "\n",
    "a = datetime(year=2024, month=8, day=8,  hour=11, minute=33, second=0)\n",
    "\n",
    "b = datetime(year=2002, month=6, day=1,  hour=1, minute=0, second=0)\n",
    "\n",
    "print(a)\n",
    "print(b)\n",
    "print(a-b)"
   ]
  },
  {
   "cell_type": "code",
   "execution_count": 12,
   "id": "699c19a5-af9f-48c5-bf1b-fb0842da6a1f",
   "metadata": {},
   "outputs": [
    {
     "name": "stdout",
     "output_type": "stream",
     "text": [
      "time.struct_time(tm_year=2024, tm_mon=8, tm_mday=8, tm_hour=20, tm_min=34, tm_sec=5, tm_wday=3, tm_yday=221, tm_isdst=0)\n"
     ]
    }
   ],
   "source": [
    "# مكتبة time تأتي بالوقت والتاريخ بدقه \n",
    "\n",
    "import time\n",
    "\n",
    "t = time.gmtime()\n",
    "\n",
    "print(t)"
   ]
  }
 ],
 "metadata": {
  "kernelspec": {
   "display_name": "Python 3 (ipykernel)",
   "language": "python",
   "name": "python3"
  },
  "language_info": {
   "codemirror_mode": {
    "name": "ipython",
    "version": 3
   },
   "file_extension": ".py",
   "mimetype": "text/x-python",
   "name": "python",
   "nbconvert_exporter": "python",
   "pygments_lexer": "ipython3",
   "version": "3.11.7"
  }
 },
 "nbformat": 4,
 "nbformat_minor": 5
}
